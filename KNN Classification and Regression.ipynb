{
 "cells": [
  {
   "cell_type": "markdown",
   "id": "bba45156",
   "metadata": {},
   "source": [
    "### Problem Statement\n",
    "\n",
    "1. Apply Linear Regreesion and KNN Regression for comparing that which algorithm is better for this datasets\n",
    "2. Apply KNN Classifier on this datasets to predict gender based on Heigh and weight\n",
    "3. Compare Accuracy of KNN classifier with tuning and without tuning.\n"
   ]
  },
  {
   "cell_type": "code",
   "execution_count": 1,
   "id": "1f7d72df",
   "metadata": {},
   "outputs": [],
   "source": [
    "import pandas as pd\n",
    "import matplotlib.pyplot as plt\n",
    "import seaborn as sns"
   ]
  },
  {
   "cell_type": "code",
   "execution_count": 2,
   "id": "3003ca1b",
   "metadata": {},
   "outputs": [],
   "source": [
    "df =pd.read_csv(\"weight-height.csv\")"
   ]
  },
  {
   "cell_type": "code",
   "execution_count": 3,
   "id": "64a3f93e",
   "metadata": {},
   "outputs": [
    {
     "data": {
      "text/html": [
       "<div>\n",
       "<style scoped>\n",
       "    .dataframe tbody tr th:only-of-type {\n",
       "        vertical-align: middle;\n",
       "    }\n",
       "\n",
       "    .dataframe tbody tr th {\n",
       "        vertical-align: top;\n",
       "    }\n",
       "\n",
       "    .dataframe thead th {\n",
       "        text-align: right;\n",
       "    }\n",
       "</style>\n",
       "<table border=\"1\" class=\"dataframe\">\n",
       "  <thead>\n",
       "    <tr style=\"text-align: right;\">\n",
       "      <th></th>\n",
       "      <th>Gender</th>\n",
       "      <th>Height</th>\n",
       "      <th>Weight</th>\n",
       "    </tr>\n",
       "  </thead>\n",
       "  <tbody>\n",
       "    <tr>\n",
       "      <th>0</th>\n",
       "      <td>Male</td>\n",
       "      <td>73.847017</td>\n",
       "      <td>241.893563</td>\n",
       "    </tr>\n",
       "    <tr>\n",
       "      <th>1</th>\n",
       "      <td>Male</td>\n",
       "      <td>68.781904</td>\n",
       "      <td>162.310473</td>\n",
       "    </tr>\n",
       "    <tr>\n",
       "      <th>2</th>\n",
       "      <td>Male</td>\n",
       "      <td>74.110105</td>\n",
       "      <td>212.740856</td>\n",
       "    </tr>\n",
       "    <tr>\n",
       "      <th>3</th>\n",
       "      <td>Male</td>\n",
       "      <td>71.730978</td>\n",
       "      <td>220.042470</td>\n",
       "    </tr>\n",
       "    <tr>\n",
       "      <th>4</th>\n",
       "      <td>Male</td>\n",
       "      <td>69.881796</td>\n",
       "      <td>206.349801</td>\n",
       "    </tr>\n",
       "    <tr>\n",
       "      <th>...</th>\n",
       "      <td>...</td>\n",
       "      <td>...</td>\n",
       "      <td>...</td>\n",
       "    </tr>\n",
       "    <tr>\n",
       "      <th>8550</th>\n",
       "      <td>Female</td>\n",
       "      <td>60.483946</td>\n",
       "      <td>110.565497</td>\n",
       "    </tr>\n",
       "    <tr>\n",
       "      <th>8551</th>\n",
       "      <td>Female</td>\n",
       "      <td>63.423372</td>\n",
       "      <td>129.921671</td>\n",
       "    </tr>\n",
       "    <tr>\n",
       "      <th>8552</th>\n",
       "      <td>Female</td>\n",
       "      <td>65.584057</td>\n",
       "      <td>155.942671</td>\n",
       "    </tr>\n",
       "    <tr>\n",
       "      <th>8553</th>\n",
       "      <td>Female</td>\n",
       "      <td>67.429971</td>\n",
       "      <td>151.678405</td>\n",
       "    </tr>\n",
       "    <tr>\n",
       "      <th>8554</th>\n",
       "      <td>Female</td>\n",
       "      <td>60.921791</td>\n",
       "      <td>131.253738</td>\n",
       "    </tr>\n",
       "  </tbody>\n",
       "</table>\n",
       "<p>8555 rows × 3 columns</p>\n",
       "</div>"
      ],
      "text/plain": [
       "      Gender     Height      Weight\n",
       "0       Male  73.847017  241.893563\n",
       "1       Male  68.781904  162.310473\n",
       "2       Male  74.110105  212.740856\n",
       "3       Male  71.730978  220.042470\n",
       "4       Male  69.881796  206.349801\n",
       "...      ...        ...         ...\n",
       "8550  Female  60.483946  110.565497\n",
       "8551  Female  63.423372  129.921671\n",
       "8552  Female  65.584057  155.942671\n",
       "8553  Female  67.429971  151.678405\n",
       "8554  Female  60.921791  131.253738\n",
       "\n",
       "[8555 rows x 3 columns]"
      ]
     },
     "execution_count": 3,
     "metadata": {},
     "output_type": "execute_result"
    }
   ],
   "source": [
    "df "
   ]
  },
  {
   "cell_type": "markdown",
   "id": "c1994efb",
   "metadata": {},
   "source": [
    "# Encoding"
   ]
  },
  {
   "cell_type": "code",
   "execution_count": 4,
   "id": "1e1e81f8",
   "metadata": {},
   "outputs": [],
   "source": [
    "from sklearn.preprocessing import LabelEncoder"
   ]
  },
  {
   "cell_type": "code",
   "execution_count": 5,
   "id": "2390cf01",
   "metadata": {},
   "outputs": [],
   "source": [
    "le= LabelEncoder()"
   ]
  },
  {
   "cell_type": "code",
   "execution_count": 6,
   "id": "05c072c7",
   "metadata": {},
   "outputs": [
    {
     "name": "stderr",
     "output_type": "stream",
     "text": [
      "C:\\Users\\Binu\\anaconda3\\lib\\site-packages\\sklearn\\utils\\validation.py:63: DataConversionWarning: A column-vector y was passed when a 1d array was expected. Please change the shape of y to (n_samples, ), for example using ravel().\n",
      "  return f(*args, **kwargs)\n"
     ]
    }
   ],
   "source": [
    "df.Gender = le.fit_transform(df[[\"Gender\"]])"
   ]
  },
  {
   "cell_type": "code",
   "execution_count": 7,
   "id": "6fa72b48",
   "metadata": {},
   "outputs": [
    {
     "data": {
      "text/html": [
       "<div>\n",
       "<style scoped>\n",
       "    .dataframe tbody tr th:only-of-type {\n",
       "        vertical-align: middle;\n",
       "    }\n",
       "\n",
       "    .dataframe tbody tr th {\n",
       "        vertical-align: top;\n",
       "    }\n",
       "\n",
       "    .dataframe thead th {\n",
       "        text-align: right;\n",
       "    }\n",
       "</style>\n",
       "<table border=\"1\" class=\"dataframe\">\n",
       "  <thead>\n",
       "    <tr style=\"text-align: right;\">\n",
       "      <th></th>\n",
       "      <th>Gender</th>\n",
       "      <th>Height</th>\n",
       "      <th>Weight</th>\n",
       "    </tr>\n",
       "  </thead>\n",
       "  <tbody>\n",
       "    <tr>\n",
       "      <th>0</th>\n",
       "      <td>1</td>\n",
       "      <td>73.847017</td>\n",
       "      <td>241.893563</td>\n",
       "    </tr>\n",
       "    <tr>\n",
       "      <th>1</th>\n",
       "      <td>1</td>\n",
       "      <td>68.781904</td>\n",
       "      <td>162.310473</td>\n",
       "    </tr>\n",
       "    <tr>\n",
       "      <th>2</th>\n",
       "      <td>1</td>\n",
       "      <td>74.110105</td>\n",
       "      <td>212.740856</td>\n",
       "    </tr>\n",
       "    <tr>\n",
       "      <th>3</th>\n",
       "      <td>1</td>\n",
       "      <td>71.730978</td>\n",
       "      <td>220.042470</td>\n",
       "    </tr>\n",
       "    <tr>\n",
       "      <th>4</th>\n",
       "      <td>1</td>\n",
       "      <td>69.881796</td>\n",
       "      <td>206.349801</td>\n",
       "    </tr>\n",
       "  </tbody>\n",
       "</table>\n",
       "</div>"
      ],
      "text/plain": [
       "   Gender     Height      Weight\n",
       "0       1  73.847017  241.893563\n",
       "1       1  68.781904  162.310473\n",
       "2       1  74.110105  212.740856\n",
       "3       1  71.730978  220.042470\n",
       "4       1  69.881796  206.349801"
      ]
     },
     "execution_count": 7,
     "metadata": {},
     "output_type": "execute_result"
    }
   ],
   "source": [
    "df.head()"
   ]
  },
  {
   "cell_type": "code",
   "execution_count": 8,
   "id": "584e9f80",
   "metadata": {},
   "outputs": [
    {
     "data": {
      "text/plain": [
       "Gender    0\n",
       "Height    0\n",
       "Weight    0\n",
       "dtype: int64"
      ]
     },
     "execution_count": 8,
     "metadata": {},
     "output_type": "execute_result"
    }
   ],
   "source": [
    "df.isnull().sum()"
   ]
  },
  {
   "cell_type": "code",
   "execution_count": 9,
   "id": "2bd35b2b",
   "metadata": {},
   "outputs": [],
   "source": [
    "x = df.drop([\"Weight\"], axis=1)"
   ]
  },
  {
   "cell_type": "code",
   "execution_count": 10,
   "id": "0c200540",
   "metadata": {},
   "outputs": [
    {
     "data": {
      "text/html": [
       "<div>\n",
       "<style scoped>\n",
       "    .dataframe tbody tr th:only-of-type {\n",
       "        vertical-align: middle;\n",
       "    }\n",
       "\n",
       "    .dataframe tbody tr th {\n",
       "        vertical-align: top;\n",
       "    }\n",
       "\n",
       "    .dataframe thead th {\n",
       "        text-align: right;\n",
       "    }\n",
       "</style>\n",
       "<table border=\"1\" class=\"dataframe\">\n",
       "  <thead>\n",
       "    <tr style=\"text-align: right;\">\n",
       "      <th></th>\n",
       "      <th>Gender</th>\n",
       "      <th>Height</th>\n",
       "    </tr>\n",
       "  </thead>\n",
       "  <tbody>\n",
       "    <tr>\n",
       "      <th>0</th>\n",
       "      <td>1</td>\n",
       "      <td>73.847017</td>\n",
       "    </tr>\n",
       "    <tr>\n",
       "      <th>1</th>\n",
       "      <td>1</td>\n",
       "      <td>68.781904</td>\n",
       "    </tr>\n",
       "    <tr>\n",
       "      <th>2</th>\n",
       "      <td>1</td>\n",
       "      <td>74.110105</td>\n",
       "    </tr>\n",
       "    <tr>\n",
       "      <th>3</th>\n",
       "      <td>1</td>\n",
       "      <td>71.730978</td>\n",
       "    </tr>\n",
       "    <tr>\n",
       "      <th>4</th>\n",
       "      <td>1</td>\n",
       "      <td>69.881796</td>\n",
       "    </tr>\n",
       "    <tr>\n",
       "      <th>...</th>\n",
       "      <td>...</td>\n",
       "      <td>...</td>\n",
       "    </tr>\n",
       "    <tr>\n",
       "      <th>8550</th>\n",
       "      <td>0</td>\n",
       "      <td>60.483946</td>\n",
       "    </tr>\n",
       "    <tr>\n",
       "      <th>8551</th>\n",
       "      <td>0</td>\n",
       "      <td>63.423372</td>\n",
       "    </tr>\n",
       "    <tr>\n",
       "      <th>8552</th>\n",
       "      <td>0</td>\n",
       "      <td>65.584057</td>\n",
       "    </tr>\n",
       "    <tr>\n",
       "      <th>8553</th>\n",
       "      <td>0</td>\n",
       "      <td>67.429971</td>\n",
       "    </tr>\n",
       "    <tr>\n",
       "      <th>8554</th>\n",
       "      <td>0</td>\n",
       "      <td>60.921791</td>\n",
       "    </tr>\n",
       "  </tbody>\n",
       "</table>\n",
       "<p>8555 rows × 2 columns</p>\n",
       "</div>"
      ],
      "text/plain": [
       "      Gender     Height\n",
       "0          1  73.847017\n",
       "1          1  68.781904\n",
       "2          1  74.110105\n",
       "3          1  71.730978\n",
       "4          1  69.881796\n",
       "...      ...        ...\n",
       "8550       0  60.483946\n",
       "8551       0  63.423372\n",
       "8552       0  65.584057\n",
       "8553       0  67.429971\n",
       "8554       0  60.921791\n",
       "\n",
       "[8555 rows x 2 columns]"
      ]
     },
     "execution_count": 10,
     "metadata": {},
     "output_type": "execute_result"
    }
   ],
   "source": [
    " x"
   ]
  },
  {
   "cell_type": "code",
   "execution_count": 11,
   "id": "233a9a5a",
   "metadata": {},
   "outputs": [],
   "source": [
    "y =df[\"Weight\"]"
   ]
  },
  {
   "cell_type": "code",
   "execution_count": 12,
   "id": "138a4db4",
   "metadata": {},
   "outputs": [
    {
     "data": {
      "text/plain": [
       "0       241.893563\n",
       "1       162.310473\n",
       "2       212.740856\n",
       "3       220.042470\n",
       "4       206.349801\n",
       "           ...    \n",
       "8550    110.565497\n",
       "8551    129.921671\n",
       "8552    155.942671\n",
       "8553    151.678405\n",
       "8554    131.253738\n",
       "Name: Weight, Length: 8555, dtype: float64"
      ]
     },
     "execution_count": 12,
     "metadata": {},
     "output_type": "execute_result"
    }
   ],
   "source": [
    "y"
   ]
  },
  {
   "cell_type": "markdown",
   "id": "6485bfdc",
   "metadata": {},
   "source": [
    "# train test split"
   ]
  },
  {
   "cell_type": "code",
   "execution_count": 13,
   "id": "c582f339",
   "metadata": {},
   "outputs": [],
   "source": [
    "from sklearn.model_selection import train_test_split"
   ]
  },
  {
   "cell_type": "code",
   "execution_count": 14,
   "id": "a53abf22",
   "metadata": {},
   "outputs": [],
   "source": [
    "xtrain,xtest,ytrain,ytest =train_test_split(x,y,test_size=0.3, random_state=1)\n",
    " "
   ]
  },
  {
   "cell_type": "code",
   "execution_count": 15,
   "id": "17030025",
   "metadata": {},
   "outputs": [
    {
     "data": {
      "text/plain": [
       "(5988, 2)"
      ]
     },
     "execution_count": 15,
     "metadata": {},
     "output_type": "execute_result"
    }
   ],
   "source": [
    "xtrain.shape"
   ]
  },
  {
   "cell_type": "code",
   "execution_count": 16,
   "id": "dacc6ff0",
   "metadata": {},
   "outputs": [
    {
     "data": {
      "text/plain": [
       "(5988,)"
      ]
     },
     "execution_count": 16,
     "metadata": {},
     "output_type": "execute_result"
    }
   ],
   "source": [
    "ytrain.shape"
   ]
  },
  {
   "cell_type": "code",
   "execution_count": 17,
   "id": "01121814",
   "metadata": {},
   "outputs": [
    {
     "data": {
      "text/plain": [
       "(2567, 2)"
      ]
     },
     "execution_count": 17,
     "metadata": {},
     "output_type": "execute_result"
    }
   ],
   "source": [
    "xtest.shape"
   ]
  },
  {
   "cell_type": "code",
   "execution_count": 18,
   "id": "10f272e7",
   "metadata": {},
   "outputs": [
    {
     "data": {
      "text/plain": [
       "(2567,)"
      ]
     },
     "execution_count": 18,
     "metadata": {},
     "output_type": "execute_result"
    }
   ],
   "source": [
    "ytest.shape"
   ]
  },
  {
   "cell_type": "markdown",
   "id": "d053a6c3",
   "metadata": {},
   "source": [
    "# Linear Regression"
   ]
  },
  {
   "cell_type": "code",
   "execution_count": 19,
   "id": "ad0986b3",
   "metadata": {},
   "outputs": [],
   "source": [
    "from sklearn.linear_model import LinearRegression"
   ]
  },
  {
   "cell_type": "code",
   "execution_count": 20,
   "id": "df1e9e71",
   "metadata": {},
   "outputs": [],
   "source": [
    "Lin= LinearRegression()"
   ]
  },
  {
   "cell_type": "code",
   "execution_count": 21,
   "id": "cbe63fd0",
   "metadata": {},
   "outputs": [
    {
     "data": {
      "text/plain": [
       "LinearRegression()"
      ]
     },
     "execution_count": 21,
     "metadata": {},
     "output_type": "execute_result"
    }
   ],
   "source": [
    "Lin"
   ]
  },
  {
   "cell_type": "code",
   "execution_count": 22,
   "id": "1039339d",
   "metadata": {},
   "outputs": [
    {
     "data": {
      "text/plain": [
       "LinearRegression()"
      ]
     },
     "execution_count": 22,
     "metadata": {},
     "output_type": "execute_result"
    }
   ],
   "source": [
    "Lin.fit(xtrain,ytrain)"
   ]
  },
  {
   "cell_type": "code",
   "execution_count": 23,
   "id": "771a0d46",
   "metadata": {},
   "outputs": [
    {
     "data": {
      "text/plain": [
       "2"
      ]
     },
     "execution_count": 23,
     "metadata": {},
     "output_type": "execute_result"
    }
   ],
   "source": [
    "xtest.ndim"
   ]
  },
  {
   "cell_type": "code",
   "execution_count": 24,
   "id": "9415c89e",
   "metadata": {},
   "outputs": [],
   "source": [
    "df[\"New Y\"] = Lin.predict(x)"
   ]
  },
  {
   "cell_type": "code",
   "execution_count": 25,
   "id": "16fdbbe6",
   "metadata": {},
   "outputs": [
    {
     "data": {
      "text/html": [
       "<div>\n",
       "<style scoped>\n",
       "    .dataframe tbody tr th:only-of-type {\n",
       "        vertical-align: middle;\n",
       "    }\n",
       "\n",
       "    .dataframe tbody tr th {\n",
       "        vertical-align: top;\n",
       "    }\n",
       "\n",
       "    .dataframe thead th {\n",
       "        text-align: right;\n",
       "    }\n",
       "</style>\n",
       "<table border=\"1\" class=\"dataframe\">\n",
       "  <thead>\n",
       "    <tr style=\"text-align: right;\">\n",
       "      <th></th>\n",
       "      <th>Gender</th>\n",
       "      <th>Height</th>\n",
       "      <th>Weight</th>\n",
       "      <th>New Y</th>\n",
       "    </tr>\n",
       "  </thead>\n",
       "  <tbody>\n",
       "    <tr>\n",
       "      <th>0</th>\n",
       "      <td>1</td>\n",
       "      <td>73.847017</td>\n",
       "      <td>241.893563</td>\n",
       "      <td>215.574352</td>\n",
       "    </tr>\n",
       "    <tr>\n",
       "      <th>1</th>\n",
       "      <td>1</td>\n",
       "      <td>68.781904</td>\n",
       "      <td>162.310473</td>\n",
       "      <td>185.341329</td>\n",
       "    </tr>\n",
       "    <tr>\n",
       "      <th>2</th>\n",
       "      <td>1</td>\n",
       "      <td>74.110105</td>\n",
       "      <td>212.740856</td>\n",
       "      <td>217.144694</td>\n",
       "    </tr>\n",
       "    <tr>\n",
       "      <th>3</th>\n",
       "      <td>1</td>\n",
       "      <td>71.730978</td>\n",
       "      <td>220.042470</td>\n",
       "      <td>202.943984</td>\n",
       "    </tr>\n",
       "    <tr>\n",
       "      <th>4</th>\n",
       "      <td>1</td>\n",
       "      <td>69.881796</td>\n",
       "      <td>206.349801</td>\n",
       "      <td>191.906445</td>\n",
       "    </tr>\n",
       "    <tr>\n",
       "      <th>...</th>\n",
       "      <td>...</td>\n",
       "      <td>...</td>\n",
       "      <td>...</td>\n",
       "      <td>...</td>\n",
       "    </tr>\n",
       "    <tr>\n",
       "      <th>8550</th>\n",
       "      <td>0</td>\n",
       "      <td>60.483946</td>\n",
       "      <td>110.565497</td>\n",
       "      <td>116.468265</td>\n",
       "    </tr>\n",
       "    <tr>\n",
       "      <th>8551</th>\n",
       "      <td>0</td>\n",
       "      <td>63.423372</td>\n",
       "      <td>129.921671</td>\n",
       "      <td>134.013329</td>\n",
       "    </tr>\n",
       "    <tr>\n",
       "      <th>8552</th>\n",
       "      <td>0</td>\n",
       "      <td>65.584057</td>\n",
       "      <td>155.942671</td>\n",
       "      <td>146.910187</td>\n",
       "    </tr>\n",
       "    <tr>\n",
       "      <th>8553</th>\n",
       "      <td>0</td>\n",
       "      <td>67.429971</td>\n",
       "      <td>151.678405</td>\n",
       "      <td>157.928220</td>\n",
       "    </tr>\n",
       "    <tr>\n",
       "      <th>8554</th>\n",
       "      <td>0</td>\n",
       "      <td>60.921791</td>\n",
       "      <td>131.253738</td>\n",
       "      <td>119.081708</td>\n",
       "    </tr>\n",
       "  </tbody>\n",
       "</table>\n",
       "<p>8555 rows × 4 columns</p>\n",
       "</div>"
      ],
      "text/plain": [
       "      Gender     Height      Weight       New Y\n",
       "0          1  73.847017  241.893563  215.574352\n",
       "1          1  68.781904  162.310473  185.341329\n",
       "2          1  74.110105  212.740856  217.144694\n",
       "3          1  71.730978  220.042470  202.943984\n",
       "4          1  69.881796  206.349801  191.906445\n",
       "...      ...        ...         ...         ...\n",
       "8550       0  60.483946  110.565497  116.468265\n",
       "8551       0  63.423372  129.921671  134.013329\n",
       "8552       0  65.584057  155.942671  146.910187\n",
       "8553       0  67.429971  151.678405  157.928220\n",
       "8554       0  60.921791  131.253738  119.081708\n",
       "\n",
       "[8555 rows x 4 columns]"
      ]
     },
     "execution_count": 25,
     "metadata": {},
     "output_type": "execute_result"
    }
   ],
   "source": [
    "df"
   ]
  },
  {
   "cell_type": "code",
   "execution_count": 26,
   "id": "21b601da",
   "metadata": {},
   "outputs": [],
   "source": [
    "pred =Lin.predict(xtest)"
   ]
  },
  {
   "cell_type": "markdown",
   "id": "89fc2b45",
   "metadata": {},
   "source": [
    "# Model Evaluation"
   ]
  },
  {
   "cell_type": "code",
   "execution_count": 27,
   "id": "6edf25ac",
   "metadata": {},
   "outputs": [
    {
     "data": {
      "text/plain": [
       "0.9059959607091161"
      ]
     },
     "execution_count": 27,
     "metadata": {},
     "output_type": "execute_result"
    }
   ],
   "source": [
    "Lin.score(xtest,ytest)"
   ]
  },
  {
   "cell_type": "code",
   "execution_count": 28,
   "id": "d64bae08",
   "metadata": {},
   "outputs": [],
   "source": [
    "from sklearn.metrics import mean_squared_error\n",
    " "
   ]
  },
  {
   "cell_type": "code",
   "execution_count": 29,
   "id": "fbc82347",
   "metadata": {},
   "outputs": [],
   "source": [
    "mse = mean_squared_error(ytest,pred)"
   ]
  },
  {
   "cell_type": "code",
   "execution_count": 30,
   "id": "2ef621f3",
   "metadata": {},
   "outputs": [
    {
     "data": {
      "text/plain": [
       "99.67250998070031"
      ]
     },
     "execution_count": 30,
     "metadata": {},
     "output_type": "execute_result"
    }
   ],
   "source": [
    "mse"
   ]
  },
  {
   "cell_type": "code",
   "execution_count": 31,
   "id": "7663f5c6",
   "metadata": {},
   "outputs": [
    {
     "data": {
      "text/plain": [
       "array([118.35475352])"
      ]
     },
     "execution_count": 31,
     "metadata": {},
     "output_type": "execute_result"
    }
   ],
   "source": [
    "Lin.predict([[0,60.80]])"
   ]
  },
  {
   "cell_type": "markdown",
   "id": "37a12bc3",
   "metadata": {},
   "source": [
    "# KNN Regression"
   ]
  },
  {
   "cell_type": "code",
   "execution_count": 32,
   "id": "0ce3e390",
   "metadata": {},
   "outputs": [],
   "source": [
    "from sklearn.neighbors import KNeighborsRegressor"
   ]
  },
  {
   "cell_type": "code",
   "execution_count": 33,
   "id": "2f3884f2",
   "metadata": {},
   "outputs": [],
   "source": [
    "neigh =KNeighborsRegressor(n_neighbors=5) #n_neighbors=5,"
   ]
  },
  {
   "cell_type": "code",
   "execution_count": 34,
   "id": "28136654",
   "metadata": {},
   "outputs": [
    {
     "data": {
      "text/plain": [
       "KNeighborsRegressor()"
      ]
     },
     "execution_count": 34,
     "metadata": {},
     "output_type": "execute_result"
    }
   ],
   "source": [
    "neigh.fit(xtrain,ytrain)"
   ]
  },
  {
   "cell_type": "code",
   "execution_count": 35,
   "id": "e9cb1927",
   "metadata": {},
   "outputs": [
    {
     "data": {
      "text/plain": [
       "0.8838502073708883"
      ]
     },
     "execution_count": 35,
     "metadata": {},
     "output_type": "execute_result"
    }
   ],
   "source": [
    "neigh.score(xtest,ytest)"
   ]
  },
  {
   "cell_type": "markdown",
   "id": "730c6dc7",
   "metadata": {},
   "source": [
    "# Tuning"
   ]
  },
  {
   "cell_type": "code",
   "execution_count": 36,
   "id": "bf2909ab",
   "metadata": {},
   "outputs": [],
   "source": [
    " import numpy as np"
   ]
  },
  {
   "cell_type": "code",
   "execution_count": 37,
   "id": "04b401b4",
   "metadata": {},
   "outputs": [
    {
     "name": "stdout",
     "output_type": "stream",
     "text": [
      "{'n_neighbors': [10, 16, 22, 29, 35, 42, 48, 55, 61, 67, 74, 80, 87, 93, 100], 'weights': ['uniform', 'distance']}\n"
     ]
    }
   ],
   "source": [
    "n_neighbors = [int(x) for x in np.linspace(10,100,15)]\n",
    "\n",
    "weights = ['uniform', 'distance']\n",
    "\n",
    " \n",
    "\n",
    " \n",
    "# Create ids\n",
    "grids = {'n_neighbors': n_neighbors,\n",
    "         \n",
    " \n",
    "               'weights': weights,\n",
    "               \n",
    "               }\n",
    "print(grids) "
   ]
  },
  {
   "cell_type": "code",
   "execution_count": 38,
   "id": "1066882e",
   "metadata": {},
   "outputs": [],
   "source": [
    " from sklearn.model_selection import RandomizedSearchCV "
   ]
  },
  {
   "cell_type": "code",
   "execution_count": 39,
   "id": "1bf4ddb2",
   "metadata": {},
   "outputs": [],
   "source": [
    " rnf=KNeighborsRegressor() "
   ]
  },
  {
   "cell_type": "code",
   "execution_count": 40,
   "id": "93c06edb",
   "metadata": {},
   "outputs": [],
   "source": [
    "rmcv = RandomizedSearchCV(estimator=rnf, param_distributions=grids, n_iter=100, cv=5, random_state=0, n_jobs =1) "
   ]
  },
  {
   "cell_type": "code",
   "execution_count": 41,
   "id": "cc06c897",
   "metadata": {},
   "outputs": [
    {
     "data": {
      "text/plain": [
       "RandomizedSearchCV(cv=5, estimator=KNeighborsRegressor(), n_iter=100, n_jobs=1,\n",
       "                   param_distributions={'n_neighbors': [10, 16, 22, 29, 35, 42,\n",
       "                                                        48, 55, 61, 67, 74, 80,\n",
       "                                                        87, 93, 100],\n",
       "                                        'weights': ['uniform', 'distance']},\n",
       "                   random_state=0)"
      ]
     },
     "execution_count": 41,
     "metadata": {},
     "output_type": "execute_result"
    }
   ],
   "source": [
    "rmcv"
   ]
  },
  {
   "cell_type": "code",
   "execution_count": 42,
   "id": "a340bf52",
   "metadata": {},
   "outputs": [
    {
     "name": "stderr",
     "output_type": "stream",
     "text": [
      "C:\\Users\\Binu\\anaconda3\\lib\\site-packages\\sklearn\\model_selection\\_search.py:285: UserWarning: The total space of parameters 30 is smaller than n_iter=100. Running 30 iterations. For exhaustive searches, use GridSearchCV.\n",
      "  warnings.warn(\n"
     ]
    },
    {
     "data": {
      "text/plain": [
       "RandomizedSearchCV(cv=5, estimator=KNeighborsRegressor(), n_iter=100, n_jobs=1,\n",
       "                   param_distributions={'n_neighbors': [10, 16, 22, 29, 35, 42,\n",
       "                                                        48, 55, 61, 67, 74, 80,\n",
       "                                                        87, 93, 100],\n",
       "                                        'weights': ['uniform', 'distance']},\n",
       "                   random_state=0)"
      ]
     },
     "execution_count": 42,
     "metadata": {},
     "output_type": "execute_result"
    }
   ],
   "source": [
    "rmcv.fit(xtrain,ytrain) "
   ]
  },
  {
   "cell_type": "code",
   "execution_count": 43,
   "id": "44e51e84",
   "metadata": {},
   "outputs": [
    {
     "data": {
      "text/plain": [
       "{'weights': 'uniform', 'n_neighbors': 48}"
      ]
     },
     "execution_count": 43,
     "metadata": {},
     "output_type": "execute_result"
    }
   ],
   "source": [
    "rmcv.best_params_"
   ]
  },
  {
   "cell_type": "code",
   "execution_count": 44,
   "id": "bccda930",
   "metadata": {},
   "outputs": [
    {
     "data": {
      "text/plain": [
       "{'mean_fit_time': array([0.01250601, 0.01236315, 0.01044712, 0.01249771, 0.00937219,\n",
       "        0.00624814, 0.01249795, 0.01562338, 0.00924807, 0.00946026,\n",
       "        0.00624871, 0.00937986, 0.00937328, 0.01562109, 0.01651745,\n",
       "        0.0035521 , 0.00624781, 0.00937281, 0.0093729 , 0.00624843,\n",
       "        0.01250467, 0.00937338, 0.00624876, 0.00937347, 0.00937428,\n",
       "        0.0062501 , 0.00936718, 0.00312467, 0.00624957, 0.        ]),\n",
       " 'std_fit_time': array([1.17035284e-02, 6.18690441e-03, 5.72077293e-03, 6.24885603e-03,\n",
       "        7.65235957e-03, 7.65237783e-03, 6.24897523e-03, 2.27386837e-06,\n",
       "        5.94308835e-03, 5.95134965e-03, 7.65307865e-03, 7.65863924e-03,\n",
       "        7.65325404e-03, 7.32531142e-07, 1.79455340e-03, 6.09295171e-03,\n",
       "        7.65196921e-03, 7.65286451e-03, 7.65294237e-03, 7.65275882e-03,\n",
       "        6.25234685e-03, 7.65333240e-03, 7.65313704e-03, 7.65340959e-03,\n",
       "        7.65407155e-03, 7.65477254e-03, 7.64827984e-03, 6.24933243e-03,\n",
       "        7.65412998e-03, 0.00000000e+00]),\n",
       " 'mean_score_time': array([0.01249437, 0.00923829, 0.00925922, 0.00937285, 0.01249809,\n",
       "        0.01562047, 0.00937276, 0.01140494, 0.01236615, 0.01805806,\n",
       "        0.01561389, 0.01561432, 0.01874609, 0.01562014, 0.01689348,\n",
       "        0.02499514, 0.0249949 , 0.02499413, 0.02499366, 0.02499514,\n",
       "        0.0249867 , 0.02811642, 0.03124256, 0.03124275, 0.03124051,\n",
       "        0.03749094, 0.03437109, 0.03882842, 0.03437204, 0.04686484]),\n",
       " 'std_score_time': array([6.24718834e-03, 8.02554888e-03, 6.52046171e-03, 7.65290398e-03,\n",
       "        6.24904999e-03, 2.28981155e-05, 7.65282584e-03, 1.00257980e-02,\n",
       "        6.18917436e-03, 4.68937144e-03, 1.13799363e-05, 1.81658061e-05,\n",
       "        6.24837916e-03, 2.01516596e-06, 2.52424329e-03, 7.63766206e-03,\n",
       "        7.65411457e-03, 7.65268933e-03, 7.65191066e-03, 7.65058779e-03,\n",
       "        7.64711145e-03, 6.24800222e-03, 5.07198754e-06, 2.08032199e-05,\n",
       "        2.30235824e-05, 7.64327791e-03, 6.24338473e-03, 7.00126195e-03,\n",
       "        6.26339962e-03, 4.04497338e-06]),\n",
       " 'param_weights': masked_array(data=['uniform', 'distance', 'uniform', 'distance',\n",
       "                    'uniform', 'distance', 'uniform', 'distance',\n",
       "                    'uniform', 'distance', 'uniform', 'distance',\n",
       "                    'uniform', 'distance', 'uniform', 'distance',\n",
       "                    'uniform', 'distance', 'uniform', 'distance',\n",
       "                    'uniform', 'distance', 'uniform', 'distance',\n",
       "                    'uniform', 'distance', 'uniform', 'distance',\n",
       "                    'uniform', 'distance'],\n",
       "              mask=[False, False, False, False, False, False, False, False,\n",
       "                    False, False, False, False, False, False, False, False,\n",
       "                    False, False, False, False, False, False, False, False,\n",
       "                    False, False, False, False, False, False],\n",
       "        fill_value='?',\n",
       "             dtype=object),\n",
       " 'param_n_neighbors': masked_array(data=[10, 10, 16, 16, 22, 22, 29, 29, 35, 35, 42, 42, 48, 48,\n",
       "                    55, 55, 61, 61, 67, 67, 74, 74, 80, 80, 87, 87, 93, 93,\n",
       "                    100, 100],\n",
       "              mask=[False, False, False, False, False, False, False, False,\n",
       "                    False, False, False, False, False, False, False, False,\n",
       "                    False, False, False, False, False, False, False, False,\n",
       "                    False, False, False, False, False, False],\n",
       "        fill_value='?',\n",
       "             dtype=object),\n",
       " 'params': [{'weights': 'uniform', 'n_neighbors': 10},\n",
       "  {'weights': 'distance', 'n_neighbors': 10},\n",
       "  {'weights': 'uniform', 'n_neighbors': 16},\n",
       "  {'weights': 'distance', 'n_neighbors': 16},\n",
       "  {'weights': 'uniform', 'n_neighbors': 22},\n",
       "  {'weights': 'distance', 'n_neighbors': 22},\n",
       "  {'weights': 'uniform', 'n_neighbors': 29},\n",
       "  {'weights': 'distance', 'n_neighbors': 29},\n",
       "  {'weights': 'uniform', 'n_neighbors': 35},\n",
       "  {'weights': 'distance', 'n_neighbors': 35},\n",
       "  {'weights': 'uniform', 'n_neighbors': 42},\n",
       "  {'weights': 'distance', 'n_neighbors': 42},\n",
       "  {'weights': 'uniform', 'n_neighbors': 48},\n",
       "  {'weights': 'distance', 'n_neighbors': 48},\n",
       "  {'weights': 'uniform', 'n_neighbors': 55},\n",
       "  {'weights': 'distance', 'n_neighbors': 55},\n",
       "  {'weights': 'uniform', 'n_neighbors': 61},\n",
       "  {'weights': 'distance', 'n_neighbors': 61},\n",
       "  {'weights': 'uniform', 'n_neighbors': 67},\n",
       "  {'weights': 'distance', 'n_neighbors': 67},\n",
       "  {'weights': 'uniform', 'n_neighbors': 74},\n",
       "  {'weights': 'distance', 'n_neighbors': 74},\n",
       "  {'weights': 'uniform', 'n_neighbors': 80},\n",
       "  {'weights': 'distance', 'n_neighbors': 80},\n",
       "  {'weights': 'uniform', 'n_neighbors': 87},\n",
       "  {'weights': 'distance', 'n_neighbors': 87},\n",
       "  {'weights': 'uniform', 'n_neighbors': 93},\n",
       "  {'weights': 'distance', 'n_neighbors': 93},\n",
       "  {'weights': 'uniform', 'n_neighbors': 100},\n",
       "  {'weights': 'distance', 'n_neighbors': 100}],\n",
       " 'split0_test_score': array([0.88517672, 0.86251758, 0.88828166, 0.86637347, 0.89008005,\n",
       "        0.86894968, 0.89008321, 0.87050967, 0.89122301, 0.87168213,\n",
       "        0.89165459, 0.87265858, 0.89225795, 0.87332159, 0.8919062 ,\n",
       "        0.87383728, 0.89175305, 0.87425245, 0.89172802, 0.87463158,\n",
       "        0.89165713, 0.87503381, 0.89147886, 0.87531294, 0.89127694,\n",
       "        0.87553765, 0.89088366, 0.87570848, 0.89037603, 0.87587475]),\n",
       " 'split1_test_score': array([0.88806963, 0.86660947, 0.89230569, 0.87052956, 0.89409704,\n",
       "        0.87278646, 0.89408211, 0.87418416, 0.89444901, 0.87513443,\n",
       "        0.89507118, 0.87599654, 0.89505801, 0.87658744, 0.8946083 ,\n",
       "        0.87702953, 0.89394266, 0.87719327, 0.8935877 , 0.87741855,\n",
       "        0.89377987, 0.87775342, 0.89369275, 0.87794555, 0.89345623,\n",
       "        0.87813991, 0.89279047, 0.87820198, 0.89238424, 0.87829244]),\n",
       " 'split2_test_score': array([0.88481504, 0.86836554, 0.88779881, 0.87152955, 0.88856317,\n",
       "        0.87323806, 0.88897678, 0.87454475, 0.8894744 , 0.8752724 ,\n",
       "        0.88923125, 0.87589343, 0.8891408 , 0.87633631, 0.88899665,\n",
       "        0.8766918 , 0.88900858, 0.87698421, 0.88890168, 0.87718126,\n",
       "        0.88839196, 0.87727891, 0.88812086, 0.87741618, 0.88789202,\n",
       "        0.87760447, 0.88745938, 0.87767072, 0.88705569, 0.87774761]),\n",
       " 'split3_test_score': array([0.88356726, 0.86648925, 0.88700942, 0.87044567, 0.88967688,\n",
       "        0.87280899, 0.89048364, 0.87446803, 0.89120249, 0.8753789 ,\n",
       "        0.89156399, 0.87609571, 0.89131583, 0.87649988, 0.89070503,\n",
       "        0.87681649, 0.89085104, 0.87717245, 0.89078066, 0.87746123,\n",
       "        0.89110634, 0.87784882, 0.89099885, 0.87809075, 0.89083663,\n",
       "        0.87834811, 0.89064411, 0.87850196, 0.89010016, 0.87865227]),\n",
       " 'split4_test_score': array([0.89259697, 0.87646685, 0.89606294, 0.88062813, 0.89812113,\n",
       "        0.88290814, 0.89842836, 0.88432046, 0.89954306, 0.88535213,\n",
       "        0.89936858, 0.88603291, 0.89962379, 0.88658399, 0.89996415,\n",
       "        0.8871288 , 0.90067848, 0.88763003, 0.90060072, 0.88794111,\n",
       "        0.9002725 , 0.88820731, 0.90001105, 0.88843756, 0.89977687,\n",
       "        0.88867457, 0.90000561, 0.88894979, 0.8997839 , 0.88915596]),\n",
       " 'mean_test_score': array([0.88684512, 0.86808974, 0.8902917 , 0.87190128, 0.89210765,\n",
       "        0.87413827, 0.89241082, 0.87560541, 0.8931784 , 0.876564  ,\n",
       "        0.89337792, 0.87733544, 0.89347928, 0.87786584, 0.89323607,\n",
       "        0.87830078, 0.89324676, 0.87864648, 0.89311975, 0.87892674,\n",
       "        0.89304156, 0.87922445, 0.89286047, 0.87944059, 0.89264774,\n",
       "        0.87966094, 0.89235665, 0.87980659, 0.89194   , 0.87994461]),\n",
       " 'std_test_score': array([0.0032321 , 0.00460551, 0.00341735, 0.00470857, 0.00354127,\n",
       "        0.00465267, 0.00346203, 0.0046121 , 0.00356569, 0.00460826,\n",
       "        0.00352733, 0.00453713, 0.00361226, 0.0045276 , 0.00382877,\n",
       "        0.0045665 , 0.00404098, 0.0046273 , 0.00403446, 0.00462982,\n",
       "        0.0040028 , 0.0046064 , 0.00399154, 0.00460735, 0.00398131,\n",
       "        0.00461548, 0.00419   , 0.004674  , 0.00427578, 0.00470402]),\n",
       " 'rank_test_score': array([15, 30, 14, 29, 12, 28, 10, 27,  5, 26,  2, 25,  1, 24,  4, 23,  3,\n",
       "        22,  6, 21,  7, 20,  8, 19,  9, 18, 11, 17, 13, 16])}"
      ]
     },
     "execution_count": 44,
     "metadata": {},
     "output_type": "execute_result"
    }
   ],
   "source": [
    "rmcv.cv_results_"
   ]
  },
  {
   "cell_type": "code",
   "execution_count": 45,
   "id": "f35ff640",
   "metadata": {},
   "outputs": [
    {
     "data": {
      "text/html": [
       "<div>\n",
       "<style scoped>\n",
       "    .dataframe tbody tr th:only-of-type {\n",
       "        vertical-align: middle;\n",
       "    }\n",
       "\n",
       "    .dataframe tbody tr th {\n",
       "        vertical-align: top;\n",
       "    }\n",
       "\n",
       "    .dataframe thead th {\n",
       "        text-align: right;\n",
       "    }\n",
       "</style>\n",
       "<table border=\"1\" class=\"dataframe\">\n",
       "  <thead>\n",
       "    <tr style=\"text-align: right;\">\n",
       "      <th></th>\n",
       "      <th>mean_fit_time</th>\n",
       "      <th>std_fit_time</th>\n",
       "      <th>mean_score_time</th>\n",
       "      <th>std_score_time</th>\n",
       "      <th>param_weights</th>\n",
       "      <th>param_n_neighbors</th>\n",
       "      <th>params</th>\n",
       "      <th>split0_test_score</th>\n",
       "      <th>split1_test_score</th>\n",
       "      <th>split2_test_score</th>\n",
       "      <th>split3_test_score</th>\n",
       "      <th>split4_test_score</th>\n",
       "      <th>mean_test_score</th>\n",
       "      <th>std_test_score</th>\n",
       "      <th>rank_test_score</th>\n",
       "    </tr>\n",
       "  </thead>\n",
       "  <tbody>\n",
       "    <tr>\n",
       "      <th>0</th>\n",
       "      <td>0.012506</td>\n",
       "      <td>1.170353e-02</td>\n",
       "      <td>0.012494</td>\n",
       "      <td>0.006247</td>\n",
       "      <td>uniform</td>\n",
       "      <td>10</td>\n",
       "      <td>{'weights': 'uniform', 'n_neighbors': 10}</td>\n",
       "      <td>0.885177</td>\n",
       "      <td>0.888070</td>\n",
       "      <td>0.884815</td>\n",
       "      <td>0.883567</td>\n",
       "      <td>0.892597</td>\n",
       "      <td>0.886845</td>\n",
       "      <td>0.003232</td>\n",
       "      <td>15</td>\n",
       "    </tr>\n",
       "    <tr>\n",
       "      <th>1</th>\n",
       "      <td>0.012363</td>\n",
       "      <td>6.186904e-03</td>\n",
       "      <td>0.009238</td>\n",
       "      <td>0.008026</td>\n",
       "      <td>distance</td>\n",
       "      <td>10</td>\n",
       "      <td>{'weights': 'distance', 'n_neighbors': 10}</td>\n",
       "      <td>0.862518</td>\n",
       "      <td>0.866609</td>\n",
       "      <td>0.868366</td>\n",
       "      <td>0.866489</td>\n",
       "      <td>0.876467</td>\n",
       "      <td>0.868090</td>\n",
       "      <td>0.004606</td>\n",
       "      <td>30</td>\n",
       "    </tr>\n",
       "    <tr>\n",
       "      <th>2</th>\n",
       "      <td>0.010447</td>\n",
       "      <td>5.720773e-03</td>\n",
       "      <td>0.009259</td>\n",
       "      <td>0.006520</td>\n",
       "      <td>uniform</td>\n",
       "      <td>16</td>\n",
       "      <td>{'weights': 'uniform', 'n_neighbors': 16}</td>\n",
       "      <td>0.888282</td>\n",
       "      <td>0.892306</td>\n",
       "      <td>0.887799</td>\n",
       "      <td>0.887009</td>\n",
       "      <td>0.896063</td>\n",
       "      <td>0.890292</td>\n",
       "      <td>0.003417</td>\n",
       "      <td>14</td>\n",
       "    </tr>\n",
       "    <tr>\n",
       "      <th>3</th>\n",
       "      <td>0.012498</td>\n",
       "      <td>6.248856e-03</td>\n",
       "      <td>0.009373</td>\n",
       "      <td>0.007653</td>\n",
       "      <td>distance</td>\n",
       "      <td>16</td>\n",
       "      <td>{'weights': 'distance', 'n_neighbors': 16}</td>\n",
       "      <td>0.866373</td>\n",
       "      <td>0.870530</td>\n",
       "      <td>0.871530</td>\n",
       "      <td>0.870446</td>\n",
       "      <td>0.880628</td>\n",
       "      <td>0.871901</td>\n",
       "      <td>0.004709</td>\n",
       "      <td>29</td>\n",
       "    </tr>\n",
       "    <tr>\n",
       "      <th>4</th>\n",
       "      <td>0.009372</td>\n",
       "      <td>7.652360e-03</td>\n",
       "      <td>0.012498</td>\n",
       "      <td>0.006249</td>\n",
       "      <td>uniform</td>\n",
       "      <td>22</td>\n",
       "      <td>{'weights': 'uniform', 'n_neighbors': 22}</td>\n",
       "      <td>0.890080</td>\n",
       "      <td>0.894097</td>\n",
       "      <td>0.888563</td>\n",
       "      <td>0.889677</td>\n",
       "      <td>0.898121</td>\n",
       "      <td>0.892108</td>\n",
       "      <td>0.003541</td>\n",
       "      <td>12</td>\n",
       "    </tr>\n",
       "    <tr>\n",
       "      <th>5</th>\n",
       "      <td>0.006248</td>\n",
       "      <td>7.652378e-03</td>\n",
       "      <td>0.015620</td>\n",
       "      <td>0.000023</td>\n",
       "      <td>distance</td>\n",
       "      <td>22</td>\n",
       "      <td>{'weights': 'distance', 'n_neighbors': 22}</td>\n",
       "      <td>0.868950</td>\n",
       "      <td>0.872786</td>\n",
       "      <td>0.873238</td>\n",
       "      <td>0.872809</td>\n",
       "      <td>0.882908</td>\n",
       "      <td>0.874138</td>\n",
       "      <td>0.004653</td>\n",
       "      <td>28</td>\n",
       "    </tr>\n",
       "    <tr>\n",
       "      <th>6</th>\n",
       "      <td>0.012498</td>\n",
       "      <td>6.248975e-03</td>\n",
       "      <td>0.009373</td>\n",
       "      <td>0.007653</td>\n",
       "      <td>uniform</td>\n",
       "      <td>29</td>\n",
       "      <td>{'weights': 'uniform', 'n_neighbors': 29}</td>\n",
       "      <td>0.890083</td>\n",
       "      <td>0.894082</td>\n",
       "      <td>0.888977</td>\n",
       "      <td>0.890484</td>\n",
       "      <td>0.898428</td>\n",
       "      <td>0.892411</td>\n",
       "      <td>0.003462</td>\n",
       "      <td>10</td>\n",
       "    </tr>\n",
       "    <tr>\n",
       "      <th>7</th>\n",
       "      <td>0.015623</td>\n",
       "      <td>2.273868e-06</td>\n",
       "      <td>0.011405</td>\n",
       "      <td>0.010026</td>\n",
       "      <td>distance</td>\n",
       "      <td>29</td>\n",
       "      <td>{'weights': 'distance', 'n_neighbors': 29}</td>\n",
       "      <td>0.870510</td>\n",
       "      <td>0.874184</td>\n",
       "      <td>0.874545</td>\n",
       "      <td>0.874468</td>\n",
       "      <td>0.884320</td>\n",
       "      <td>0.875605</td>\n",
       "      <td>0.004612</td>\n",
       "      <td>27</td>\n",
       "    </tr>\n",
       "    <tr>\n",
       "      <th>8</th>\n",
       "      <td>0.009248</td>\n",
       "      <td>5.943088e-03</td>\n",
       "      <td>0.012366</td>\n",
       "      <td>0.006189</td>\n",
       "      <td>uniform</td>\n",
       "      <td>35</td>\n",
       "      <td>{'weights': 'uniform', 'n_neighbors': 35}</td>\n",
       "      <td>0.891223</td>\n",
       "      <td>0.894449</td>\n",
       "      <td>0.889474</td>\n",
       "      <td>0.891202</td>\n",
       "      <td>0.899543</td>\n",
       "      <td>0.893178</td>\n",
       "      <td>0.003566</td>\n",
       "      <td>5</td>\n",
       "    </tr>\n",
       "    <tr>\n",
       "      <th>9</th>\n",
       "      <td>0.009460</td>\n",
       "      <td>5.951350e-03</td>\n",
       "      <td>0.018058</td>\n",
       "      <td>0.004689</td>\n",
       "      <td>distance</td>\n",
       "      <td>35</td>\n",
       "      <td>{'weights': 'distance', 'n_neighbors': 35}</td>\n",
       "      <td>0.871682</td>\n",
       "      <td>0.875134</td>\n",
       "      <td>0.875272</td>\n",
       "      <td>0.875379</td>\n",
       "      <td>0.885352</td>\n",
       "      <td>0.876564</td>\n",
       "      <td>0.004608</td>\n",
       "      <td>26</td>\n",
       "    </tr>\n",
       "    <tr>\n",
       "      <th>10</th>\n",
       "      <td>0.006249</td>\n",
       "      <td>7.653079e-03</td>\n",
       "      <td>0.015614</td>\n",
       "      <td>0.000011</td>\n",
       "      <td>uniform</td>\n",
       "      <td>42</td>\n",
       "      <td>{'weights': 'uniform', 'n_neighbors': 42}</td>\n",
       "      <td>0.891655</td>\n",
       "      <td>0.895071</td>\n",
       "      <td>0.889231</td>\n",
       "      <td>0.891564</td>\n",
       "      <td>0.899369</td>\n",
       "      <td>0.893378</td>\n",
       "      <td>0.003527</td>\n",
       "      <td>2</td>\n",
       "    </tr>\n",
       "    <tr>\n",
       "      <th>11</th>\n",
       "      <td>0.009380</td>\n",
       "      <td>7.658639e-03</td>\n",
       "      <td>0.015614</td>\n",
       "      <td>0.000018</td>\n",
       "      <td>distance</td>\n",
       "      <td>42</td>\n",
       "      <td>{'weights': 'distance', 'n_neighbors': 42}</td>\n",
       "      <td>0.872659</td>\n",
       "      <td>0.875997</td>\n",
       "      <td>0.875893</td>\n",
       "      <td>0.876096</td>\n",
       "      <td>0.886033</td>\n",
       "      <td>0.877335</td>\n",
       "      <td>0.004537</td>\n",
       "      <td>25</td>\n",
       "    </tr>\n",
       "    <tr>\n",
       "      <th>12</th>\n",
       "      <td>0.009373</td>\n",
       "      <td>7.653254e-03</td>\n",
       "      <td>0.018746</td>\n",
       "      <td>0.006248</td>\n",
       "      <td>uniform</td>\n",
       "      <td>48</td>\n",
       "      <td>{'weights': 'uniform', 'n_neighbors': 48}</td>\n",
       "      <td>0.892258</td>\n",
       "      <td>0.895058</td>\n",
       "      <td>0.889141</td>\n",
       "      <td>0.891316</td>\n",
       "      <td>0.899624</td>\n",
       "      <td>0.893479</td>\n",
       "      <td>0.003612</td>\n",
       "      <td>1</td>\n",
       "    </tr>\n",
       "    <tr>\n",
       "      <th>13</th>\n",
       "      <td>0.015621</td>\n",
       "      <td>7.325311e-07</td>\n",
       "      <td>0.015620</td>\n",
       "      <td>0.000002</td>\n",
       "      <td>distance</td>\n",
       "      <td>48</td>\n",
       "      <td>{'weights': 'distance', 'n_neighbors': 48}</td>\n",
       "      <td>0.873322</td>\n",
       "      <td>0.876587</td>\n",
       "      <td>0.876336</td>\n",
       "      <td>0.876500</td>\n",
       "      <td>0.886584</td>\n",
       "      <td>0.877866</td>\n",
       "      <td>0.004528</td>\n",
       "      <td>24</td>\n",
       "    </tr>\n",
       "    <tr>\n",
       "      <th>14</th>\n",
       "      <td>0.016517</td>\n",
       "      <td>1.794553e-03</td>\n",
       "      <td>0.016893</td>\n",
       "      <td>0.002524</td>\n",
       "      <td>uniform</td>\n",
       "      <td>55</td>\n",
       "      <td>{'weights': 'uniform', 'n_neighbors': 55}</td>\n",
       "      <td>0.891906</td>\n",
       "      <td>0.894608</td>\n",
       "      <td>0.888997</td>\n",
       "      <td>0.890705</td>\n",
       "      <td>0.899964</td>\n",
       "      <td>0.893236</td>\n",
       "      <td>0.003829</td>\n",
       "      <td>4</td>\n",
       "    </tr>\n",
       "    <tr>\n",
       "      <th>15</th>\n",
       "      <td>0.003552</td>\n",
       "      <td>6.092952e-03</td>\n",
       "      <td>0.024995</td>\n",
       "      <td>0.007638</td>\n",
       "      <td>distance</td>\n",
       "      <td>55</td>\n",
       "      <td>{'weights': 'distance', 'n_neighbors': 55}</td>\n",
       "      <td>0.873837</td>\n",
       "      <td>0.877030</td>\n",
       "      <td>0.876692</td>\n",
       "      <td>0.876816</td>\n",
       "      <td>0.887129</td>\n",
       "      <td>0.878301</td>\n",
       "      <td>0.004567</td>\n",
       "      <td>23</td>\n",
       "    </tr>\n",
       "    <tr>\n",
       "      <th>16</th>\n",
       "      <td>0.006248</td>\n",
       "      <td>7.651969e-03</td>\n",
       "      <td>0.024995</td>\n",
       "      <td>0.007654</td>\n",
       "      <td>uniform</td>\n",
       "      <td>61</td>\n",
       "      <td>{'weights': 'uniform', 'n_neighbors': 61}</td>\n",
       "      <td>0.891753</td>\n",
       "      <td>0.893943</td>\n",
       "      <td>0.889009</td>\n",
       "      <td>0.890851</td>\n",
       "      <td>0.900678</td>\n",
       "      <td>0.893247</td>\n",
       "      <td>0.004041</td>\n",
       "      <td>3</td>\n",
       "    </tr>\n",
       "    <tr>\n",
       "      <th>17</th>\n",
       "      <td>0.009373</td>\n",
       "      <td>7.652865e-03</td>\n",
       "      <td>0.024994</td>\n",
       "      <td>0.007653</td>\n",
       "      <td>distance</td>\n",
       "      <td>61</td>\n",
       "      <td>{'weights': 'distance', 'n_neighbors': 61}</td>\n",
       "      <td>0.874252</td>\n",
       "      <td>0.877193</td>\n",
       "      <td>0.876984</td>\n",
       "      <td>0.877172</td>\n",
       "      <td>0.887630</td>\n",
       "      <td>0.878646</td>\n",
       "      <td>0.004627</td>\n",
       "      <td>22</td>\n",
       "    </tr>\n",
       "    <tr>\n",
       "      <th>18</th>\n",
       "      <td>0.009373</td>\n",
       "      <td>7.652942e-03</td>\n",
       "      <td>0.024994</td>\n",
       "      <td>0.007652</td>\n",
       "      <td>uniform</td>\n",
       "      <td>67</td>\n",
       "      <td>{'weights': 'uniform', 'n_neighbors': 67}</td>\n",
       "      <td>0.891728</td>\n",
       "      <td>0.893588</td>\n",
       "      <td>0.888902</td>\n",
       "      <td>0.890781</td>\n",
       "      <td>0.900601</td>\n",
       "      <td>0.893120</td>\n",
       "      <td>0.004034</td>\n",
       "      <td>6</td>\n",
       "    </tr>\n",
       "    <tr>\n",
       "      <th>19</th>\n",
       "      <td>0.006248</td>\n",
       "      <td>7.652759e-03</td>\n",
       "      <td>0.024995</td>\n",
       "      <td>0.007651</td>\n",
       "      <td>distance</td>\n",
       "      <td>67</td>\n",
       "      <td>{'weights': 'distance', 'n_neighbors': 67}</td>\n",
       "      <td>0.874632</td>\n",
       "      <td>0.877419</td>\n",
       "      <td>0.877181</td>\n",
       "      <td>0.877461</td>\n",
       "      <td>0.887941</td>\n",
       "      <td>0.878927</td>\n",
       "      <td>0.004630</td>\n",
       "      <td>21</td>\n",
       "    </tr>\n",
       "    <tr>\n",
       "      <th>20</th>\n",
       "      <td>0.012505</td>\n",
       "      <td>6.252347e-03</td>\n",
       "      <td>0.024987</td>\n",
       "      <td>0.007647</td>\n",
       "      <td>uniform</td>\n",
       "      <td>74</td>\n",
       "      <td>{'weights': 'uniform', 'n_neighbors': 74}</td>\n",
       "      <td>0.891657</td>\n",
       "      <td>0.893780</td>\n",
       "      <td>0.888392</td>\n",
       "      <td>0.891106</td>\n",
       "      <td>0.900273</td>\n",
       "      <td>0.893042</td>\n",
       "      <td>0.004003</td>\n",
       "      <td>7</td>\n",
       "    </tr>\n",
       "    <tr>\n",
       "      <th>21</th>\n",
       "      <td>0.009373</td>\n",
       "      <td>7.653332e-03</td>\n",
       "      <td>0.028116</td>\n",
       "      <td>0.006248</td>\n",
       "      <td>distance</td>\n",
       "      <td>74</td>\n",
       "      <td>{'weights': 'distance', 'n_neighbors': 74}</td>\n",
       "      <td>0.875034</td>\n",
       "      <td>0.877753</td>\n",
       "      <td>0.877279</td>\n",
       "      <td>0.877849</td>\n",
       "      <td>0.888207</td>\n",
       "      <td>0.879224</td>\n",
       "      <td>0.004606</td>\n",
       "      <td>20</td>\n",
       "    </tr>\n",
       "    <tr>\n",
       "      <th>22</th>\n",
       "      <td>0.006249</td>\n",
       "      <td>7.653137e-03</td>\n",
       "      <td>0.031243</td>\n",
       "      <td>0.000005</td>\n",
       "      <td>uniform</td>\n",
       "      <td>80</td>\n",
       "      <td>{'weights': 'uniform', 'n_neighbors': 80}</td>\n",
       "      <td>0.891479</td>\n",
       "      <td>0.893693</td>\n",
       "      <td>0.888121</td>\n",
       "      <td>0.890999</td>\n",
       "      <td>0.900011</td>\n",
       "      <td>0.892860</td>\n",
       "      <td>0.003992</td>\n",
       "      <td>8</td>\n",
       "    </tr>\n",
       "    <tr>\n",
       "      <th>23</th>\n",
       "      <td>0.009373</td>\n",
       "      <td>7.653410e-03</td>\n",
       "      <td>0.031243</td>\n",
       "      <td>0.000021</td>\n",
       "      <td>distance</td>\n",
       "      <td>80</td>\n",
       "      <td>{'weights': 'distance', 'n_neighbors': 80}</td>\n",
       "      <td>0.875313</td>\n",
       "      <td>0.877946</td>\n",
       "      <td>0.877416</td>\n",
       "      <td>0.878091</td>\n",
       "      <td>0.888438</td>\n",
       "      <td>0.879441</td>\n",
       "      <td>0.004607</td>\n",
       "      <td>19</td>\n",
       "    </tr>\n",
       "    <tr>\n",
       "      <th>24</th>\n",
       "      <td>0.009374</td>\n",
       "      <td>7.654072e-03</td>\n",
       "      <td>0.031241</td>\n",
       "      <td>0.000023</td>\n",
       "      <td>uniform</td>\n",
       "      <td>87</td>\n",
       "      <td>{'weights': 'uniform', 'n_neighbors': 87}</td>\n",
       "      <td>0.891277</td>\n",
       "      <td>0.893456</td>\n",
       "      <td>0.887892</td>\n",
       "      <td>0.890837</td>\n",
       "      <td>0.899777</td>\n",
       "      <td>0.892648</td>\n",
       "      <td>0.003981</td>\n",
       "      <td>9</td>\n",
       "    </tr>\n",
       "    <tr>\n",
       "      <th>25</th>\n",
       "      <td>0.006250</td>\n",
       "      <td>7.654773e-03</td>\n",
       "      <td>0.037491</td>\n",
       "      <td>0.007643</td>\n",
       "      <td>distance</td>\n",
       "      <td>87</td>\n",
       "      <td>{'weights': 'distance', 'n_neighbors': 87}</td>\n",
       "      <td>0.875538</td>\n",
       "      <td>0.878140</td>\n",
       "      <td>0.877604</td>\n",
       "      <td>0.878348</td>\n",
       "      <td>0.888675</td>\n",
       "      <td>0.879661</td>\n",
       "      <td>0.004615</td>\n",
       "      <td>18</td>\n",
       "    </tr>\n",
       "    <tr>\n",
       "      <th>26</th>\n",
       "      <td>0.009367</td>\n",
       "      <td>7.648280e-03</td>\n",
       "      <td>0.034371</td>\n",
       "      <td>0.006243</td>\n",
       "      <td>uniform</td>\n",
       "      <td>93</td>\n",
       "      <td>{'weights': 'uniform', 'n_neighbors': 93}</td>\n",
       "      <td>0.890884</td>\n",
       "      <td>0.892790</td>\n",
       "      <td>0.887459</td>\n",
       "      <td>0.890644</td>\n",
       "      <td>0.900006</td>\n",
       "      <td>0.892357</td>\n",
       "      <td>0.004190</td>\n",
       "      <td>11</td>\n",
       "    </tr>\n",
       "    <tr>\n",
       "      <th>27</th>\n",
       "      <td>0.003125</td>\n",
       "      <td>6.249332e-03</td>\n",
       "      <td>0.038828</td>\n",
       "      <td>0.007001</td>\n",
       "      <td>distance</td>\n",
       "      <td>93</td>\n",
       "      <td>{'weights': 'distance', 'n_neighbors': 93}</td>\n",
       "      <td>0.875708</td>\n",
       "      <td>0.878202</td>\n",
       "      <td>0.877671</td>\n",
       "      <td>0.878502</td>\n",
       "      <td>0.888950</td>\n",
       "      <td>0.879807</td>\n",
       "      <td>0.004674</td>\n",
       "      <td>17</td>\n",
       "    </tr>\n",
       "    <tr>\n",
       "      <th>28</th>\n",
       "      <td>0.006250</td>\n",
       "      <td>7.654130e-03</td>\n",
       "      <td>0.034372</td>\n",
       "      <td>0.006263</td>\n",
       "      <td>uniform</td>\n",
       "      <td>100</td>\n",
       "      <td>{'weights': 'uniform', 'n_neighbors': 100}</td>\n",
       "      <td>0.890376</td>\n",
       "      <td>0.892384</td>\n",
       "      <td>0.887056</td>\n",
       "      <td>0.890100</td>\n",
       "      <td>0.899784</td>\n",
       "      <td>0.891940</td>\n",
       "      <td>0.004276</td>\n",
       "      <td>13</td>\n",
       "    </tr>\n",
       "    <tr>\n",
       "      <th>29</th>\n",
       "      <td>0.000000</td>\n",
       "      <td>0.000000e+00</td>\n",
       "      <td>0.046865</td>\n",
       "      <td>0.000004</td>\n",
       "      <td>distance</td>\n",
       "      <td>100</td>\n",
       "      <td>{'weights': 'distance', 'n_neighbors': 100}</td>\n",
       "      <td>0.875875</td>\n",
       "      <td>0.878292</td>\n",
       "      <td>0.877748</td>\n",
       "      <td>0.878652</td>\n",
       "      <td>0.889156</td>\n",
       "      <td>0.879945</td>\n",
       "      <td>0.004704</td>\n",
       "      <td>16</td>\n",
       "    </tr>\n",
       "  </tbody>\n",
       "</table>\n",
       "</div>"
      ],
      "text/plain": [
       "    mean_fit_time  std_fit_time  mean_score_time  std_score_time  \\\n",
       "0        0.012506  1.170353e-02         0.012494        0.006247   \n",
       "1        0.012363  6.186904e-03         0.009238        0.008026   \n",
       "2        0.010447  5.720773e-03         0.009259        0.006520   \n",
       "3        0.012498  6.248856e-03         0.009373        0.007653   \n",
       "4        0.009372  7.652360e-03         0.012498        0.006249   \n",
       "5        0.006248  7.652378e-03         0.015620        0.000023   \n",
       "6        0.012498  6.248975e-03         0.009373        0.007653   \n",
       "7        0.015623  2.273868e-06         0.011405        0.010026   \n",
       "8        0.009248  5.943088e-03         0.012366        0.006189   \n",
       "9        0.009460  5.951350e-03         0.018058        0.004689   \n",
       "10       0.006249  7.653079e-03         0.015614        0.000011   \n",
       "11       0.009380  7.658639e-03         0.015614        0.000018   \n",
       "12       0.009373  7.653254e-03         0.018746        0.006248   \n",
       "13       0.015621  7.325311e-07         0.015620        0.000002   \n",
       "14       0.016517  1.794553e-03         0.016893        0.002524   \n",
       "15       0.003552  6.092952e-03         0.024995        0.007638   \n",
       "16       0.006248  7.651969e-03         0.024995        0.007654   \n",
       "17       0.009373  7.652865e-03         0.024994        0.007653   \n",
       "18       0.009373  7.652942e-03         0.024994        0.007652   \n",
       "19       0.006248  7.652759e-03         0.024995        0.007651   \n",
       "20       0.012505  6.252347e-03         0.024987        0.007647   \n",
       "21       0.009373  7.653332e-03         0.028116        0.006248   \n",
       "22       0.006249  7.653137e-03         0.031243        0.000005   \n",
       "23       0.009373  7.653410e-03         0.031243        0.000021   \n",
       "24       0.009374  7.654072e-03         0.031241        0.000023   \n",
       "25       0.006250  7.654773e-03         0.037491        0.007643   \n",
       "26       0.009367  7.648280e-03         0.034371        0.006243   \n",
       "27       0.003125  6.249332e-03         0.038828        0.007001   \n",
       "28       0.006250  7.654130e-03         0.034372        0.006263   \n",
       "29       0.000000  0.000000e+00         0.046865        0.000004   \n",
       "\n",
       "   param_weights param_n_neighbors  \\\n",
       "0        uniform                10   \n",
       "1       distance                10   \n",
       "2        uniform                16   \n",
       "3       distance                16   \n",
       "4        uniform                22   \n",
       "5       distance                22   \n",
       "6        uniform                29   \n",
       "7       distance                29   \n",
       "8        uniform                35   \n",
       "9       distance                35   \n",
       "10       uniform                42   \n",
       "11      distance                42   \n",
       "12       uniform                48   \n",
       "13      distance                48   \n",
       "14       uniform                55   \n",
       "15      distance                55   \n",
       "16       uniform                61   \n",
       "17      distance                61   \n",
       "18       uniform                67   \n",
       "19      distance                67   \n",
       "20       uniform                74   \n",
       "21      distance                74   \n",
       "22       uniform                80   \n",
       "23      distance                80   \n",
       "24       uniform                87   \n",
       "25      distance                87   \n",
       "26       uniform                93   \n",
       "27      distance                93   \n",
       "28       uniform               100   \n",
       "29      distance               100   \n",
       "\n",
       "                                         params  split0_test_score  \\\n",
       "0     {'weights': 'uniform', 'n_neighbors': 10}           0.885177   \n",
       "1    {'weights': 'distance', 'n_neighbors': 10}           0.862518   \n",
       "2     {'weights': 'uniform', 'n_neighbors': 16}           0.888282   \n",
       "3    {'weights': 'distance', 'n_neighbors': 16}           0.866373   \n",
       "4     {'weights': 'uniform', 'n_neighbors': 22}           0.890080   \n",
       "5    {'weights': 'distance', 'n_neighbors': 22}           0.868950   \n",
       "6     {'weights': 'uniform', 'n_neighbors': 29}           0.890083   \n",
       "7    {'weights': 'distance', 'n_neighbors': 29}           0.870510   \n",
       "8     {'weights': 'uniform', 'n_neighbors': 35}           0.891223   \n",
       "9    {'weights': 'distance', 'n_neighbors': 35}           0.871682   \n",
       "10    {'weights': 'uniform', 'n_neighbors': 42}           0.891655   \n",
       "11   {'weights': 'distance', 'n_neighbors': 42}           0.872659   \n",
       "12    {'weights': 'uniform', 'n_neighbors': 48}           0.892258   \n",
       "13   {'weights': 'distance', 'n_neighbors': 48}           0.873322   \n",
       "14    {'weights': 'uniform', 'n_neighbors': 55}           0.891906   \n",
       "15   {'weights': 'distance', 'n_neighbors': 55}           0.873837   \n",
       "16    {'weights': 'uniform', 'n_neighbors': 61}           0.891753   \n",
       "17   {'weights': 'distance', 'n_neighbors': 61}           0.874252   \n",
       "18    {'weights': 'uniform', 'n_neighbors': 67}           0.891728   \n",
       "19   {'weights': 'distance', 'n_neighbors': 67}           0.874632   \n",
       "20    {'weights': 'uniform', 'n_neighbors': 74}           0.891657   \n",
       "21   {'weights': 'distance', 'n_neighbors': 74}           0.875034   \n",
       "22    {'weights': 'uniform', 'n_neighbors': 80}           0.891479   \n",
       "23   {'weights': 'distance', 'n_neighbors': 80}           0.875313   \n",
       "24    {'weights': 'uniform', 'n_neighbors': 87}           0.891277   \n",
       "25   {'weights': 'distance', 'n_neighbors': 87}           0.875538   \n",
       "26    {'weights': 'uniform', 'n_neighbors': 93}           0.890884   \n",
       "27   {'weights': 'distance', 'n_neighbors': 93}           0.875708   \n",
       "28   {'weights': 'uniform', 'n_neighbors': 100}           0.890376   \n",
       "29  {'weights': 'distance', 'n_neighbors': 100}           0.875875   \n",
       "\n",
       "    split1_test_score  split2_test_score  split3_test_score  \\\n",
       "0            0.888070           0.884815           0.883567   \n",
       "1            0.866609           0.868366           0.866489   \n",
       "2            0.892306           0.887799           0.887009   \n",
       "3            0.870530           0.871530           0.870446   \n",
       "4            0.894097           0.888563           0.889677   \n",
       "5            0.872786           0.873238           0.872809   \n",
       "6            0.894082           0.888977           0.890484   \n",
       "7            0.874184           0.874545           0.874468   \n",
       "8            0.894449           0.889474           0.891202   \n",
       "9            0.875134           0.875272           0.875379   \n",
       "10           0.895071           0.889231           0.891564   \n",
       "11           0.875997           0.875893           0.876096   \n",
       "12           0.895058           0.889141           0.891316   \n",
       "13           0.876587           0.876336           0.876500   \n",
       "14           0.894608           0.888997           0.890705   \n",
       "15           0.877030           0.876692           0.876816   \n",
       "16           0.893943           0.889009           0.890851   \n",
       "17           0.877193           0.876984           0.877172   \n",
       "18           0.893588           0.888902           0.890781   \n",
       "19           0.877419           0.877181           0.877461   \n",
       "20           0.893780           0.888392           0.891106   \n",
       "21           0.877753           0.877279           0.877849   \n",
       "22           0.893693           0.888121           0.890999   \n",
       "23           0.877946           0.877416           0.878091   \n",
       "24           0.893456           0.887892           0.890837   \n",
       "25           0.878140           0.877604           0.878348   \n",
       "26           0.892790           0.887459           0.890644   \n",
       "27           0.878202           0.877671           0.878502   \n",
       "28           0.892384           0.887056           0.890100   \n",
       "29           0.878292           0.877748           0.878652   \n",
       "\n",
       "    split4_test_score  mean_test_score  std_test_score  rank_test_score  \n",
       "0            0.892597         0.886845        0.003232               15  \n",
       "1            0.876467         0.868090        0.004606               30  \n",
       "2            0.896063         0.890292        0.003417               14  \n",
       "3            0.880628         0.871901        0.004709               29  \n",
       "4            0.898121         0.892108        0.003541               12  \n",
       "5            0.882908         0.874138        0.004653               28  \n",
       "6            0.898428         0.892411        0.003462               10  \n",
       "7            0.884320         0.875605        0.004612               27  \n",
       "8            0.899543         0.893178        0.003566                5  \n",
       "9            0.885352         0.876564        0.004608               26  \n",
       "10           0.899369         0.893378        0.003527                2  \n",
       "11           0.886033         0.877335        0.004537               25  \n",
       "12           0.899624         0.893479        0.003612                1  \n",
       "13           0.886584         0.877866        0.004528               24  \n",
       "14           0.899964         0.893236        0.003829                4  \n",
       "15           0.887129         0.878301        0.004567               23  \n",
       "16           0.900678         0.893247        0.004041                3  \n",
       "17           0.887630         0.878646        0.004627               22  \n",
       "18           0.900601         0.893120        0.004034                6  \n",
       "19           0.887941         0.878927        0.004630               21  \n",
       "20           0.900273         0.893042        0.004003                7  \n",
       "21           0.888207         0.879224        0.004606               20  \n",
       "22           0.900011         0.892860        0.003992                8  \n",
       "23           0.888438         0.879441        0.004607               19  \n",
       "24           0.899777         0.892648        0.003981                9  \n",
       "25           0.888675         0.879661        0.004615               18  \n",
       "26           0.900006         0.892357        0.004190               11  \n",
       "27           0.888950         0.879807        0.004674               17  \n",
       "28           0.899784         0.891940        0.004276               13  \n",
       "29           0.889156         0.879945        0.004704               16  "
      ]
     },
     "execution_count": 45,
     "metadata": {},
     "output_type": "execute_result"
    }
   ],
   "source": [
    "pd.DataFrame(rmcv.cv_results_)"
   ]
  },
  {
   "cell_type": "code",
   "execution_count": 46,
   "id": "98d7fffc",
   "metadata": {},
   "outputs": [],
   "source": [
    "KNNRegression =rmcv.best_estimator_"
   ]
  },
  {
   "cell_type": "code",
   "execution_count": 47,
   "id": "d3a3f774",
   "metadata": {},
   "outputs": [
    {
     "data": {
      "text/plain": [
       "KNeighborsRegressor(n_neighbors=48)"
      ]
     },
     "execution_count": 47,
     "metadata": {},
     "output_type": "execute_result"
    }
   ],
   "source": [
    "KNNRegression"
   ]
  },
  {
   "cell_type": "code",
   "execution_count": 48,
   "id": "5e35b199",
   "metadata": {},
   "outputs": [
    {
     "data": {
      "text/plain": [
       "0.9035040424864538"
      ]
     },
     "execution_count": 48,
     "metadata": {},
     "output_type": "execute_result"
    }
   ],
   "source": [
    "KNNRegression.score(xtest,ytest)"
   ]
  },
  {
   "cell_type": "markdown",
   "id": "ebfa20de",
   "metadata": {},
   "source": [
    "Linear Regreesion is better than KNN regression but when apply randomized searchCV on KNN regression we can get better Accuracy."
   ]
  },
  {
   "cell_type": "markdown",
   "id": "10828ac4",
   "metadata": {},
   "source": [
    "# KNN Classifier"
   ]
  },
  {
   "cell_type": "code",
   "execution_count": 49,
   "id": "ecce23e2",
   "metadata": {},
   "outputs": [],
   "source": [
    "df = df.drop([\"New Y\"], axis=1)"
   ]
  },
  {
   "cell_type": "code",
   "execution_count": 50,
   "id": "4a32d88f",
   "metadata": {},
   "outputs": [
    {
     "data": {
      "text/html": [
       "<div>\n",
       "<style scoped>\n",
       "    .dataframe tbody tr th:only-of-type {\n",
       "        vertical-align: middle;\n",
       "    }\n",
       "\n",
       "    .dataframe tbody tr th {\n",
       "        vertical-align: top;\n",
       "    }\n",
       "\n",
       "    .dataframe thead th {\n",
       "        text-align: right;\n",
       "    }\n",
       "</style>\n",
       "<table border=\"1\" class=\"dataframe\">\n",
       "  <thead>\n",
       "    <tr style=\"text-align: right;\">\n",
       "      <th></th>\n",
       "      <th>Gender</th>\n",
       "      <th>Height</th>\n",
       "      <th>Weight</th>\n",
       "    </tr>\n",
       "  </thead>\n",
       "  <tbody>\n",
       "    <tr>\n",
       "      <th>0</th>\n",
       "      <td>1</td>\n",
       "      <td>73.847017</td>\n",
       "      <td>241.893563</td>\n",
       "    </tr>\n",
       "    <tr>\n",
       "      <th>1</th>\n",
       "      <td>1</td>\n",
       "      <td>68.781904</td>\n",
       "      <td>162.310473</td>\n",
       "    </tr>\n",
       "    <tr>\n",
       "      <th>2</th>\n",
       "      <td>1</td>\n",
       "      <td>74.110105</td>\n",
       "      <td>212.740856</td>\n",
       "    </tr>\n",
       "    <tr>\n",
       "      <th>3</th>\n",
       "      <td>1</td>\n",
       "      <td>71.730978</td>\n",
       "      <td>220.042470</td>\n",
       "    </tr>\n",
       "    <tr>\n",
       "      <th>4</th>\n",
       "      <td>1</td>\n",
       "      <td>69.881796</td>\n",
       "      <td>206.349801</td>\n",
       "    </tr>\n",
       "    <tr>\n",
       "      <th>...</th>\n",
       "      <td>...</td>\n",
       "      <td>...</td>\n",
       "      <td>...</td>\n",
       "    </tr>\n",
       "    <tr>\n",
       "      <th>8550</th>\n",
       "      <td>0</td>\n",
       "      <td>60.483946</td>\n",
       "      <td>110.565497</td>\n",
       "    </tr>\n",
       "    <tr>\n",
       "      <th>8551</th>\n",
       "      <td>0</td>\n",
       "      <td>63.423372</td>\n",
       "      <td>129.921671</td>\n",
       "    </tr>\n",
       "    <tr>\n",
       "      <th>8552</th>\n",
       "      <td>0</td>\n",
       "      <td>65.584057</td>\n",
       "      <td>155.942671</td>\n",
       "    </tr>\n",
       "    <tr>\n",
       "      <th>8553</th>\n",
       "      <td>0</td>\n",
       "      <td>67.429971</td>\n",
       "      <td>151.678405</td>\n",
       "    </tr>\n",
       "    <tr>\n",
       "      <th>8554</th>\n",
       "      <td>0</td>\n",
       "      <td>60.921791</td>\n",
       "      <td>131.253738</td>\n",
       "    </tr>\n",
       "  </tbody>\n",
       "</table>\n",
       "<p>8555 rows × 3 columns</p>\n",
       "</div>"
      ],
      "text/plain": [
       "      Gender     Height      Weight\n",
       "0          1  73.847017  241.893563\n",
       "1          1  68.781904  162.310473\n",
       "2          1  74.110105  212.740856\n",
       "3          1  71.730978  220.042470\n",
       "4          1  69.881796  206.349801\n",
       "...      ...        ...         ...\n",
       "8550       0  60.483946  110.565497\n",
       "8551       0  63.423372  129.921671\n",
       "8552       0  65.584057  155.942671\n",
       "8553       0  67.429971  151.678405\n",
       "8554       0  60.921791  131.253738\n",
       "\n",
       "[8555 rows x 3 columns]"
      ]
     },
     "execution_count": 50,
     "metadata": {},
     "output_type": "execute_result"
    }
   ],
   "source": [
    "df"
   ]
  },
  {
   "cell_type": "code",
   "execution_count": 51,
   "id": "d20c5407",
   "metadata": {},
   "outputs": [],
   "source": [
    "x1 = df.drop([\"Gender\"], axis=1)"
   ]
  },
  {
   "cell_type": "code",
   "execution_count": 52,
   "id": "067b4254",
   "metadata": {},
   "outputs": [
    {
     "data": {
      "text/plain": [
       "2"
      ]
     },
     "execution_count": 52,
     "metadata": {},
     "output_type": "execute_result"
    }
   ],
   "source": [
    "x1.ndim"
   ]
  },
  {
   "cell_type": "code",
   "execution_count": 53,
   "id": "9884cceb",
   "metadata": {},
   "outputs": [],
   "source": [
    "y1= df[\"Gender\"]"
   ]
  },
  {
   "cell_type": "code",
   "execution_count": 54,
   "id": "8dfde682",
   "metadata": {},
   "outputs": [
    {
     "data": {
      "text/plain": [
       "1"
      ]
     },
     "execution_count": 54,
     "metadata": {},
     "output_type": "execute_result"
    }
   ],
   "source": [
    "y1.ndim"
   ]
  },
  {
   "cell_type": "code",
   "execution_count": 55,
   "id": "95f5a943",
   "metadata": {},
   "outputs": [],
   "source": [
    "from sklearn.model_selection import train_test_split"
   ]
  },
  {
   "cell_type": "code",
   "execution_count": 56,
   "id": "fd8c3cb3",
   "metadata": {},
   "outputs": [],
   "source": [
    "x1train,x1test,y1train,y1test =train_test_split(x1,y1,test_size=0.3,random_state=1)"
   ]
  },
  {
   "cell_type": "code",
   "execution_count": 57,
   "id": "7f3228f3",
   "metadata": {},
   "outputs": [],
   "source": [
    "from sklearn.neighbors import KNeighborsClassifier"
   ]
  },
  {
   "cell_type": "code",
   "execution_count": 58,
   "id": "df5af411",
   "metadata": {},
   "outputs": [],
   "source": [
    "kncls =KNeighborsClassifier()"
   ]
  },
  {
   "cell_type": "code",
   "execution_count": 59,
   "id": "1997c546",
   "metadata": {},
   "outputs": [
    {
     "data": {
      "text/plain": [
       "KNeighborsClassifier()"
      ]
     },
     "execution_count": 59,
     "metadata": {},
     "output_type": "execute_result"
    }
   ],
   "source": [
    "kncls.fit(x1train,y1train)"
   ]
  },
  {
   "cell_type": "code",
   "execution_count": 60,
   "id": "f54e341c",
   "metadata": {},
   "outputs": [
    {
     "data": {
      "text/plain": [
       "array([0])"
      ]
     },
     "execution_count": 60,
     "metadata": {},
     "output_type": "execute_result"
    }
   ],
   "source": [
    "kncls.predict([[60.921791,131.253738]])"
   ]
  },
  {
   "cell_type": "code",
   "execution_count": 61,
   "id": "8ed83bec",
   "metadata": {},
   "outputs": [
    {
     "data": {
      "text/plain": [
       "0.9146864043630697"
      ]
     },
     "execution_count": 61,
     "metadata": {},
     "output_type": "execute_result"
    }
   ],
   "source": [
    "kncls.score(x1test,y1test)"
   ]
  },
  {
   "cell_type": "markdown",
   "id": "bef87984",
   "metadata": {},
   "source": [
    "# Tuning"
   ]
  },
  {
   "cell_type": "code",
   "execution_count": 62,
   "id": "d6f4685e",
   "metadata": {},
   "outputs": [
    {
     "name": "stdout",
     "output_type": "stream",
     "text": [
      "{'n_neighbors': [10, 16, 22, 29, 35, 42, 48, 55, 61, 67, 74, 80, 87, 93, 100], 'weights': ['uniform', 'distance']}\n"
     ]
    }
   ],
   "source": [
    "k_neighbors = [int(x) for x in np.linspace(10,100,15) ]\n",
    "weights =['uniform', 'distance']\n",
    "\n",
    "grids ={\n",
    "   \"n_neighbors\":k_neighbors,\n",
    "    \"weights\":weights\n",
    "}\n",
    "print(grids)"
   ]
  },
  {
   "cell_type": "code",
   "execution_count": 63,
   "id": "9b2b4e35",
   "metadata": {},
   "outputs": [],
   "source": [
    "from sklearn.model_selection import RandomizedSearchCV"
   ]
  },
  {
   "cell_type": "code",
   "execution_count": 64,
   "id": "7beb9373",
   "metadata": {},
   "outputs": [],
   "source": [
    "knclass =KNeighborsClassifier()"
   ]
  },
  {
   "cell_type": "code",
   "execution_count": 65,
   "id": "c7dcfee3",
   "metadata": {},
   "outputs": [],
   "source": [
    "rmcvcls =RandomizedSearchCV(estimator=knclass,param_distributions=grids,n_iter=100 ,cv=5)"
   ]
  },
  {
   "cell_type": "code",
   "execution_count": 66,
   "id": "2c7c855c",
   "metadata": {},
   "outputs": [
    {
     "data": {
      "text/plain": [
       "RandomizedSearchCV(cv=5, estimator=KNeighborsClassifier(), n_iter=100,\n",
       "                   param_distributions={'n_neighbors': [10, 16, 22, 29, 35, 42,\n",
       "                                                        48, 55, 61, 67, 74, 80,\n",
       "                                                        87, 93, 100],\n",
       "                                        'weights': ['uniform', 'distance']})"
      ]
     },
     "execution_count": 66,
     "metadata": {},
     "output_type": "execute_result"
    }
   ],
   "source": [
    "rmcvcls"
   ]
  },
  {
   "cell_type": "code",
   "execution_count": 67,
   "id": "e5b57a8d",
   "metadata": {},
   "outputs": [
    {
     "name": "stderr",
     "output_type": "stream",
     "text": [
      "C:\\Users\\Binu\\anaconda3\\lib\\site-packages\\sklearn\\model_selection\\_search.py:285: UserWarning: The total space of parameters 30 is smaller than n_iter=100. Running 30 iterations. For exhaustive searches, use GridSearchCV.\n",
      "  warnings.warn(\n"
     ]
    },
    {
     "data": {
      "text/plain": [
       "RandomizedSearchCV(cv=5, estimator=KNeighborsClassifier(), n_iter=100,\n",
       "                   param_distributions={'n_neighbors': [10, 16, 22, 29, 35, 42,\n",
       "                                                        48, 55, 61, 67, 74, 80,\n",
       "                                                        87, 93, 100],\n",
       "                                        'weights': ['uniform', 'distance']})"
      ]
     },
     "execution_count": 67,
     "metadata": {},
     "output_type": "execute_result"
    }
   ],
   "source": [
    "rmcvcls.fit(x1train,y1train)"
   ]
  },
  {
   "cell_type": "code",
   "execution_count": 68,
   "id": "c1f1fc20",
   "metadata": {},
   "outputs": [
    {
     "data": {
      "text/plain": [
       "{'weights': 'distance', 'n_neighbors': 48}"
      ]
     },
     "execution_count": 68,
     "metadata": {},
     "output_type": "execute_result"
    }
   ],
   "source": [
    "rmcvcls.best_params_"
   ]
  },
  {
   "cell_type": "code",
   "execution_count": 69,
   "id": "07e6ad98",
   "metadata": {},
   "outputs": [
    {
     "data": {
      "text/plain": [
       "0.9139967336259402"
      ]
     },
     "execution_count": 69,
     "metadata": {},
     "output_type": "execute_result"
    }
   ],
   "source": [
    "rmcvcls.best_score_"
   ]
  },
  {
   "cell_type": "code",
   "execution_count": 70,
   "id": "03bf97a3",
   "metadata": {},
   "outputs": [
    {
     "data": {
      "text/plain": [
       "0.9216984807167901"
      ]
     },
     "execution_count": 70,
     "metadata": {},
     "output_type": "execute_result"
    }
   ],
   "source": [
    "rmcvcls.score(x1test,y1test)"
   ]
  },
  {
   "cell_type": "markdown",
   "id": "ae693842",
   "metadata": {},
   "source": [
    "After tuning we can get better accuracy for this datasets"
   ]
  },
  {
   "cell_type": "code",
   "execution_count": null,
   "id": "7a6c94e3",
   "metadata": {},
   "outputs": [],
   "source": []
  }
 ],
 "metadata": {
  "kernelspec": {
   "display_name": "Python 3",
   "language": "python",
   "name": "python3"
  },
  "language_info": {
   "codemirror_mode": {
    "name": "ipython",
    "version": 3
   },
   "file_extension": ".py",
   "mimetype": "text/x-python",
   "name": "python",
   "nbconvert_exporter": "python",
   "pygments_lexer": "ipython3",
   "version": "3.8.8"
  }
 },
 "nbformat": 4,
 "nbformat_minor": 5
}
