{
 "cells": [
  {
   "cell_type": "markdown",
   "id": "62f845eb",
   "metadata": {},
   "source": [
    "### Problem statement\n",
    "\n",
    "The objective of this project is  \n",
    " 1. to analyze death rate according to diseases\n",
    " 2. Apply decision tree algorithm and Random forest algorithm. Compare both accuracy.\n",
    " 3. Evaluate model and appy randomized searchCV"
   ]
  },
  {
   "cell_type": "code",
   "execution_count": 1,
   "id": "3946ac88",
   "metadata": {},
   "outputs": [],
   "source": [
    "import pandas as pd\n",
    "import seaborn as sns\n",
    "import matplotlib.pyplot as plt"
   ]
  },
  {
   "cell_type": "code",
   "execution_count": 2,
   "id": "fda4bc9c",
   "metadata": {},
   "outputs": [
    {
     "data": {
      "text/html": [
       "<div>\n",
       "<style scoped>\n",
       "    .dataframe tbody tr th:only-of-type {\n",
       "        vertical-align: middle;\n",
       "    }\n",
       "\n",
       "    .dataframe tbody tr th {\n",
       "        vertical-align: top;\n",
       "    }\n",
       "\n",
       "    .dataframe thead th {\n",
       "        text-align: right;\n",
       "    }\n",
       "</style>\n",
       "<table border=\"1\" class=\"dataframe\">\n",
       "  <thead>\n",
       "    <tr style=\"text-align: right;\">\n",
       "      <th></th>\n",
       "      <th>age</th>\n",
       "      <th>anaemia</th>\n",
       "      <th>creatinine_phosphokinase</th>\n",
       "      <th>diabetes</th>\n",
       "      <th>ejection_fraction</th>\n",
       "      <th>high_blood_pressure</th>\n",
       "      <th>platelets</th>\n",
       "      <th>serum_creatinine</th>\n",
       "      <th>serum_sodium</th>\n",
       "      <th>sex</th>\n",
       "      <th>smoking</th>\n",
       "      <th>time</th>\n",
       "      <th>DEATH_EVENT</th>\n",
       "    </tr>\n",
       "  </thead>\n",
       "  <tbody>\n",
       "    <tr>\n",
       "      <th>0</th>\n",
       "      <td>75.0</td>\n",
       "      <td>0</td>\n",
       "      <td>582</td>\n",
       "      <td>0</td>\n",
       "      <td>20</td>\n",
       "      <td>1</td>\n",
       "      <td>265000.00</td>\n",
       "      <td>1.9</td>\n",
       "      <td>130</td>\n",
       "      <td>1</td>\n",
       "      <td>0</td>\n",
       "      <td>4</td>\n",
       "      <td>1</td>\n",
       "    </tr>\n",
       "    <tr>\n",
       "      <th>1</th>\n",
       "      <td>55.0</td>\n",
       "      <td>0</td>\n",
       "      <td>7861</td>\n",
       "      <td>0</td>\n",
       "      <td>38</td>\n",
       "      <td>0</td>\n",
       "      <td>263358.03</td>\n",
       "      <td>1.1</td>\n",
       "      <td>136</td>\n",
       "      <td>1</td>\n",
       "      <td>0</td>\n",
       "      <td>6</td>\n",
       "      <td>1</td>\n",
       "    </tr>\n",
       "    <tr>\n",
       "      <th>2</th>\n",
       "      <td>65.0</td>\n",
       "      <td>0</td>\n",
       "      <td>146</td>\n",
       "      <td>0</td>\n",
       "      <td>20</td>\n",
       "      <td>0</td>\n",
       "      <td>162000.00</td>\n",
       "      <td>1.3</td>\n",
       "      <td>129</td>\n",
       "      <td>1</td>\n",
       "      <td>1</td>\n",
       "      <td>7</td>\n",
       "      <td>1</td>\n",
       "    </tr>\n",
       "    <tr>\n",
       "      <th>3</th>\n",
       "      <td>50.0</td>\n",
       "      <td>1</td>\n",
       "      <td>111</td>\n",
       "      <td>0</td>\n",
       "      <td>20</td>\n",
       "      <td>0</td>\n",
       "      <td>210000.00</td>\n",
       "      <td>1.9</td>\n",
       "      <td>137</td>\n",
       "      <td>1</td>\n",
       "      <td>0</td>\n",
       "      <td>7</td>\n",
       "      <td>1</td>\n",
       "    </tr>\n",
       "    <tr>\n",
       "      <th>4</th>\n",
       "      <td>65.0</td>\n",
       "      <td>1</td>\n",
       "      <td>160</td>\n",
       "      <td>1</td>\n",
       "      <td>20</td>\n",
       "      <td>0</td>\n",
       "      <td>327000.00</td>\n",
       "      <td>2.7</td>\n",
       "      <td>116</td>\n",
       "      <td>0</td>\n",
       "      <td>0</td>\n",
       "      <td>8</td>\n",
       "      <td>1</td>\n",
       "    </tr>\n",
       "  </tbody>\n",
       "</table>\n",
       "</div>"
      ],
      "text/plain": [
       "    age  anaemia  creatinine_phosphokinase  diabetes  ejection_fraction  \\\n",
       "0  75.0        0                       582         0                 20   \n",
       "1  55.0        0                      7861         0                 38   \n",
       "2  65.0        0                       146         0                 20   \n",
       "3  50.0        1                       111         0                 20   \n",
       "4  65.0        1                       160         1                 20   \n",
       "\n",
       "   high_blood_pressure  platelets  serum_creatinine  serum_sodium  sex  \\\n",
       "0                    1  265000.00               1.9           130    1   \n",
       "1                    0  263358.03               1.1           136    1   \n",
       "2                    0  162000.00               1.3           129    1   \n",
       "3                    0  210000.00               1.9           137    1   \n",
       "4                    0  327000.00               2.7           116    0   \n",
       "\n",
       "   smoking  time  DEATH_EVENT  \n",
       "0        0     4            1  \n",
       "1        0     6            1  \n",
       "2        1     7            1  \n",
       "3        0     7            1  \n",
       "4        0     8            1  "
      ]
     },
     "execution_count": 2,
     "metadata": {},
     "output_type": "execute_result"
    }
   ],
   "source": [
    "df = pd.read_csv('heart failure.csv')\n",
    "df.head()"
   ]
  },
  {
   "cell_type": "markdown",
   "id": "1d6f1c23",
   "metadata": {},
   "source": [
    "This is the heart failure datasets "
   ]
  },
  {
   "cell_type": "code",
   "execution_count": 3,
   "id": "d8c30637",
   "metadata": {},
   "outputs": [
    {
     "data": {
      "text/plain": [
       "(299, 13)"
      ]
     },
     "execution_count": 3,
     "metadata": {},
     "output_type": "execute_result"
    }
   ],
   "source": [
    "df.shape"
   ]
  },
  {
   "cell_type": "code",
   "execution_count": 4,
   "id": "0c41ca4b",
   "metadata": {},
   "outputs": [
    {
     "data": {
      "text/plain": [
       "0    203\n",
       "1     96\n",
       "Name: DEATH_EVENT, dtype: int64"
      ]
     },
     "execution_count": 4,
     "metadata": {},
     "output_type": "execute_result"
    }
   ],
   "source": [
    "df.DEATH_EVENT.value_counts()"
   ]
  },
  {
   "cell_type": "code",
   "execution_count": 5,
   "id": "f8ffc1ac",
   "metadata": {},
   "outputs": [
    {
     "data": {
      "image/png": "[encoded data removed]",
      "text/plain": [
       "<Figure size 432x288 with 1 Axes>"
      ]
     },
     "metadata": {
      "needs_background": "light"
     },
     "output_type": "display_data"
    }
   ],
   "source": [
    "sns.countplot(x='DEATH_EVENT',data=df);"
   ]
  },
  {
   "cell_type": "markdown",
   "id": "82f1c3e2",
   "metadata": {},
   "source": [
    "Here, 0 = did not dead and\n",
    "      1 = Dead\n",
    "      "
   ]
  },
  {
   "cell_type": "code",
   "execution_count": 6,
   "id": "f32b8e02",
   "metadata": {},
   "outputs": [
    {
     "data": {
      "image/png": "[encoded data removed]",
      "text/plain": [
       "<Figure size 432x288 with 1 Axes>"
      ]
     },
     "metadata": {
      "needs_background": "light"
     },
     "output_type": "display_data"
    }
   ],
   "source": [
    "sns.countplot(y='anaemia',data=df);"
   ]
  },
  {
   "cell_type": "markdown",
   "id": "842d94ae",
   "metadata": {},
   "source": [
    "0 = No anaemia and 1 = anaemia"
   ]
  },
  {
   "cell_type": "code",
   "execution_count": 7,
   "id": "0c0850dc",
   "metadata": {},
   "outputs": [
    {
     "data": {
      "image/png": "[encoded data removed]",
      "text/plain": [
       "<Figure size 432x288 with 1 Axes>"
      ]
     },
     "metadata": {
      "needs_background": "light"
     },
     "output_type": "display_data"
    }
   ],
   "source": [
    "sns.countplot(x='anaemia',data=df,hue='DEATH_EVENT');"
   ]
  },
  {
   "cell_type": "markdown",
   "id": "18315358",
   "metadata": {},
   "source": [
    "The death rate of People who has anaemia is equal to The death rate of People who has not anaemia but the affected people by anaemia is less.\n",
    "So we can say that the people who has anaemia,he is more likely to die."
   ]
  },
  {
   "cell_type": "code",
   "execution_count": 8,
   "id": "ed744777",
   "metadata": {
    "scrolled": true
   },
   "outputs": [
    {
     "data": {
      "image/png": "[encoded data removed]",
      "text/plain": [
       "<Figure size 432x288 with 1 Axes>"
      ]
     },
     "metadata": {
      "needs_background": "light"
     },
     "output_type": "display_data"
    }
   ],
   "source": [
    "sns.countplot(x='sex',data=df,hue='DEATH_EVENT');"
   ]
  },
  {
   "cell_type": "markdown",
   "id": "76ac35ff",
   "metadata": {},
   "source": [
    "0= Female and 1 = Male.\n",
    "The death rate of male is high than female"
   ]
  },
  {
   "cell_type": "code",
   "execution_count": 9,
   "id": "a245907b",
   "metadata": {},
   "outputs": [
    {
     "data": {
      "image/png": "[encoded data removed]",
      "text/plain": [
       "<Figure size 432x288 with 1 Axes>"
      ]
     },
     "metadata": {
      "needs_background": "light"
     },
     "output_type": "display_data"
    }
   ],
   "source": [
    "sns.countplot(x='high_blood_pressure',data=df,hue='DEATH_EVENT') ;"
   ]
  },
  {
   "cell_type": "markdown",
   "id": "71b25a44",
   "metadata": {},
   "source": [
    " the people who has high_blood_pressure,he is more likely to die."
   ]
  },
  {
   "cell_type": "markdown",
   "id": "e744c347",
   "metadata": {},
   "source": [
    "### Train_test_split"
   ]
  },
  {
   "cell_type": "code",
   "execution_count": 10,
   "id": "c1fb402f",
   "metadata": {},
   "outputs": [],
   "source": [
    "from sklearn.model_selection import train_test_split"
   ]
  },
  {
   "cell_type": "code",
   "execution_count": 11,
   "id": "8b7848a0",
   "metadata": {},
   "outputs": [],
   "source": [
    "x = df.drop('DEATH_EVENT',axis=1)\n",
    "y = df['DEATH_EVENT']"
   ]
  },
  {
   "cell_type": "code",
   "execution_count": 12,
   "id": "2f6fd8e5",
   "metadata": {},
   "outputs": [],
   "source": [
    "xtrain,xtest, ytrain, ytest = train_test_split(x,y,test_size=.30,random_state=1)"
   ]
  },
  {
   "cell_type": "code",
   "execution_count": 13,
   "id": "41bcd83d",
   "metadata": {},
   "outputs": [
    {
     "data": {
      "text/html": [
       "<div>\n",
       "<style scoped>\n",
       "    .dataframe tbody tr th:only-of-type {\n",
       "        vertical-align: middle;\n",
       "    }\n",
       "\n",
       "    .dataframe tbody tr th {\n",
       "        vertical-align: top;\n",
       "    }\n",
       "\n",
       "    .dataframe thead th {\n",
       "        text-align: right;\n",
       "    }\n",
       "</style>\n",
       "<table border=\"1\" class=\"dataframe\">\n",
       "  <thead>\n",
       "    <tr style=\"text-align: right;\">\n",
       "      <th></th>\n",
       "      <th>age</th>\n",
       "      <th>anaemia</th>\n",
       "      <th>creatinine_phosphokinase</th>\n",
       "      <th>diabetes</th>\n",
       "      <th>ejection_fraction</th>\n",
       "      <th>high_blood_pressure</th>\n",
       "      <th>platelets</th>\n",
       "      <th>serum_creatinine</th>\n",
       "      <th>serum_sodium</th>\n",
       "      <th>sex</th>\n",
       "      <th>smoking</th>\n",
       "      <th>time</th>\n",
       "    </tr>\n",
       "  </thead>\n",
       "  <tbody>\n",
       "    <tr>\n",
       "      <th>173</th>\n",
       "      <td>50.0</td>\n",
       "      <td>1</td>\n",
       "      <td>115</td>\n",
       "      <td>0</td>\n",
       "      <td>20</td>\n",
       "      <td>0</td>\n",
       "      <td>189000.0</td>\n",
       "      <td>0.80</td>\n",
       "      <td>139</td>\n",
       "      <td>1</td>\n",
       "      <td>0</td>\n",
       "      <td>146</td>\n",
       "    </tr>\n",
       "    <tr>\n",
       "      <th>287</th>\n",
       "      <td>45.0</td>\n",
       "      <td>0</td>\n",
       "      <td>582</td>\n",
       "      <td>1</td>\n",
       "      <td>55</td>\n",
       "      <td>0</td>\n",
       "      <td>543000.0</td>\n",
       "      <td>1.00</td>\n",
       "      <td>132</td>\n",
       "      <td>0</td>\n",
       "      <td>0</td>\n",
       "      <td>250</td>\n",
       "    </tr>\n",
       "    <tr>\n",
       "      <th>51</th>\n",
       "      <td>53.0</td>\n",
       "      <td>1</td>\n",
       "      <td>91</td>\n",
       "      <td>0</td>\n",
       "      <td>20</td>\n",
       "      <td>1</td>\n",
       "      <td>418000.0</td>\n",
       "      <td>1.40</td>\n",
       "      <td>139</td>\n",
       "      <td>0</td>\n",
       "      <td>0</td>\n",
       "      <td>43</td>\n",
       "    </tr>\n",
       "    <tr>\n",
       "      <th>146</th>\n",
       "      <td>52.0</td>\n",
       "      <td>0</td>\n",
       "      <td>132</td>\n",
       "      <td>0</td>\n",
       "      <td>30</td>\n",
       "      <td>0</td>\n",
       "      <td>218000.0</td>\n",
       "      <td>0.70</td>\n",
       "      <td>136</td>\n",
       "      <td>1</td>\n",
       "      <td>1</td>\n",
       "      <td>112</td>\n",
       "    </tr>\n",
       "    <tr>\n",
       "      <th>214</th>\n",
       "      <td>65.0</td>\n",
       "      <td>1</td>\n",
       "      <td>135</td>\n",
       "      <td>0</td>\n",
       "      <td>35</td>\n",
       "      <td>1</td>\n",
       "      <td>290000.0</td>\n",
       "      <td>0.80</td>\n",
       "      <td>134</td>\n",
       "      <td>1</td>\n",
       "      <td>0</td>\n",
       "      <td>194</td>\n",
       "    </tr>\n",
       "    <tr>\n",
       "      <th>...</th>\n",
       "      <td>...</td>\n",
       "      <td>...</td>\n",
       "      <td>...</td>\n",
       "      <td>...</td>\n",
       "      <td>...</td>\n",
       "      <td>...</td>\n",
       "      <td>...</td>\n",
       "      <td>...</td>\n",
       "      <td>...</td>\n",
       "      <td>...</td>\n",
       "      <td>...</td>\n",
       "      <td>...</td>\n",
       "    </tr>\n",
       "    <tr>\n",
       "      <th>122</th>\n",
       "      <td>60.0</td>\n",
       "      <td>0</td>\n",
       "      <td>96</td>\n",
       "      <td>1</td>\n",
       "      <td>38</td>\n",
       "      <td>0</td>\n",
       "      <td>228000.0</td>\n",
       "      <td>0.75</td>\n",
       "      <td>140</td>\n",
       "      <td>0</td>\n",
       "      <td>0</td>\n",
       "      <td>95</td>\n",
       "    </tr>\n",
       "    <tr>\n",
       "      <th>246</th>\n",
       "      <td>55.0</td>\n",
       "      <td>0</td>\n",
       "      <td>2017</td>\n",
       "      <td>0</td>\n",
       "      <td>25</td>\n",
       "      <td>0</td>\n",
       "      <td>314000.0</td>\n",
       "      <td>1.10</td>\n",
       "      <td>138</td>\n",
       "      <td>1</td>\n",
       "      <td>0</td>\n",
       "      <td>214</td>\n",
       "    </tr>\n",
       "    <tr>\n",
       "      <th>278</th>\n",
       "      <td>50.0</td>\n",
       "      <td>1</td>\n",
       "      <td>1051</td>\n",
       "      <td>1</td>\n",
       "      <td>30</td>\n",
       "      <td>0</td>\n",
       "      <td>232000.0</td>\n",
       "      <td>0.70</td>\n",
       "      <td>136</td>\n",
       "      <td>0</td>\n",
       "      <td>0</td>\n",
       "      <td>246</td>\n",
       "    </tr>\n",
       "    <tr>\n",
       "      <th>251</th>\n",
       "      <td>55.0</td>\n",
       "      <td>0</td>\n",
       "      <td>572</td>\n",
       "      <td>1</td>\n",
       "      <td>35</td>\n",
       "      <td>0</td>\n",
       "      <td>231000.0</td>\n",
       "      <td>0.80</td>\n",
       "      <td>143</td>\n",
       "      <td>0</td>\n",
       "      <td>0</td>\n",
       "      <td>215</td>\n",
       "    </tr>\n",
       "    <tr>\n",
       "      <th>19</th>\n",
       "      <td>48.0</td>\n",
       "      <td>1</td>\n",
       "      <td>582</td>\n",
       "      <td>1</td>\n",
       "      <td>55</td>\n",
       "      <td>0</td>\n",
       "      <td>87000.0</td>\n",
       "      <td>1.90</td>\n",
       "      <td>121</td>\n",
       "      <td>0</td>\n",
       "      <td>0</td>\n",
       "      <td>15</td>\n",
       "    </tr>\n",
       "  </tbody>\n",
       "</table>\n",
       "<p>90 rows × 12 columns</p>\n",
       "</div>"
      ],
      "text/plain": [
       "      age  anaemia  creatinine_phosphokinase  diabetes  ejection_fraction  \\\n",
       "173  50.0        1                       115         0                 20   \n",
       "287  45.0        0                       582         1                 55   \n",
       "51   53.0        1                        91         0                 20   \n",
       "146  52.0        0                       132         0                 30   \n",
       "214  65.0        1                       135         0                 35   \n",
       "..    ...      ...                       ...       ...                ...   \n",
       "122  60.0        0                        96         1                 38   \n",
       "246  55.0        0                      2017         0                 25   \n",
       "278  50.0        1                      1051         1                 30   \n",
       "251  55.0        0                       572         1                 35   \n",
       "19   48.0        1                       582         1                 55   \n",
       "\n",
       "     high_blood_pressure  platelets  serum_creatinine  serum_sodium  sex  \\\n",
       "173                    0   189000.0              0.80           139    1   \n",
       "287                    0   543000.0              1.00           132    0   \n",
       "51                     1   418000.0              1.40           139    0   \n",
       "146                    0   218000.0              0.70           136    1   \n",
       "214                    1   290000.0              0.80           134    1   \n",
       "..                   ...        ...               ...           ...  ...   \n",
       "122                    0   228000.0              0.75           140    0   \n",
       "246                    0   314000.0              1.10           138    1   \n",
       "278                    0   232000.0              0.70           136    0   \n",
       "251                    0   231000.0              0.80           143    0   \n",
       "19                     0    87000.0              1.90           121    0   \n",
       "\n",
       "     smoking  time  \n",
       "173        0   146  \n",
       "287        0   250  \n",
       "51         0    43  \n",
       "146        1   112  \n",
       "214        0   194  \n",
       "..       ...   ...  \n",
       "122        0    95  \n",
       "246        0   214  \n",
       "278        0   246  \n",
       "251        0   215  \n",
       "19         0    15  \n",
       "\n",
       "[90 rows x 12 columns]"
      ]
     },
     "execution_count": 13,
     "metadata": {},
     "output_type": "execute_result"
    }
   ],
   "source": [
    "xtest"
   ]
  },
  {
   "cell_type": "code",
   "execution_count": 14,
   "id": "e2279f7d",
   "metadata": {},
   "outputs": [
    {
     "data": {
      "text/plain": [
       "173    0\n",
       "287    0\n",
       "51     1\n",
       "146    0\n",
       "214    0\n",
       "      ..\n",
       "122    0\n",
       "246    1\n",
       "278    0\n",
       "251    0\n",
       "19     1\n",
       "Name: DEATH_EVENT, Length: 90, dtype: int64"
      ]
     },
     "execution_count": 14,
     "metadata": {},
     "output_type": "execute_result"
    }
   ],
   "source": [
    "ytest"
   ]
  },
  {
   "cell_type": "code",
   "execution_count": 15,
   "id": "74e6eb59",
   "metadata": {},
   "outputs": [],
   "source": [
    "from sklearn.tree import DecisionTreeClassifier"
   ]
  },
  {
   "cell_type": "code",
   "execution_count": 16,
   "id": "1392503a",
   "metadata": {},
   "outputs": [],
   "source": [
    "dt = DecisionTreeClassifier()"
   ]
  },
  {
   "cell_type": "code",
   "execution_count": 17,
   "id": "5559324c",
   "metadata": {},
   "outputs": [
    {
     "data": {
      "text/plain": [
       "DecisionTreeClassifier()"
      ]
     },
     "execution_count": 17,
     "metadata": {},
     "output_type": "execute_result"
    }
   ],
   "source": [
    "dt.fit(xtrain,ytrain)"
   ]
  },
  {
   "cell_type": "markdown",
   "id": "03bea019",
   "metadata": {},
   "source": [
    "# Evaluate Model"
   ]
  },
  {
   "cell_type": "code",
   "execution_count": 18,
   "id": "a1645ef7",
   "metadata": {},
   "outputs": [],
   "source": [
    "pred = dt.predict(xtest)"
   ]
  },
  {
   "cell_type": "code",
   "execution_count": 19,
   "id": "525768c0",
   "metadata": {},
   "outputs": [
    {
     "data": {
      "text/plain": [
       "array([0, 0, 0, 0, 0, 0, 0, 0, 1, 0, 1, 0, 1, 0, 1, 0, 0, 1, 0, 0, 0, 1,\n",
       "       1, 1, 0, 0, 0, 0, 0, 1, 0, 0, 0, 0, 0, 1, 0, 0, 0, 0, 1, 0, 0, 0,\n",
       "       1, 1, 0, 0, 1, 0, 0, 0, 0, 1, 0, 0, 0, 0, 0, 0, 0, 0, 0, 0, 1, 0,\n",
       "       1, 1, 0, 0, 0, 0, 0, 0, 0, 1, 0, 0, 0, 1, 1, 0, 1, 0, 0, 0, 0, 0,\n",
       "       0, 1], dtype=int64)"
      ]
     },
     "execution_count": 19,
     "metadata": {},
     "output_type": "execute_result"
    }
   ],
   "source": [
    "pred"
   ]
  },
  {
   "cell_type": "code",
   "execution_count": 20,
   "id": "bc7c3ef4",
   "metadata": {},
   "outputs": [
    {
     "data": {
      "text/plain": [
       "173    0\n",
       "287    0\n",
       "51     1\n",
       "146    0\n",
       "214    0\n",
       "      ..\n",
       "122    0\n",
       "246    1\n",
       "278    0\n",
       "251    0\n",
       "19     1\n",
       "Name: DEATH_EVENT, Length: 90, dtype: int64"
      ]
     },
     "execution_count": 20,
     "metadata": {},
     "output_type": "execute_result"
    }
   ],
   "source": [
    "ytest"
   ]
  },
  {
   "cell_type": "code",
   "execution_count": 21,
   "id": "ecdbb404",
   "metadata": {},
   "outputs": [
    {
     "data": {
      "text/plain": [
       "0.8111111111111111"
      ]
     },
     "execution_count": 21,
     "metadata": {},
     "output_type": "execute_result"
    }
   ],
   "source": [
    "accuracy = dt.score(xtest,ytest)\n",
    "accuracy"
   ]
  },
  {
   "cell_type": "code",
   "execution_count": 22,
   "id": "e10646f7",
   "metadata": {},
   "outputs": [],
   "source": [
    "from sklearn.metrics import classification_report , accuracy_score, confusion_matrix, plot_roc_curve"
   ]
  },
  {
   "cell_type": "code",
   "execution_count": 23,
   "id": "198d8569",
   "metadata": {},
   "outputs": [
    {
     "data": {
      "text/plain": [
       "'              precision    recall  f1-score   support\\n\\n           0       0.85      0.89      0.87        64\\n           1       0.70      0.62      0.65        26\\n\\n    accuracy                           0.81        90\\n   macro avg       0.77      0.75      0.76        90\\nweighted avg       0.81      0.81      0.81        90\\n'"
      ]
     },
     "execution_count": 23,
     "metadata": {},
     "output_type": "execute_result"
    }
   ],
   "source": [
    "classification_report(ytest,pred)"
   ]
  },
  {
   "cell_type": "code",
   "execution_count": 24,
   "id": "42212845",
   "metadata": {},
   "outputs": [
    {
     "name": "stdout",
     "output_type": "stream",
     "text": [
      "              precision    recall  f1-score   support\n",
      "\n",
      "           0       0.85      0.89      0.87        64\n",
      "           1       0.70      0.62      0.65        26\n",
      "\n",
      "    accuracy                           0.81        90\n",
      "   macro avg       0.77      0.75      0.76        90\n",
      "weighted avg       0.81      0.81      0.81        90\n",
      "\n"
     ]
    }
   ],
   "source": [
    "print(classification_report(ytest, pred))"
   ]
  },
  {
   "cell_type": "code",
   "execution_count": 25,
   "id": "7e4569b9",
   "metadata": {},
   "outputs": [
    {
     "data": {
      "text/plain": [
       "array([[57,  7],\n",
       "       [10, 16]], dtype=int64)"
      ]
     },
     "execution_count": 25,
     "metadata": {},
     "output_type": "execute_result"
    }
   ],
   "source": [
    "confusion_matrix(ytest,pred)"
   ]
  },
  {
   "cell_type": "code",
   "execution_count": 26,
   "id": "893296ce",
   "metadata": {},
   "outputs": [],
   "source": [
    "cm = confusion_matrix(ytest,pred)"
   ]
  },
  {
   "cell_type": "code",
   "execution_count": 27,
   "id": "d1c470c7",
   "metadata": {},
   "outputs": [
    {
     "data": {
      "text/plain": [
       "<AxesSubplot:>"
      ]
     },
     "execution_count": 27,
     "metadata": {},
     "output_type": "execute_result"
    },
    {
     "data": {
      "image/png": "[encoded data removed]",
      "text/plain": [
       "<Figure size 432x288 with 2 Axes>"
      ]
     },
     "metadata": {
      "needs_background": "light"
     },
     "output_type": "display_data"
    }
   ],
   "source": [
    "sns.heatmap(cm,annot=True)"
   ]
  },
  {
   "cell_type": "code",
   "execution_count": 28,
   "id": "31c33e3d",
   "metadata": {},
   "outputs": [],
   "source": [
    "tp , fn, fp,tn = confusion_matrix(ytest,pred).reshape(-1)"
   ]
  },
  {
   "cell_type": "code",
   "execution_count": 29,
   "id": "d6815ad5",
   "metadata": {},
   "outputs": [
    {
     "data": {
      "text/plain": [
       "57"
      ]
     },
     "execution_count": 29,
     "metadata": {},
     "output_type": "execute_result"
    }
   ],
   "source": [
    "tp"
   ]
  },
  {
   "cell_type": "code",
   "execution_count": 30,
   "id": "7c7cb574",
   "metadata": {},
   "outputs": [
    {
     "data": {
      "text/plain": [
       "7"
      ]
     },
     "execution_count": 30,
     "metadata": {},
     "output_type": "execute_result"
    }
   ],
   "source": [
    "fn"
   ]
  },
  {
   "cell_type": "code",
   "execution_count": 31,
   "id": "a4cf62fc",
   "metadata": {},
   "outputs": [
    {
     "data": {
      "text/plain": [
       "10"
      ]
     },
     "execution_count": 31,
     "metadata": {},
     "output_type": "execute_result"
    }
   ],
   "source": [
    "fp"
   ]
  },
  {
   "cell_type": "code",
   "execution_count": 32,
   "id": "f03d6ffa",
   "metadata": {},
   "outputs": [
    {
     "data": {
      "text/plain": [
       "16"
      ]
     },
     "execution_count": 32,
     "metadata": {},
     "output_type": "execute_result"
    }
   ],
   "source": [
    "tn"
   ]
  },
  {
   "cell_type": "markdown",
   "id": "134442c7",
   "metadata": {},
   "source": [
    "# Random Forest Classifier"
   ]
  },
  {
   "cell_type": "code",
   "execution_count": 33,
   "id": "b449abd0",
   "metadata": {},
   "outputs": [],
   "source": [
    "from sklearn.ensemble import RandomForestClassifier"
   ]
  },
  {
   "cell_type": "code",
   "execution_count": 34,
   "id": "c481e04a",
   "metadata": {},
   "outputs": [],
   "source": [
    "ran = RandomForestClassifier(n_estimators=10) # How much trees"
   ]
  },
  {
   "cell_type": "code",
   "execution_count": 35,
   "id": "6828eeaf",
   "metadata": {},
   "outputs": [
    {
     "data": {
      "text/plain": [
       "RandomForestClassifier(n_estimators=10)"
      ]
     },
     "execution_count": 35,
     "metadata": {},
     "output_type": "execute_result"
    }
   ],
   "source": [
    "ran.fit(xtrain,ytrain)"
   ]
  },
  {
   "cell_type": "code",
   "execution_count": 36,
   "id": "318e8461",
   "metadata": {},
   "outputs": [
    {
     "data": {
      "text/plain": [
       "0.8666666666666667"
      ]
     },
     "execution_count": 36,
     "metadata": {},
     "output_type": "execute_result"
    }
   ],
   "source": [
    "ran.score(xtest,ytest)"
   ]
  },
  {
   "cell_type": "code",
   "execution_count": 37,
   "id": "d7263a63",
   "metadata": {},
   "outputs": [],
   "source": [
    "prd_ran = ran.predict(xtest)"
   ]
  },
  {
   "cell_type": "code",
   "execution_count": 38,
   "id": "92053f3d",
   "metadata": {},
   "outputs": [
    {
     "data": {
      "text/plain": [
       "0.8666666666666667"
      ]
     },
     "execution_count": 38,
     "metadata": {},
     "output_type": "execute_result"
    }
   ],
   "source": [
    "accuracy = accuracy_score(ytest, prd_ran)\n",
    "accuracy"
   ]
  },
  {
   "cell_type": "markdown",
   "id": "0e9e31e5",
   "metadata": {},
   "source": [
    "We can say , Random forest is better than decision tree for this datasets"
   ]
  },
  {
   "cell_type": "markdown",
   "id": "be8ea6c3",
   "metadata": {},
   "source": [
    "# Hyper Parameter Tuning / Optimization Using Randomized searchCV"
   ]
  },
  {
   "cell_type": "code",
   "execution_count": 39,
   "id": "864fdb73",
   "metadata": {},
   "outputs": [],
   "source": [
    "import numpy as np"
   ]
  },
  {
   "cell_type": "code",
   "execution_count": 40,
   "id": "d1b322e2",
   "metadata": {},
   "outputs": [
    {
     "name": "stdout",
     "output_type": "stream",
     "text": [
      "{'n_estimators': [50, 60, 71, 82, 92, 103, 114, 125, 135, 146, 157, 167, 178, 189, 200], 'max_features': ['auto', 'sqrt', 'log2'], 'max_depth': [2, 3, 4, 5, 6, 7, 8, 9, 10, 11, 12], 'min_samples_split': [2, 3, 4, 5, 6, 7, 8, 9, 10, 11, 12], 'min_samples_leaf': [2, 3, 4, 5, 6, 7, 8, 9, 10, 11, 12], 'criterion': ['entropy', 'gini']}\n"
     ]
    }
   ],
   "source": [
    "n_estimators = [int(x) for x in np.linspace(start = 50, stop = 200, num = 15)]\n",
    "\n",
    "max_features = ['auto', 'sqrt','log2']\n",
    "\n",
    "max_depth = [2,3,4,5,6,7,8,9,10,11,12]\n",
    "\n",
    "min_samples_split = [2,3,4,5,6,7,8,9,10,11,12]\n",
    "\n",
    "min_samples_leaf = [2,3,4,5,6,7,8,9,10,11,12]\n",
    "\n",
    "# Create ids\n",
    "grids = {'n_estimators': n_estimators,\n",
    "               'max_features': max_features,\n",
    "               'max_depth': max_depth,\n",
    "               'min_samples_split': min_samples_split,\n",
    "               'min_samples_leaf': min_samples_leaf,\n",
    "              'criterion':['entropy','gini']}\n",
    "print(grids)"
   ]
  },
  {
   "cell_type": "code",
   "execution_count": 41,
   "id": "9f38f15a",
   "metadata": {},
   "outputs": [],
   "source": [
    "from sklearn.model_selection import RandomizedSearchCV"
   ]
  },
  {
   "cell_type": "code",
   "execution_count": 42,
   "id": "a6176180",
   "metadata": {},
   "outputs": [],
   "source": [
    "rnf = RandomForestClassifier()"
   ]
  },
  {
   "cell_type": "code",
   "execution_count": 43,
   "id": "1de9eb56",
   "metadata": {},
   "outputs": [],
   "source": [
    "rmcv = RandomizedSearchCV(estimator=rnf, param_distributions=grids, n_iter=100, cv=5)#n_iter=(how many times you want to run this model)"
   ]
  },
  {
   "cell_type": "code",
   "execution_count": 44,
   "id": "eb35b947",
   "metadata": {},
   "outputs": [
    {
     "data": {
      "text/plain": [
       "RandomizedSearchCV(cv=5, estimator=RandomForestClassifier(), n_iter=100,\n",
       "                   param_distributions={'criterion': ['entropy', 'gini'],\n",
       "                                        'max_depth': [2, 3, 4, 5, 6, 7, 8, 9,\n",
       "                                                      10, 11, 12],\n",
       "                                        'max_features': ['auto', 'sqrt',\n",
       "                                                         'log2'],\n",
       "                                        'min_samples_leaf': [2, 3, 4, 5, 6, 7,\n",
       "                                                             8, 9, 10, 11, 12],\n",
       "                                        'min_samples_split': [2, 3, 4, 5, 6, 7,\n",
       "                                                              8, 9, 10, 11,\n",
       "                                                              12],\n",
       "                                        'n_estimators': [50, 60, 71, 82, 92,\n",
       "                                                         103, 114, 125, 135,\n",
       "                                                         146, 157, 167, 178,\n",
       "                                                         189, 200]})"
      ]
     },
     "execution_count": 44,
     "metadata": {},
     "output_type": "execute_result"
    }
   ],
   "source": [
    "rmcv"
   ]
  },
  {
   "cell_type": "code",
   "execution_count": 45,
   "id": "1fdb4a24",
   "metadata": {},
   "outputs": [
    {
     "data": {
      "text/plain": [
       "RandomizedSearchCV(cv=5, estimator=RandomForestClassifier(), n_iter=100,\n",
       "                   param_distributions={'criterion': ['entropy', 'gini'],\n",
       "                                        'max_depth': [2, 3, 4, 5, 6, 7, 8, 9,\n",
       "                                                      10, 11, 12],\n",
       "                                        'max_features': ['auto', 'sqrt',\n",
       "                                                         'log2'],\n",
       "                                        'min_samples_leaf': [2, 3, 4, 5, 6, 7,\n",
       "                                                             8, 9, 10, 11, 12],\n",
       "                                        'min_samples_split': [2, 3, 4, 5, 6, 7,\n",
       "                                                              8, 9, 10, 11,\n",
       "                                                              12],\n",
       "                                        'n_estimators': [50, 60, 71, 82, 92,\n",
       "                                                         103, 114, 125, 135,\n",
       "                                                         146, 157, 167, 178,\n",
       "                                                         189, 200]})"
      ]
     },
     "execution_count": 45,
     "metadata": {},
     "output_type": "execute_result"
    }
   ],
   "source": [
    "rmcv.fit(xtrain,ytrain)"
   ]
  },
  {
   "cell_type": "code",
   "execution_count": 46,
   "id": "e469d470",
   "metadata": {},
   "outputs": [
    {
     "data": {
      "text/plain": [
       "{'n_estimators': 92,\n",
       " 'min_samples_split': 12,\n",
       " 'min_samples_leaf': 6,\n",
       " 'max_features': 'log2',\n",
       " 'max_depth': 7,\n",
       " 'criterion': 'entropy'}"
      ]
     },
     "execution_count": 46,
     "metadata": {},
     "output_type": "execute_result"
    }
   ],
   "source": [
    "rmcv.best_params_"
   ]
  },
  {
   "cell_type": "code",
   "execution_count": 47,
   "id": "6d5be9ae",
   "metadata": {},
   "outputs": [
    {
     "data": {
      "text/plain": [
       "{'mean_fit_time': array([0.12497015, 0.33535562, 0.19371028, 0.39122753, 0.248352  ,\n",
       "        0.09997687, 0.09685192, 0.30617809, 0.1624598 , 0.17966323,\n",
       "        0.18120584, 0.36554089, 0.09997611, 0.24680882, 0.24528656,\n",
       "        0.12184472, 0.37179065, 0.4637651 , 0.193712  , 0.1780827 ,\n",
       "        0.16558528, 0.24508963, 0.09685059, 0.27803979, 0.14371576,\n",
       "        0.18745461, 0.16388836, 0.0999754 , 0.36241488, 0.24056911,\n",
       "        0.3728178 , 0.13746738, 0.3249248 , 0.1624608 , 0.27316861,\n",
       "        0.14371514, 0.26556215, 0.40684843, 0.28095775, 0.35506206,\n",
       "        0.12644963, 0.17323623, 0.1652534 , 0.19539561, 0.10532675,\n",
       "        0.19642797, 0.23012009, 0.31254306, 0.10579238, 0.16286073,\n",
       "        0.10179553, 0.13931303, 0.15133977, 0.10305953, 0.32410545,\n",
       "        0.24564776, 0.19373393, 0.19514685, 0.27692251, 0.12185216,\n",
       "        0.18433132, 0.30450864, 0.25306482, 0.28118477, 0.27332954,\n",
       "        0.20619354, 0.37178721, 0.16246104, 0.35449295, 0.24994125,\n",
       "        0.30617828, 0.20771751, 0.11872797, 0.35928135, 0.10310082,\n",
       "        0.39204917, 0.21869769, 0.36866369, 0.24824357, 0.11872115,\n",
       "        0.312427  , 0.12184467, 0.28889904, 0.11872101, 0.30930109,\n",
       "        0.28743172, 0.23315163, 0.28430691, 0.13746786, 0.3936584 ,\n",
       "        0.24832897, 0.17182689, 0.30305448, 0.24994054, 0.14339232,\n",
       "        0.34080772, 0.20744176, 0.14561129, 0.29121137, 0.17716284]),\n",
       " 'std_fit_time': array([3.27736669e-06, 1.60632911e-02, 7.66061981e-03, 8.82455702e-03,\n",
       "        1.03816945e-02, 7.65202776e-03, 6.24783051e-03, 7.65259263e-03,\n",
       "        7.65379911e-03, 6.99510557e-03, 7.65276718e-03, 1.25144061e-02,\n",
       "        7.65226117e-03, 1.16974266e-02, 9.41604150e-03, 6.24856964e-03,\n",
       "        1.16742812e-02, 7.12969981e-02, 7.64510898e-03, 7.65414957e-03,\n",
       "        7.65288401e-03, 6.33692160e-03, 6.24888979e-03, 1.17086305e-02,\n",
       "        6.24843377e-03, 9.88174089e-03, 9.66876011e-03, 7.65342907e-03,\n",
       "        1.16914050e-02, 7.65337078e-03, 1.34084365e-02, 1.16904619e-02,\n",
       "        6.24721114e-03, 7.65288422e-03, 6.99716543e-03, 6.24871261e-03,\n",
       "        9.87895120e-03, 2.30936344e-02, 3.67342603e-02, 5.99069105e-03,\n",
       "        1.31768264e-02, 9.28480575e-03, 4.04785847e-02, 1.95562748e-02,\n",
       "        1.63803202e-02, 1.96686174e-02, 2.89018691e-02, 1.32120969e-02,\n",
       "        9.04339976e-03, 1.88603586e-02, 6.37613189e-03, 1.35910379e-02,\n",
       "        9.49372290e-03, 6.05884273e-03, 3.86922832e-02, 1.81519347e-02,\n",
       "        1.48616810e-02, 1.21843146e-02, 1.06382626e-02, 6.24943785e-03,\n",
       "        6.26333823e-03, 1.00507573e-02, 1.16891365e-02, 2.08176422e-06,\n",
       "        6.99366549e-03, 1.16910178e-02, 1.17183560e-02, 7.65414933e-03,\n",
       "        9.22368334e-03, 9.87857421e-03, 7.65245594e-03, 6.22577326e-03,\n",
       "        7.63162043e-03, 9.87820270e-03, 1.24972105e-02, 1.24031911e-02,\n",
       "        9.87782078e-03, 1.24954106e-02, 1.04452691e-02, 7.65494763e-03,\n",
       "        9.87910198e-03, 6.24806958e-03, 6.98943134e-03, 7.65327332e-03,\n",
       "        6.24833154e-03, 1.24950410e-02, 1.01626698e-02, 6.24867940e-03,\n",
       "        6.24823594e-03, 6.24775926e-03, 7.58330641e-03, 2.75859260e-05,\n",
       "        7.65062650e-03, 1.16410786e-06, 6.44032055e-03, 1.85622548e-02,\n",
       "        2.50638469e-02, 1.37280161e-02, 1.39367587e-02, 1.35402407e-02]),\n",
       " 'mean_score_time': array([0.01249838, 0.03124962, 0.01249042, 0.03124723, 0.01874642,\n",
       "        0.01249719, 0.01249809, 0.02499394, 0.01562257, 0.01562209,\n",
       "        0.01562271, 0.02811704, 0.01249804, 0.018753  , 0.01562243,\n",
       "        0.00937347, 0.03123989, 0.03255239, 0.01873827, 0.01874685,\n",
       "        0.00937333, 0.01874695, 0.01562285, 0.0218698 , 0.00937376,\n",
       "        0.01249819, 0.0156229 , 0.00937343, 0.03124208, 0.01874614,\n",
       "        0.02540894, 0.0124979 , 0.02499323, 0.01249776, 0.01874599,\n",
       "        0.01249795, 0.01874614, 0.02893219, 0.02445374, 0.02526312,\n",
       "        0.00811214, 0.01589227, 0.01370044, 0.01955471, 0.01455956,\n",
       "        0.0167542 , 0.01525087, 0.02384028, 0.00951324, 0.01606841,\n",
       "        0.01049337, 0.00720015, 0.01429343, 0.00856285, 0.02958388,\n",
       "        0.02234778, 0.01735902, 0.01717224, 0.02899947, 0.01249804,\n",
       "        0.01562181, 0.02499433, 0.01874743, 0.02811675, 0.01562238,\n",
       "        0.01562333, 0.02186999, 0.01562233, 0.02811685, 0.02187047,\n",
       "        0.02499318, 0.01562319, 0.00936689, 0.02500219, 0.01562238,\n",
       "        0.03123975, 0.01562285, 0.03124156, 0.01874661, 0.01249771,\n",
       "        0.02499409, 0.01249833, 0.01874599, 0.01249809, 0.01874604,\n",
       "        0.0218709 , 0.02187767, 0.02186985, 0.01249809, 0.03124099,\n",
       "        0.01874528, 0.01562271, 0.03124118, 0.01562262, 0.00808868,\n",
       "        0.02892246, 0.0163559 , 0.01395774, 0.02087331, 0.01354737]),\n",
       " 'std_score_time': array([6.24918944e-03, 1.50582426e-05, 6.24521812e-03, 1.15376857e-05,\n",
       "        6.24761582e-03, 6.24859347e-03, 6.24904635e-03, 7.65136574e-03,\n",
       "        2.78041453e-07, 1.12234137e-06, 4.15696997e-07, 6.24732983e-03,\n",
       "        6.24902249e-03, 6.26101495e-03, 4.62310777e-07, 7.65340957e-03,\n",
       "        1.34532318e-06, 2.62253303e-03, 6.25183065e-03, 6.24895097e-03,\n",
       "        7.65329278e-03, 6.24806884e-03, 3.01578299e-07, 7.65247535e-03,\n",
       "        7.65364320e-03, 6.24909404e-03, 5.30983387e-07, 7.65337064e-03,\n",
       "        1.67504960e-06, 6.24704363e-03, 7.17270275e-03, 6.24895096e-03,\n",
       "        7.65087891e-03, 6.24887944e-03, 6.24687672e-03, 6.24897481e-03,\n",
       "        6.24716283e-03, 4.61761966e-03, 5.46527005e-03, 4.87911299e-03,\n",
       "        6.72964676e-03, 1.67320570e-03, 8.57007602e-03, 6.29589766e-03,\n",
       "        1.31981969e-03, 1.67759347e-03, 5.97092458e-03, 6.95303301e-03,\n",
       "        5.14539423e-03, 4.27357350e-03, 4.96779236e-03, 7.67469955e-03,\n",
       "        1.02437230e-03, 4.29990940e-03, 9.06558943e-04, 1.85020250e-03,\n",
       "        1.63182088e-03, 2.02279242e-03, 4.48651334e-03, 6.24902249e-03,\n",
       "        9.87932814e-03, 7.65119092e-03, 6.24747300e-03, 6.24694826e-03,\n",
       "        2.79265413e-06, 8.92080638e-07, 7.65261170e-03, 9.81867804e-07,\n",
       "        6.24723435e-03, 7.65202754e-03, 7.65093733e-03, 2.43140197e-07,\n",
       "        7.64804893e-03, 7.65820520e-03, 2.19552315e-06, 1.03375833e-06,\n",
       "        8.12024420e-07, 6.32595976e-07, 6.24835495e-03, 6.24885560e-03,\n",
       "        7.65138508e-03, 6.24916558e-03, 6.24759199e-03, 6.24904633e-03,\n",
       "        6.24697209e-03, 7.65226105e-03, 7.64567370e-03, 7.65126825e-03,\n",
       "        6.24904633e-03, 1.05982355e-06, 6.24699626e-03, 8.60951905e-07,\n",
       "        7.53945746e-07, 3.98950589e-07, 1.03246854e-02, 2.07595200e-03,\n",
       "        1.95429117e-03, 1.26629590e-03, 3.25235228e-03, 3.74100898e-03]),\n",
       " 'param_n_estimators': masked_array(data=[60, 167, 92, 200, 125, 50, 50, 157, 82, 92, 92, 189,\n",
       "                    50, 125, 125, 60, 189, 200, 103, 92, 82, 125, 50, 135,\n",
       "                    71, 92, 82, 50, 189, 125, 189, 71, 167, 82, 135, 71,\n",
       "                    135, 200, 125, 167, 60, 71, 71, 92, 50, 92, 103, 157,\n",
       "                    50, 71, 50, 60, 71, 50, 146, 114, 82, 82, 146, 60, 92,\n",
       "                    157, 125, 146, 135, 103, 189, 82, 178, 125, 157, 103,\n",
       "                    60, 167, 50, 200, 114, 189, 125, 60, 157, 60, 146, 60,\n",
       "                    157, 146, 125, 146, 71, 200, 125, 92, 157, 125, 71,\n",
       "                    167, 82, 60, 125, 82],\n",
       "              mask=[False, False, False, False, False, False, False, False,\n",
       "                    False, False, False, False, False, False, False, False,\n",
       "                    False, False, False, False, False, False, False, False,\n",
       "                    False, False, False, False, False, False, False, False,\n",
       "                    False, False, False, False, False, False, False, False,\n",
       "                    False, False, False, False, False, False, False, False,\n",
       "                    False, False, False, False, False, False, False, False,\n",
       "                    False, False, False, False, False, False, False, False,\n",
       "                    False, False, False, False, False, False, False, False,\n",
       "                    False, False, False, False, False, False, False, False,\n",
       "                    False, False, False, False, False, False, False, False,\n",
       "                    False, False, False, False, False, False, False, False,\n",
       "                    False, False, False, False],\n",
       "        fill_value='?',\n",
       "             dtype=object),\n",
       " 'param_min_samples_split': masked_array(data=[4, 5, 7, 2, 5, 10, 6, 11, 10, 8, 9, 12, 3, 5, 9, 12, 6,\n",
       "                    4, 9, 7, 5, 8, 6, 5, 9, 9, 12, 11, 11, 9, 2, 11, 12,\n",
       "                    11, 3, 5, 12, 2, 9, 7, 8, 3, 6, 9, 10, 11, 5, 9, 9, 7,\n",
       "                    3, 4, 10, 12, 8, 3, 10, 7, 12, 9, 12, 10, 8, 2, 12, 8,\n",
       "                    3, 8, 11, 6, 6, 10, 8, 7, 6, 4, 2, 8, 11, 5, 11, 6, 5,\n",
       "                    11, 7, 4, 10, 3, 2, 2, 7, 7, 5, 9, 8, 11, 5, 5, 4, 8],\n",
       "              mask=[False, False, False, False, False, False, False, False,\n",
       "                    False, False, False, False, False, False, False, False,\n",
       "                    False, False, False, False, False, False, False, False,\n",
       "                    False, False, False, False, False, False, False, False,\n",
       "                    False, False, False, False, False, False, False, False,\n",
       "                    False, False, False, False, False, False, False, False,\n",
       "                    False, False, False, False, False, False, False, False,\n",
       "                    False, False, False, False, False, False, False, False,\n",
       "                    False, False, False, False, False, False, False, False,\n",
       "                    False, False, False, False, False, False, False, False,\n",
       "                    False, False, False, False, False, False, False, False,\n",
       "                    False, False, False, False, False, False, False, False,\n",
       "                    False, False, False, False],\n",
       "        fill_value='?',\n",
       "             dtype=object),\n",
       " 'param_min_samples_leaf': masked_array(data=[10, 9, 3, 7, 6, 8, 6, 3, 5, 7, 4, 10, 7, 4, 10, 9, 4,\n",
       "                    11, 10, 11, 9, 7, 9, 11, 6, 5, 7, 12, 3, 9, 9, 11, 2,\n",
       "                    4, 2, 4, 12, 3, 5, 7, 8, 2, 7, 5, 8, 5, 5, 6, 12, 5, 8,\n",
       "                    7, 9, 7, 11, 12, 12, 8, 7, 3, 6, 10, 5, 2, 10, 7, 10,\n",
       "                    4, 3, 7, 8, 8, 10, 2, 12, 9, 7, 8, 6, 8, 7, 3, 9, 3,\n",
       "                    10, 7, 8, 2, 5, 3, 11, 6, 2, 8, 3, 2, 2, 7, 4, 4],\n",
       "              mask=[False, False, False, False, False, False, False, False,\n",
       "                    False, False, False, False, False, False, False, False,\n",
       "                    False, False, False, False, False, False, False, False,\n",
       "                    False, False, False, False, False, False, False, False,\n",
       "                    False, False, False, False, False, False, False, False,\n",
       "                    False, False, False, False, False, False, False, False,\n",
       "                    False, False, False, False, False, False, False, False,\n",
       "                    False, False, False, False, False, False, False, False,\n",
       "                    False, False, False, False, False, False, False, False,\n",
       "                    False, False, False, False, False, False, False, False,\n",
       "                    False, False, False, False, False, False, False, False,\n",
       "                    False, False, False, False, False, False, False, False,\n",
       "                    False, False, False, False],\n",
       "        fill_value='?',\n",
       "             dtype=object),\n",
       " 'param_max_features': masked_array(data=['auto', 'auto', 'log2', 'sqrt', 'log2', 'sqrt', 'log2',\n",
       "                    'auto', 'log2', 'log2', 'log2', 'auto', 'sqrt', 'sqrt',\n",
       "                    'log2', 'log2', 'log2', 'auto', 'sqrt', 'log2', 'sqrt',\n",
       "                    'sqrt', 'sqrt', 'sqrt', 'log2', 'sqrt', 'auto', 'auto',\n",
       "                    'auto', 'log2', 'auto', 'auto', 'auto', 'sqrt', 'sqrt',\n",
       "                    'sqrt', 'auto', 'sqrt', 'sqrt', 'auto', 'auto', 'log2',\n",
       "                    'log2', 'sqrt', 'log2', 'log2', 'sqrt', 'sqrt', 'auto',\n",
       "                    'auto', 'sqrt', 'auto', 'auto', 'sqrt', 'sqrt', 'auto',\n",
       "                    'sqrt', 'auto', 'log2', 'auto', 'log2', 'log2', 'log2',\n",
       "                    'log2', 'auto', 'auto', 'sqrt', 'sqrt', 'sqrt', 'auto',\n",
       "                    'auto', 'sqrt', 'sqrt', 'auto', 'log2', 'sqrt', 'auto',\n",
       "                    'log2', 'sqrt', 'log2', 'sqrt', 'log2', 'log2', 'auto',\n",
       "                    'sqrt', 'sqrt', 'auto', 'sqrt', 'sqrt', 'log2', 'sqrt',\n",
       "                    'auto', 'auto', 'auto', 'auto', 'sqrt', 'auto', 'log2',\n",
       "                    'log2', 'log2'],\n",
       "              mask=[False, False, False, False, False, False, False, False,\n",
       "                    False, False, False, False, False, False, False, False,\n",
       "                    False, False, False, False, False, False, False, False,\n",
       "                    False, False, False, False, False, False, False, False,\n",
       "                    False, False, False, False, False, False, False, False,\n",
       "                    False, False, False, False, False, False, False, False,\n",
       "                    False, False, False, False, False, False, False, False,\n",
       "                    False, False, False, False, False, False, False, False,\n",
       "                    False, False, False, False, False, False, False, False,\n",
       "                    False, False, False, False, False, False, False, False,\n",
       "                    False, False, False, False, False, False, False, False,\n",
       "                    False, False, False, False, False, False, False, False,\n",
       "                    False, False, False, False],\n",
       "        fill_value='?',\n",
       "             dtype=object),\n",
       " 'param_max_depth': masked_array(data=[9, 12, 12, 12, 10, 6, 4, 5, 4, 9, 4, 10, 6, 12, 7, 9,\n",
       "                    8, 11, 4, 9, 6, 4, 6, 9, 10, 9, 4, 4, 2, 3, 3, 9, 11,\n",
       "                    5, 3, 9, 10, 2, 10, 10, 7, 9, 3, 7, 5, 9, 8, 8, 10, 12,\n",
       "                    2, 5, 9, 2, 5, 7, 6, 4, 5, 10, 7, 5, 4, 3, 8, 4, 6, 11,\n",
       "                    5, 9, 4, 6, 10, 11, 2, 4, 2, 10, 12, 11, 11, 5, 9, 9,\n",
       "                    6, 4, 2, 2, 3, 9, 12, 2, 6, 11, 10, 5, 11, 5, 10, 9],\n",
       "              mask=[False, False, False, False, False, False, False, False,\n",
       "                    False, False, False, False, False, False, False, False,\n",
       "                    False, False, False, False, False, False, False, False,\n",
       "                    False, False, False, False, False, False, False, False,\n",
       "                    False, False, False, False, False, False, False, False,\n",
       "                    False, False, False, False, False, False, False, False,\n",
       "                    False, False, False, False, False, False, False, False,\n",
       "                    False, False, False, False, False, False, False, False,\n",
       "                    False, False, False, False, False, False, False, False,\n",
       "                    False, False, False, False, False, False, False, False,\n",
       "                    False, False, False, False, False, False, False, False,\n",
       "                    False, False, False, False, False, False, False, False,\n",
       "                    False, False, False, False],\n",
       "        fill_value='?',\n",
       "             dtype=object),\n",
       " 'param_criterion': masked_array(data=['entropy', 'gini', 'entropy', 'entropy', 'gini',\n",
       "                    'entropy', 'gini', 'gini', 'gini', 'gini', 'gini',\n",
       "                    'gini', 'entropy', 'gini', 'gini', 'gini', 'gini',\n",
       "                    'entropy', 'gini', 'entropy', 'gini', 'gini',\n",
       "                    'entropy', 'gini', 'entropy', 'gini', 'entropy',\n",
       "                    'gini', 'gini', 'gini', 'entropy', 'entropy', 'gini',\n",
       "                    'entropy', 'entropy', 'entropy', 'entropy', 'gini',\n",
       "                    'entropy', 'entropy', 'gini', 'entropy', 'gini',\n",
       "                    'gini', 'gini', 'gini', 'entropy', 'gini', 'gini',\n",
       "                    'entropy', 'entropy', 'entropy', 'gini', 'gini',\n",
       "                    'gini', 'gini', 'gini', 'gini', 'gini', 'entropy',\n",
       "                    'entropy', 'entropy', 'entropy', 'gini', 'gini',\n",
       "                    'gini', 'gini', 'gini', 'entropy', 'gini', 'gini',\n",
       "                    'entropy', 'gini', 'entropy', 'entropy', 'entropy',\n",
       "                    'entropy', 'gini', 'gini', 'entropy', 'entropy',\n",
       "                    'entropy', 'gini', 'gini', 'entropy', 'gini',\n",
       "                    'entropy', 'entropy', 'entropy', 'gini', 'entropy',\n",
       "                    'gini', 'gini', 'entropy', 'gini', 'gini', 'entropy',\n",
       "                    'gini', 'gini', 'gini'],\n",
       "              mask=[False, False, False, False, False, False, False, False,\n",
       "                    False, False, False, False, False, False, False, False,\n",
       "                    False, False, False, False, False, False, False, False,\n",
       "                    False, False, False, False, False, False, False, False,\n",
       "                    False, False, False, False, False, False, False, False,\n",
       "                    False, False, False, False, False, False, False, False,\n",
       "                    False, False, False, False, False, False, False, False,\n",
       "                    False, False, False, False, False, False, False, False,\n",
       "                    False, False, False, False, False, False, False, False,\n",
       "                    False, False, False, False, False, False, False, False,\n",
       "                    False, False, False, False, False, False, False, False,\n",
       "                    False, False, False, False, False, False, False, False,\n",
       "                    False, False, False, False],\n",
       "        fill_value='?',\n",
       "             dtype=object),\n",
       " 'params': [{'n_estimators': 60,\n",
       "   'min_samples_split': 4,\n",
       "   'min_samples_leaf': 10,\n",
       "   'max_features': 'auto',\n",
       "   'max_depth': 9,\n",
       "   'criterion': 'entropy'},\n",
       "  {'n_estimators': 167,\n",
       "   'min_samples_split': 5,\n",
       "   'min_samples_leaf': 9,\n",
       "   'max_features': 'auto',\n",
       "   'max_depth': 12,\n",
       "   'criterion': 'gini'},\n",
       "  {'n_estimators': 92,\n",
       "   'min_samples_split': 7,\n",
       "   'min_samples_leaf': 3,\n",
       "   'max_features': 'log2',\n",
       "   'max_depth': 12,\n",
       "   'criterion': 'entropy'},\n",
       "  {'n_estimators': 200,\n",
       "   'min_samples_split': 2,\n",
       "   'min_samples_leaf': 7,\n",
       "   'max_features': 'sqrt',\n",
       "   'max_depth': 12,\n",
       "   'criterion': 'entropy'},\n",
       "  {'n_estimators': 125,\n",
       "   'min_samples_split': 5,\n",
       "   'min_samples_leaf': 6,\n",
       "   'max_features': 'log2',\n",
       "   'max_depth': 10,\n",
       "   'criterion': 'gini'},\n",
       "  {'n_estimators': 50,\n",
       "   'min_samples_split': 10,\n",
       "   'min_samples_leaf': 8,\n",
       "   'max_features': 'sqrt',\n",
       "   'max_depth': 6,\n",
       "   'criterion': 'entropy'},\n",
       "  {'n_estimators': 50,\n",
       "   'min_samples_split': 6,\n",
       "   'min_samples_leaf': 6,\n",
       "   'max_features': 'log2',\n",
       "   'max_depth': 4,\n",
       "   'criterion': 'gini'},\n",
       "  {'n_estimators': 157,\n",
       "   'min_samples_split': 11,\n",
       "   'min_samples_leaf': 3,\n",
       "   'max_features': 'auto',\n",
       "   'max_depth': 5,\n",
       "   'criterion': 'gini'},\n",
       "  {'n_estimators': 82,\n",
       "   'min_samples_split': 10,\n",
       "   'min_samples_leaf': 5,\n",
       "   'max_features': 'log2',\n",
       "   'max_depth': 4,\n",
       "   'criterion': 'gini'},\n",
       "  {'n_estimators': 92,\n",
       "   'min_samples_split': 8,\n",
       "   'min_samples_leaf': 7,\n",
       "   'max_features': 'log2',\n",
       "   'max_depth': 9,\n",
       "   'criterion': 'gini'},\n",
       "  {'n_estimators': 92,\n",
       "   'min_samples_split': 9,\n",
       "   'min_samples_leaf': 4,\n",
       "   'max_features': 'log2',\n",
       "   'max_depth': 4,\n",
       "   'criterion': 'gini'},\n",
       "  {'n_estimators': 189,\n",
       "   'min_samples_split': 12,\n",
       "   'min_samples_leaf': 10,\n",
       "   'max_features': 'auto',\n",
       "   'max_depth': 10,\n",
       "   'criterion': 'gini'},\n",
       "  {'n_estimators': 50,\n",
       "   'min_samples_split': 3,\n",
       "   'min_samples_leaf': 7,\n",
       "   'max_features': 'sqrt',\n",
       "   'max_depth': 6,\n",
       "   'criterion': 'entropy'},\n",
       "  {'n_estimators': 125,\n",
       "   'min_samples_split': 5,\n",
       "   'min_samples_leaf': 4,\n",
       "   'max_features': 'sqrt',\n",
       "   'max_depth': 12,\n",
       "   'criterion': 'gini'},\n",
       "  {'n_estimators': 125,\n",
       "   'min_samples_split': 9,\n",
       "   'min_samples_leaf': 10,\n",
       "   'max_features': 'log2',\n",
       "   'max_depth': 7,\n",
       "   'criterion': 'gini'},\n",
       "  {'n_estimators': 60,\n",
       "   'min_samples_split': 12,\n",
       "   'min_samples_leaf': 9,\n",
       "   'max_features': 'log2',\n",
       "   'max_depth': 9,\n",
       "   'criterion': 'gini'},\n",
       "  {'n_estimators': 189,\n",
       "   'min_samples_split': 6,\n",
       "   'min_samples_leaf': 4,\n",
       "   'max_features': 'log2',\n",
       "   'max_depth': 8,\n",
       "   'criterion': 'gini'},\n",
       "  {'n_estimators': 200,\n",
       "   'min_samples_split': 4,\n",
       "   'min_samples_leaf': 11,\n",
       "   'max_features': 'auto',\n",
       "   'max_depth': 11,\n",
       "   'criterion': 'entropy'},\n",
       "  {'n_estimators': 103,\n",
       "   'min_samples_split': 9,\n",
       "   'min_samples_leaf': 10,\n",
       "   'max_features': 'sqrt',\n",
       "   'max_depth': 4,\n",
       "   'criterion': 'gini'},\n",
       "  {'n_estimators': 92,\n",
       "   'min_samples_split': 7,\n",
       "   'min_samples_leaf': 11,\n",
       "   'max_features': 'log2',\n",
       "   'max_depth': 9,\n",
       "   'criterion': 'entropy'},\n",
       "  {'n_estimators': 82,\n",
       "   'min_samples_split': 5,\n",
       "   'min_samples_leaf': 9,\n",
       "   'max_features': 'sqrt',\n",
       "   'max_depth': 6,\n",
       "   'criterion': 'gini'},\n",
       "  {'n_estimators': 125,\n",
       "   'min_samples_split': 8,\n",
       "   'min_samples_leaf': 7,\n",
       "   'max_features': 'sqrt',\n",
       "   'max_depth': 4,\n",
       "   'criterion': 'gini'},\n",
       "  {'n_estimators': 50,\n",
       "   'min_samples_split': 6,\n",
       "   'min_samples_leaf': 9,\n",
       "   'max_features': 'sqrt',\n",
       "   'max_depth': 6,\n",
       "   'criterion': 'entropy'},\n",
       "  {'n_estimators': 135,\n",
       "   'min_samples_split': 5,\n",
       "   'min_samples_leaf': 11,\n",
       "   'max_features': 'sqrt',\n",
       "   'max_depth': 9,\n",
       "   'criterion': 'gini'},\n",
       "  {'n_estimators': 71,\n",
       "   'min_samples_split': 9,\n",
       "   'min_samples_leaf': 6,\n",
       "   'max_features': 'log2',\n",
       "   'max_depth': 10,\n",
       "   'criterion': 'entropy'},\n",
       "  {'n_estimators': 92,\n",
       "   'min_samples_split': 9,\n",
       "   'min_samples_leaf': 5,\n",
       "   'max_features': 'sqrt',\n",
       "   'max_depth': 9,\n",
       "   'criterion': 'gini'},\n",
       "  {'n_estimators': 82,\n",
       "   'min_samples_split': 12,\n",
       "   'min_samples_leaf': 7,\n",
       "   'max_features': 'auto',\n",
       "   'max_depth': 4,\n",
       "   'criterion': 'entropy'},\n",
       "  {'n_estimators': 50,\n",
       "   'min_samples_split': 11,\n",
       "   'min_samples_leaf': 12,\n",
       "   'max_features': 'auto',\n",
       "   'max_depth': 4,\n",
       "   'criterion': 'gini'},\n",
       "  {'n_estimators': 189,\n",
       "   'min_samples_split': 11,\n",
       "   'min_samples_leaf': 3,\n",
       "   'max_features': 'auto',\n",
       "   'max_depth': 2,\n",
       "   'criterion': 'gini'},\n",
       "  {'n_estimators': 125,\n",
       "   'min_samples_split': 9,\n",
       "   'min_samples_leaf': 9,\n",
       "   'max_features': 'log2',\n",
       "   'max_depth': 3,\n",
       "   'criterion': 'gini'},\n",
       "  {'n_estimators': 189,\n",
       "   'min_samples_split': 2,\n",
       "   'min_samples_leaf': 9,\n",
       "   'max_features': 'auto',\n",
       "   'max_depth': 3,\n",
       "   'criterion': 'entropy'},\n",
       "  {'n_estimators': 71,\n",
       "   'min_samples_split': 11,\n",
       "   'min_samples_leaf': 11,\n",
       "   'max_features': 'auto',\n",
       "   'max_depth': 9,\n",
       "   'criterion': 'entropy'},\n",
       "  {'n_estimators': 167,\n",
       "   'min_samples_split': 12,\n",
       "   'min_samples_leaf': 2,\n",
       "   'max_features': 'auto',\n",
       "   'max_depth': 11,\n",
       "   'criterion': 'gini'},\n",
       "  {'n_estimators': 82,\n",
       "   'min_samples_split': 11,\n",
       "   'min_samples_leaf': 4,\n",
       "   'max_features': 'sqrt',\n",
       "   'max_depth': 5,\n",
       "   'criterion': 'entropy'},\n",
       "  {'n_estimators': 135,\n",
       "   'min_samples_split': 3,\n",
       "   'min_samples_leaf': 2,\n",
       "   'max_features': 'sqrt',\n",
       "   'max_depth': 3,\n",
       "   'criterion': 'entropy'},\n",
       "  {'n_estimators': 71,\n",
       "   'min_samples_split': 5,\n",
       "   'min_samples_leaf': 4,\n",
       "   'max_features': 'sqrt',\n",
       "   'max_depth': 9,\n",
       "   'criterion': 'entropy'},\n",
       "  {'n_estimators': 135,\n",
       "   'min_samples_split': 12,\n",
       "   'min_samples_leaf': 12,\n",
       "   'max_features': 'auto',\n",
       "   'max_depth': 10,\n",
       "   'criterion': 'entropy'},\n",
       "  {'n_estimators': 200,\n",
       "   'min_samples_split': 2,\n",
       "   'min_samples_leaf': 3,\n",
       "   'max_features': 'sqrt',\n",
       "   'max_depth': 2,\n",
       "   'criterion': 'gini'},\n",
       "  {'n_estimators': 125,\n",
       "   'min_samples_split': 9,\n",
       "   'min_samples_leaf': 5,\n",
       "   'max_features': 'sqrt',\n",
       "   'max_depth': 10,\n",
       "   'criterion': 'entropy'},\n",
       "  {'n_estimators': 167,\n",
       "   'min_samples_split': 7,\n",
       "   'min_samples_leaf': 7,\n",
       "   'max_features': 'auto',\n",
       "   'max_depth': 10,\n",
       "   'criterion': 'entropy'},\n",
       "  {'n_estimators': 60,\n",
       "   'min_samples_split': 8,\n",
       "   'min_samples_leaf': 8,\n",
       "   'max_features': 'auto',\n",
       "   'max_depth': 7,\n",
       "   'criterion': 'gini'},\n",
       "  {'n_estimators': 71,\n",
       "   'min_samples_split': 3,\n",
       "   'min_samples_leaf': 2,\n",
       "   'max_features': 'log2',\n",
       "   'max_depth': 9,\n",
       "   'criterion': 'entropy'},\n",
       "  {'n_estimators': 71,\n",
       "   'min_samples_split': 6,\n",
       "   'min_samples_leaf': 7,\n",
       "   'max_features': 'log2',\n",
       "   'max_depth': 3,\n",
       "   'criterion': 'gini'},\n",
       "  {'n_estimators': 92,\n",
       "   'min_samples_split': 9,\n",
       "   'min_samples_leaf': 5,\n",
       "   'max_features': 'sqrt',\n",
       "   'max_depth': 7,\n",
       "   'criterion': 'gini'},\n",
       "  {'n_estimators': 50,\n",
       "   'min_samples_split': 10,\n",
       "   'min_samples_leaf': 8,\n",
       "   'max_features': 'log2',\n",
       "   'max_depth': 5,\n",
       "   'criterion': 'gini'},\n",
       "  {'n_estimators': 92,\n",
       "   'min_samples_split': 11,\n",
       "   'min_samples_leaf': 5,\n",
       "   'max_features': 'log2',\n",
       "   'max_depth': 9,\n",
       "   'criterion': 'gini'},\n",
       "  {'n_estimators': 103,\n",
       "   'min_samples_split': 5,\n",
       "   'min_samples_leaf': 5,\n",
       "   'max_features': 'sqrt',\n",
       "   'max_depth': 8,\n",
       "   'criterion': 'entropy'},\n",
       "  {'n_estimators': 157,\n",
       "   'min_samples_split': 9,\n",
       "   'min_samples_leaf': 6,\n",
       "   'max_features': 'sqrt',\n",
       "   'max_depth': 8,\n",
       "   'criterion': 'gini'},\n",
       "  {'n_estimators': 50,\n",
       "   'min_samples_split': 9,\n",
       "   'min_samples_leaf': 12,\n",
       "   'max_features': 'auto',\n",
       "   'max_depth': 10,\n",
       "   'criterion': 'gini'},\n",
       "  {'n_estimators': 71,\n",
       "   'min_samples_split': 7,\n",
       "   'min_samples_leaf': 5,\n",
       "   'max_features': 'auto',\n",
       "   'max_depth': 12,\n",
       "   'criterion': 'entropy'},\n",
       "  {'n_estimators': 50,\n",
       "   'min_samples_split': 3,\n",
       "   'min_samples_leaf': 8,\n",
       "   'max_features': 'sqrt',\n",
       "   'max_depth': 2,\n",
       "   'criterion': 'entropy'},\n",
       "  {'n_estimators': 60,\n",
       "   'min_samples_split': 4,\n",
       "   'min_samples_leaf': 7,\n",
       "   'max_features': 'auto',\n",
       "   'max_depth': 5,\n",
       "   'criterion': 'entropy'},\n",
       "  {'n_estimators': 71,\n",
       "   'min_samples_split': 10,\n",
       "   'min_samples_leaf': 9,\n",
       "   'max_features': 'auto',\n",
       "   'max_depth': 9,\n",
       "   'criterion': 'gini'},\n",
       "  {'n_estimators': 50,\n",
       "   'min_samples_split': 12,\n",
       "   'min_samples_leaf': 7,\n",
       "   'max_features': 'sqrt',\n",
       "   'max_depth': 2,\n",
       "   'criterion': 'gini'},\n",
       "  {'n_estimators': 146,\n",
       "   'min_samples_split': 8,\n",
       "   'min_samples_leaf': 11,\n",
       "   'max_features': 'sqrt',\n",
       "   'max_depth': 5,\n",
       "   'criterion': 'gini'},\n",
       "  {'n_estimators': 114,\n",
       "   'min_samples_split': 3,\n",
       "   'min_samples_leaf': 12,\n",
       "   'max_features': 'auto',\n",
       "   'max_depth': 7,\n",
       "   'criterion': 'gini'},\n",
       "  {'n_estimators': 82,\n",
       "   'min_samples_split': 10,\n",
       "   'min_samples_leaf': 12,\n",
       "   'max_features': 'sqrt',\n",
       "   'max_depth': 6,\n",
       "   'criterion': 'gini'},\n",
       "  {'n_estimators': 82,\n",
       "   'min_samples_split': 7,\n",
       "   'min_samples_leaf': 8,\n",
       "   'max_features': 'auto',\n",
       "   'max_depth': 4,\n",
       "   'criterion': 'gini'},\n",
       "  {'n_estimators': 146,\n",
       "   'min_samples_split': 12,\n",
       "   'min_samples_leaf': 7,\n",
       "   'max_features': 'log2',\n",
       "   'max_depth': 5,\n",
       "   'criterion': 'gini'},\n",
       "  {'n_estimators': 60,\n",
       "   'min_samples_split': 9,\n",
       "   'min_samples_leaf': 3,\n",
       "   'max_features': 'auto',\n",
       "   'max_depth': 10,\n",
       "   'criterion': 'entropy'},\n",
       "  {'n_estimators': 92,\n",
       "   'min_samples_split': 12,\n",
       "   'min_samples_leaf': 6,\n",
       "   'max_features': 'log2',\n",
       "   'max_depth': 7,\n",
       "   'criterion': 'entropy'},\n",
       "  {'n_estimators': 157,\n",
       "   'min_samples_split': 10,\n",
       "   'min_samples_leaf': 10,\n",
       "   'max_features': 'log2',\n",
       "   'max_depth': 5,\n",
       "   'criterion': 'entropy'},\n",
       "  {'n_estimators': 125,\n",
       "   'min_samples_split': 8,\n",
       "   'min_samples_leaf': 5,\n",
       "   'max_features': 'log2',\n",
       "   'max_depth': 4,\n",
       "   'criterion': 'entropy'},\n",
       "  {'n_estimators': 146,\n",
       "   'min_samples_split': 2,\n",
       "   'min_samples_leaf': 2,\n",
       "   'max_features': 'log2',\n",
       "   'max_depth': 3,\n",
       "   'criterion': 'gini'},\n",
       "  {'n_estimators': 135,\n",
       "   'min_samples_split': 12,\n",
       "   'min_samples_leaf': 10,\n",
       "   'max_features': 'auto',\n",
       "   'max_depth': 8,\n",
       "   'criterion': 'gini'},\n",
       "  {'n_estimators': 103,\n",
       "   'min_samples_split': 8,\n",
       "   'min_samples_leaf': 7,\n",
       "   'max_features': 'auto',\n",
       "   'max_depth': 4,\n",
       "   'criterion': 'gini'},\n",
       "  {'n_estimators': 189,\n",
       "   'min_samples_split': 3,\n",
       "   'min_samples_leaf': 10,\n",
       "   'max_features': 'sqrt',\n",
       "   'max_depth': 6,\n",
       "   'criterion': 'gini'},\n",
       "  {'n_estimators': 82,\n",
       "   'min_samples_split': 8,\n",
       "   'min_samples_leaf': 4,\n",
       "   'max_features': 'sqrt',\n",
       "   'max_depth': 11,\n",
       "   'criterion': 'gini'},\n",
       "  {'n_estimators': 178,\n",
       "   'min_samples_split': 11,\n",
       "   'min_samples_leaf': 3,\n",
       "   'max_features': 'sqrt',\n",
       "   'max_depth': 5,\n",
       "   'criterion': 'entropy'},\n",
       "  {'n_estimators': 125,\n",
       "   'min_samples_split': 6,\n",
       "   'min_samples_leaf': 7,\n",
       "   'max_features': 'auto',\n",
       "   'max_depth': 9,\n",
       "   'criterion': 'gini'},\n",
       "  {'n_estimators': 157,\n",
       "   'min_samples_split': 6,\n",
       "   'min_samples_leaf': 8,\n",
       "   'max_features': 'auto',\n",
       "   'max_depth': 4,\n",
       "   'criterion': 'gini'},\n",
       "  {'n_estimators': 103,\n",
       "   'min_samples_split': 10,\n",
       "   'min_samples_leaf': 8,\n",
       "   'max_features': 'sqrt',\n",
       "   'max_depth': 6,\n",
       "   'criterion': 'entropy'},\n",
       "  {'n_estimators': 60,\n",
       "   'min_samples_split': 8,\n",
       "   'min_samples_leaf': 10,\n",
       "   'max_features': 'sqrt',\n",
       "   'max_depth': 10,\n",
       "   'criterion': 'gini'},\n",
       "  {'n_estimators': 167,\n",
       "   'min_samples_split': 7,\n",
       "   'min_samples_leaf': 2,\n",
       "   'max_features': 'auto',\n",
       "   'max_depth': 11,\n",
       "   'criterion': 'entropy'},\n",
       "  {'n_estimators': 50,\n",
       "   'min_samples_split': 6,\n",
       "   'min_samples_leaf': 12,\n",
       "   'max_features': 'log2',\n",
       "   'max_depth': 2,\n",
       "   'criterion': 'entropy'},\n",
       "  {'n_estimators': 200,\n",
       "   'min_samples_split': 4,\n",
       "   'min_samples_leaf': 9,\n",
       "   'max_features': 'sqrt',\n",
       "   'max_depth': 4,\n",
       "   'criterion': 'entropy'},\n",
       "  {'n_estimators': 114,\n",
       "   'min_samples_split': 2,\n",
       "   'min_samples_leaf': 7,\n",
       "   'max_features': 'auto',\n",
       "   'max_depth': 2,\n",
       "   'criterion': 'entropy'},\n",
       "  {'n_estimators': 189,\n",
       "   'min_samples_split': 8,\n",
       "   'min_samples_leaf': 8,\n",
       "   'max_features': 'log2',\n",
       "   'max_depth': 10,\n",
       "   'criterion': 'gini'},\n",
       "  {'n_estimators': 125,\n",
       "   'min_samples_split': 11,\n",
       "   'min_samples_leaf': 6,\n",
       "   'max_features': 'sqrt',\n",
       "   'max_depth': 12,\n",
       "   'criterion': 'gini'},\n",
       "  {'n_estimators': 60,\n",
       "   'min_samples_split': 5,\n",
       "   'min_samples_leaf': 8,\n",
       "   'max_features': 'log2',\n",
       "   'max_depth': 11,\n",
       "   'criterion': 'entropy'},\n",
       "  {'n_estimators': 157,\n",
       "   'min_samples_split': 11,\n",
       "   'min_samples_leaf': 7,\n",
       "   'max_features': 'sqrt',\n",
       "   'max_depth': 11,\n",
       "   'criterion': 'entropy'},\n",
       "  {'n_estimators': 60,\n",
       "   'min_samples_split': 6,\n",
       "   'min_samples_leaf': 3,\n",
       "   'max_features': 'log2',\n",
       "   'max_depth': 5,\n",
       "   'criterion': 'entropy'},\n",
       "  {'n_estimators': 146,\n",
       "   'min_samples_split': 5,\n",
       "   'min_samples_leaf': 9,\n",
       "   'max_features': 'log2',\n",
       "   'max_depth': 9,\n",
       "   'criterion': 'gini'},\n",
       "  {'n_estimators': 60,\n",
       "   'min_samples_split': 11,\n",
       "   'min_samples_leaf': 3,\n",
       "   'max_features': 'auto',\n",
       "   'max_depth': 9,\n",
       "   'criterion': 'gini'},\n",
       "  {'n_estimators': 157,\n",
       "   'min_samples_split': 7,\n",
       "   'min_samples_leaf': 10,\n",
       "   'max_features': 'sqrt',\n",
       "   'max_depth': 6,\n",
       "   'criterion': 'entropy'},\n",
       "  {'n_estimators': 146,\n",
       "   'min_samples_split': 4,\n",
       "   'min_samples_leaf': 7,\n",
       "   'max_features': 'sqrt',\n",
       "   'max_depth': 4,\n",
       "   'criterion': 'gini'},\n",
       "  {'n_estimators': 125,\n",
       "   'min_samples_split': 10,\n",
       "   'min_samples_leaf': 8,\n",
       "   'max_features': 'auto',\n",
       "   'max_depth': 2,\n",
       "   'criterion': 'entropy'},\n",
       "  {'n_estimators': 146,\n",
       "   'min_samples_split': 3,\n",
       "   'min_samples_leaf': 2,\n",
       "   'max_features': 'sqrt',\n",
       "   'max_depth': 2,\n",
       "   'criterion': 'entropy'},\n",
       "  {'n_estimators': 71,\n",
       "   'min_samples_split': 2,\n",
       "   'min_samples_leaf': 5,\n",
       "   'max_features': 'sqrt',\n",
       "   'max_depth': 3,\n",
       "   'criterion': 'entropy'},\n",
       "  {'n_estimators': 200,\n",
       "   'min_samples_split': 2,\n",
       "   'min_samples_leaf': 3,\n",
       "   'max_features': 'log2',\n",
       "   'max_depth': 9,\n",
       "   'criterion': 'gini'},\n",
       "  {'n_estimators': 125,\n",
       "   'min_samples_split': 7,\n",
       "   'min_samples_leaf': 11,\n",
       "   'max_features': 'sqrt',\n",
       "   'max_depth': 12,\n",
       "   'criterion': 'entropy'},\n",
       "  {'n_estimators': 92,\n",
       "   'min_samples_split': 7,\n",
       "   'min_samples_leaf': 6,\n",
       "   'max_features': 'auto',\n",
       "   'max_depth': 2,\n",
       "   'criterion': 'gini'},\n",
       "  {'n_estimators': 157,\n",
       "   'min_samples_split': 5,\n",
       "   'min_samples_leaf': 2,\n",
       "   'max_features': 'auto',\n",
       "   'max_depth': 6,\n",
       "   'criterion': 'gini'},\n",
       "  {'n_estimators': 125,\n",
       "   'min_samples_split': 9,\n",
       "   'min_samples_leaf': 8,\n",
       "   'max_features': 'auto',\n",
       "   'max_depth': 11,\n",
       "   'criterion': 'entropy'},\n",
       "  {'n_estimators': 71,\n",
       "   'min_samples_split': 8,\n",
       "   'min_samples_leaf': 3,\n",
       "   'max_features': 'auto',\n",
       "   'max_depth': 10,\n",
       "   'criterion': 'gini'},\n",
       "  {'n_estimators': 167,\n",
       "   'min_samples_split': 11,\n",
       "   'min_samples_leaf': 2,\n",
       "   'max_features': 'sqrt',\n",
       "   'max_depth': 5,\n",
       "   'criterion': 'gini'},\n",
       "  {'n_estimators': 82,\n",
       "   'min_samples_split': 5,\n",
       "   'min_samples_leaf': 2,\n",
       "   'max_features': 'auto',\n",
       "   'max_depth': 11,\n",
       "   'criterion': 'entropy'},\n",
       "  {'n_estimators': 60,\n",
       "   'min_samples_split': 5,\n",
       "   'min_samples_leaf': 7,\n",
       "   'max_features': 'log2',\n",
       "   'max_depth': 5,\n",
       "   'criterion': 'gini'},\n",
       "  {'n_estimators': 125,\n",
       "   'min_samples_split': 4,\n",
       "   'min_samples_leaf': 4,\n",
       "   'max_features': 'log2',\n",
       "   'max_depth': 10,\n",
       "   'criterion': 'gini'},\n",
       "  {'n_estimators': 82,\n",
       "   'min_samples_split': 8,\n",
       "   'min_samples_leaf': 4,\n",
       "   'max_features': 'log2',\n",
       "   'max_depth': 9,\n",
       "   'criterion': 'gini'}],\n",
       " 'split0_test_score': array([0.88095238, 0.85714286, 0.9047619 , 0.88095238, 0.88095238,\n",
       "        0.83333333, 0.9047619 , 0.9047619 , 0.88095238, 0.9047619 ,\n",
       "        0.85714286, 0.88095238, 0.88095238, 0.9047619 , 0.88095238,\n",
       "        0.85714286, 0.9047619 , 0.85714286, 0.83333333, 0.85714286,\n",
       "        0.88095238, 0.9047619 , 0.85714286, 0.9047619 , 0.88095238,\n",
       "        0.88095238, 0.88095238, 0.85714286, 0.83333333, 0.83333333,\n",
       "        0.85714286, 0.85714286, 0.9047619 , 0.9047619 , 0.85714286,\n",
       "        0.85714286, 0.88095238, 0.80952381, 0.88095238, 0.88095238,\n",
       "        0.88095238, 0.9047619 , 0.85714286, 0.88095238, 0.85714286,\n",
       "        0.88095238, 0.9047619 , 0.88095238, 0.88095238, 0.88095238,\n",
       "        0.83333333, 0.88095238, 0.88095238, 0.80952381, 0.88095238,\n",
       "        0.85714286, 0.83333333, 0.9047619 , 0.9047619 , 0.88095238,\n",
       "        0.88095238, 0.83333333, 0.88095238, 0.85714286, 0.9047619 ,\n",
       "        0.88095238, 0.88095238, 0.85714286, 0.88095238, 0.9047619 ,\n",
       "        0.88095238, 0.85714286, 0.83333333, 0.9047619 , 0.80952381,\n",
       "        0.88095238, 0.78571429, 0.88095238, 0.9047619 , 0.83333333,\n",
       "        0.88095238, 0.88095238, 0.9047619 , 0.85714286, 0.88095238,\n",
       "        0.88095238, 0.80952381, 0.85714286, 0.85714286, 0.9047619 ,\n",
       "        0.88095238, 0.80952381, 0.85714286, 0.9047619 , 0.88095238,\n",
       "        0.85714286, 0.85714286, 0.88095238, 0.88095238, 0.88095238]),\n",
       " 'split1_test_score': array([0.78571429, 0.83333333, 0.80952381, 0.83333333, 0.80952381,\n",
       "        0.83333333, 0.83333333, 0.83333333, 0.83333333, 0.80952381,\n",
       "        0.83333333, 0.83333333, 0.80952381, 0.83333333, 0.83333333,\n",
       "        0.83333333, 0.80952381, 0.83333333, 0.83333333, 0.80952381,\n",
       "        0.80952381, 0.83333333, 0.83333333, 0.83333333, 0.83333333,\n",
       "        0.83333333, 0.83333333, 0.83333333, 0.78571429, 0.76190476,\n",
       "        0.83333333, 0.80952381, 0.83333333, 0.83333333, 0.83333333,\n",
       "        0.80952381, 0.83333333, 0.78571429, 0.83333333, 0.83333333,\n",
       "        0.85714286, 0.83333333, 0.83333333, 0.83333333, 0.80952381,\n",
       "        0.85714286, 0.85714286, 0.80952381, 0.80952381, 0.83333333,\n",
       "        0.80952381, 0.83333333, 0.83333333, 0.80952381, 0.80952381,\n",
       "        0.78571429, 0.83333333, 0.83333333, 0.80952381, 0.83333333,\n",
       "        0.83333333, 0.83333333, 0.85714286, 0.80952381, 0.83333333,\n",
       "        0.80952381, 0.83333333, 0.83333333, 0.80952381, 0.80952381,\n",
       "        0.83333333, 0.83333333, 0.80952381, 0.85714286, 0.83333333,\n",
       "        0.83333333, 0.85714286, 0.83333333, 0.80952381, 0.80952381,\n",
       "        0.83333333, 0.85714286, 0.80952381, 0.78571429, 0.83333333,\n",
       "        0.83333333, 0.83333333, 0.83333333, 0.80952381, 0.83333333,\n",
       "        0.80952381, 0.78571429, 0.85714286, 0.83333333, 0.78571429,\n",
       "        0.85714286, 0.80952381, 0.80952381, 0.83333333, 0.83333333]),\n",
       " 'split2_test_score': array([0.78571429, 0.80952381, 0.78571429, 0.80952381, 0.78571429,\n",
       "        0.80952381, 0.78571429, 0.80952381, 0.78571429, 0.78571429,\n",
       "        0.80952381, 0.78571429, 0.78571429, 0.78571429, 0.78571429,\n",
       "        0.80952381, 0.80952381, 0.78571429, 0.78571429, 0.78571429,\n",
       "        0.78571429, 0.78571429, 0.80952381, 0.78571429, 0.78571429,\n",
       "        0.78571429, 0.80952381, 0.78571429, 0.71428571, 0.78571429,\n",
       "        0.78571429, 0.78571429, 0.78571429, 0.76190476, 0.76190476,\n",
       "        0.85714286, 0.78571429, 0.73809524, 0.78571429, 0.76190476,\n",
       "        0.78571429, 0.76190476, 0.71428571, 0.80952381, 0.78571429,\n",
       "        0.80952381, 0.78571429, 0.78571429, 0.76190476, 0.80952381,\n",
       "        0.69047619, 0.78571429, 0.80952381, 0.71428571, 0.80952381,\n",
       "        0.76190476, 0.78571429, 0.78571429, 0.78571429, 0.78571429,\n",
       "        0.83333333, 0.78571429, 0.80952381, 0.78571429, 0.78571429,\n",
       "        0.78571429, 0.80952381, 0.83333333, 0.76190476, 0.80952381,\n",
       "        0.78571429, 0.80952381, 0.78571429, 0.83333333, 0.73809524,\n",
       "        0.78571429, 0.73809524, 0.78571429, 0.78571429, 0.76190476,\n",
       "        0.78571429, 0.76190476, 0.78571429, 0.78571429, 0.78571429,\n",
       "        0.80952381, 0.71428571, 0.76190476, 0.78571429, 0.78571429,\n",
       "        0.78571429, 0.73809524, 0.80952381, 0.78571429, 0.80952381,\n",
       "        0.78571429, 0.78571429, 0.78571429, 0.83333333, 0.80952381]),\n",
       " 'split3_test_score': array([0.78571429, 0.76190476, 0.76190476, 0.78571429, 0.73809524,\n",
       "        0.76190476, 0.78571429, 0.78571429, 0.80952381, 0.76190476,\n",
       "        0.76190476, 0.78571429, 0.80952381, 0.76190476, 0.76190476,\n",
       "        0.76190476, 0.78571429, 0.80952381, 0.78571429, 0.78571429,\n",
       "        0.73809524, 0.78571429, 0.78571429, 0.80952381, 0.80952381,\n",
       "        0.76190476, 0.78571429, 0.83333333, 0.85714286, 0.78571429,\n",
       "        0.78571429, 0.78571429, 0.76190476, 0.80952381, 0.78571429,\n",
       "        0.76190476, 0.78571429, 0.85714286, 0.78571429, 0.73809524,\n",
       "        0.76190476, 0.78571429, 0.73809524, 0.76190476, 0.80952381,\n",
       "        0.78571429, 0.73809524, 0.76190476, 0.80952381, 0.78571429,\n",
       "        0.78571429, 0.76190476, 0.80952381, 0.83333333, 0.78571429,\n",
       "        0.78571429, 0.78571429, 0.78571429, 0.76190476, 0.78571429,\n",
       "        0.78571429, 0.78571429, 0.78571429, 0.78571429, 0.73809524,\n",
       "        0.78571429, 0.76190476, 0.76190476, 0.76190476, 0.76190476,\n",
       "        0.78571429, 0.73809524, 0.76190476, 0.78571429, 0.85714286,\n",
       "        0.76190476, 0.80952381, 0.76190476, 0.76190476, 0.71428571,\n",
       "        0.76190476, 0.73809524, 0.76190476, 0.76190476, 0.78571429,\n",
       "        0.80952381, 0.83333333, 0.80952381, 0.80952381, 0.78571429,\n",
       "        0.80952381, 0.78571429, 0.76190476, 0.76190476, 0.76190476,\n",
       "        0.78571429, 0.78571429, 0.76190476, 0.78571429, 0.78571429]),\n",
       " 'split4_test_score': array([0.87804878, 0.92682927, 0.92682927, 0.90243902, 0.95121951,\n",
       "        0.90243902, 0.90243902, 0.95121951, 0.87804878, 0.87804878,\n",
       "        0.90243902, 0.95121951, 0.85365854, 0.92682927, 0.85365854,\n",
       "        0.80487805, 0.92682927, 0.87804878, 0.87804878, 0.80487805,\n",
       "        0.90243902, 0.90243902, 0.85365854, 0.82926829, 0.90243902,\n",
       "        0.92682927, 0.82926829, 0.82926829, 0.7804878 , 0.82926829,\n",
       "        0.7804878 , 0.92682927, 0.92682927, 0.85365854, 0.82926829,\n",
       "        0.87804878, 0.82926829, 0.75609756, 0.92682927, 0.90243902,\n",
       "        0.90243902, 0.90243902, 0.7804878 , 0.95121951, 0.95121951,\n",
       "        0.90243902, 0.95121951, 0.95121951, 0.80487805, 0.90243902,\n",
       "        0.75609756, 0.92682927, 0.90243902, 0.80487805, 0.92682927,\n",
       "        0.85365854, 0.80487805, 0.87804878, 0.95121951, 0.92682927,\n",
       "        0.95121951, 0.85365854, 0.87804878, 0.75609756, 0.90243902,\n",
       "        0.92682927, 0.92682927, 0.92682927, 0.90243902, 0.95121951,\n",
       "        0.87804878, 0.90243902, 0.92682927, 0.90243902, 0.7804878 ,\n",
       "        0.90243902, 0.80487805, 0.87804878, 0.85365854, 0.82926829,\n",
       "        0.95121951, 0.90243902, 0.90243902, 0.87804878, 0.87804878,\n",
       "        0.7804878 , 0.82926829, 0.80487805, 0.82926829, 0.92682927,\n",
       "        0.82926829, 0.82926829, 0.92682927, 0.85365854, 0.92682927,\n",
       "        0.90243902, 0.92682927, 0.90243902, 0.95121951, 0.85365854]),\n",
       " 'mean_test_score': array([0.8232288 , 0.83774681, 0.83774681, 0.84239257, 0.83310105,\n",
       "        0.82810685, 0.84239257, 0.85691057, 0.83751452, 0.82799071,\n",
       "        0.83286876, 0.84738676, 0.82787456, 0.84250871, 0.82311266,\n",
       "        0.81335656, 0.84727062, 0.83275261, 0.8232288 , 0.80859466,\n",
       "        0.82334495, 0.84239257, 0.82787456, 0.83252033, 0.84239257,\n",
       "        0.83774681, 0.82775842, 0.82775842, 0.7941928 , 0.79918699,\n",
       "        0.80847851, 0.8329849 , 0.84250871, 0.83263647, 0.81347271,\n",
       "        0.83275261, 0.82299652, 0.78931475, 0.84250871, 0.82334495,\n",
       "        0.83763066, 0.83763066, 0.78466899, 0.84738676, 0.84262485,\n",
       "        0.84715447, 0.84738676, 0.83786295, 0.81335656, 0.84239257,\n",
       "        0.77502904, 0.83774681, 0.84715447, 0.79430894, 0.84250871,\n",
       "        0.80882695, 0.80859466, 0.83751452, 0.84262485, 0.84250871,\n",
       "        0.85691057, 0.81835075, 0.84227642, 0.79883856, 0.83286876,\n",
       "        0.83774681, 0.84250871, 0.84250871, 0.82334495, 0.84738676,\n",
       "        0.83275261, 0.82810685, 0.82346109, 0.85667828, 0.80371661,\n",
       "        0.83286876, 0.79907085, 0.82799071, 0.82311266, 0.78966318,\n",
       "        0.84262485, 0.82810685, 0.83286876, 0.81370499, 0.83275261,\n",
       "        0.82276423, 0.8039489 , 0.81335656, 0.81823461, 0.84727062,\n",
       "        0.82299652, 0.78966318, 0.84250871, 0.82787456, 0.8329849 ,\n",
       "        0.83763066, 0.8329849 , 0.82810685, 0.85691057, 0.83263647]),\n",
       " 'std_test_score': array([0.04595489, 0.05455259, 0.06585233, 0.04351388, 0.07492559,\n",
       "        0.04540474, 0.05291963, 0.06173205, 0.03745424, 0.05458077,\n",
       "        0.04692621, 0.06278914, 0.03444723, 0.06448598, 0.04365316,\n",
       "        0.03178104, 0.05705024, 0.03286075, 0.03471055, 0.02614814,\n",
       "        0.06074388, 0.05291963, 0.02707576, 0.03987412, 0.04351388,\n",
       "        0.06046699, 0.03150609, 0.02321893, 0.04927382, 0.02765447,\n",
       "        0.03100284, 0.05368392, 0.06448598, 0.04728987, 0.03458557,\n",
       "        0.04195356, 0.03545419, 0.04183023, 0.05499686, 0.06436873,\n",
       "        0.05456619, 0.0585746 , 0.0543343 , 0.0645696 , 0.0590487 ,\n",
       "        0.04356469, 0.07735174, 0.06928008, 0.03825637, 0.04351388,\n",
       "        0.0494187 , 0.06046699, 0.03800484, 0.04123423, 0.05289515,\n",
       "        0.03902404, 0.02137681, 0.04806089, 0.07280665, 0.05499686,\n",
       "        0.05595153, 0.02766179, 0.03812745, 0.03371899, 0.06513743,\n",
       "        0.05659277, 0.05702115, 0.05289515, 0.05884778, 0.06963839,\n",
       "        0.04195356, 0.05448504, 0.05690464, 0.04469267, 0.04149935,\n",
       "        0.05368744, 0.03850135, 0.04794568, 0.05085145, 0.04543651,\n",
       "        0.06797452, 0.06579638, 0.05968763, 0.04533695, 0.04195356,\n",
       "        0.03357225, 0.04569142, 0.03178104, 0.02385339, 0.05900413,\n",
       "        0.03209738, 0.03050721, 0.05499686, 0.05046935, 0.0615548 ,\n",
       "        0.04550208, 0.05368392, 0.05448504, 0.05595153, 0.0332046 ]),\n",
       " 'rank_test_score': array([ 71,  31,  31,  24,  41,  56,  24,   3,  39,  60,  45,   5,  62,\n",
       "         16,  73,  82,   9,  49,  71,  86,  68,  24,  62,  55,  24,  31,\n",
       "         66,  65,  95,  91,  88,  42,  16,  53,  81,  49,  75,  98,  16,\n",
       "         68,  36,  36,  99,   5,  13,  11,   5,  30,  82,  24, 100,  31,\n",
       "         11,  94,  16,  85,  86,  39,  13,  16,   1,  78,  29,  93,  45,\n",
       "         31,  16,  16,  68,   5,  49,  56,  67,   4,  90,  45,  92,  60,\n",
       "         73,  96,  13,  56,  45,  80,  49,  77,  89,  82,  79,   9,  75,\n",
       "         96,  16,  62,  42,  36,  42,  56,   1,  53])}"
      ]
     },
     "execution_count": 47,
     "metadata": {},
     "output_type": "execute_result"
    }
   ],
   "source": [
    "rmcv.cv_results_"
   ]
  },
  {
   "cell_type": "code",
   "execution_count": 48,
   "id": "5d4234f0",
   "metadata": {},
   "outputs": [],
   "source": [
    "result = pd.DataFrame(rmcv.cv_results_)"
   ]
  },
  {
   "cell_type": "code",
   "execution_count": 49,
   "id": "f903defe",
   "metadata": {},
   "outputs": [
    {
     "data": {
      "text/html": [
       "<div>\n",
       "<style scoped>\n",
       "    .dataframe tbody tr th:only-of-type {\n",
       "        vertical-align: middle;\n",
       "    }\n",
       "\n",
       "    .dataframe tbody tr th {\n",
       "        vertical-align: top;\n",
       "    }\n",
       "\n",
       "    .dataframe thead th {\n",
       "        text-align: right;\n",
       "    }\n",
       "</style>\n",
       "<table border=\"1\" class=\"dataframe\">\n",
       "  <thead>\n",
       "    <tr style=\"text-align: right;\">\n",
       "      <th></th>\n",
       "      <th>mean_fit_time</th>\n",
       "      <th>std_fit_time</th>\n",
       "      <th>mean_score_time</th>\n",
       "      <th>std_score_time</th>\n",
       "      <th>param_n_estimators</th>\n",
       "      <th>param_min_samples_split</th>\n",
       "      <th>param_min_samples_leaf</th>\n",
       "      <th>param_max_features</th>\n",
       "      <th>param_max_depth</th>\n",
       "      <th>param_criterion</th>\n",
       "      <th>params</th>\n",
       "      <th>split0_test_score</th>\n",
       "      <th>split1_test_score</th>\n",
       "      <th>split2_test_score</th>\n",
       "      <th>split3_test_score</th>\n",
       "      <th>split4_test_score</th>\n",
       "      <th>mean_test_score</th>\n",
       "      <th>std_test_score</th>\n",
       "      <th>rank_test_score</th>\n",
       "    </tr>\n",
       "  </thead>\n",
       "  <tbody>\n",
       "    <tr>\n",
       "      <th>0</th>\n",
       "      <td>0.124970</td>\n",
       "      <td>0.000003</td>\n",
       "      <td>0.012498</td>\n",
       "      <td>0.006249</td>\n",
       "      <td>60</td>\n",
       "      <td>4</td>\n",
       "      <td>10</td>\n",
       "      <td>auto</td>\n",
       "      <td>9</td>\n",
       "      <td>entropy</td>\n",
       "      <td>{'n_estimators': 60, 'min_samples_split': 4, '...</td>\n",
       "      <td>0.880952</td>\n",
       "      <td>0.785714</td>\n",
       "      <td>0.785714</td>\n",
       "      <td>0.785714</td>\n",
       "      <td>0.878049</td>\n",
       "      <td>0.823229</td>\n",
       "      <td>0.045955</td>\n",
       "      <td>71</td>\n",
       "    </tr>\n",
       "    <tr>\n",
       "      <th>1</th>\n",
       "      <td>0.335356</td>\n",
       "      <td>0.016063</td>\n",
       "      <td>0.031250</td>\n",
       "      <td>0.000015</td>\n",
       "      <td>167</td>\n",
       "      <td>5</td>\n",
       "      <td>9</td>\n",
       "      <td>auto</td>\n",
       "      <td>12</td>\n",
       "      <td>gini</td>\n",
       "      <td>{'n_estimators': 167, 'min_samples_split': 5, ...</td>\n",
       "      <td>0.857143</td>\n",
       "      <td>0.833333</td>\n",
       "      <td>0.809524</td>\n",
       "      <td>0.761905</td>\n",
       "      <td>0.926829</td>\n",
       "      <td>0.837747</td>\n",
       "      <td>0.054553</td>\n",
       "      <td>31</td>\n",
       "    </tr>\n",
       "    <tr>\n",
       "      <th>2</th>\n",
       "      <td>0.193710</td>\n",
       "      <td>0.007661</td>\n",
       "      <td>0.012490</td>\n",
       "      <td>0.006245</td>\n",
       "      <td>92</td>\n",
       "      <td>7</td>\n",
       "      <td>3</td>\n",
       "      <td>log2</td>\n",
       "      <td>12</td>\n",
       "      <td>entropy</td>\n",
       "      <td>{'n_estimators': 92, 'min_samples_split': 7, '...</td>\n",
       "      <td>0.904762</td>\n",
       "      <td>0.809524</td>\n",
       "      <td>0.785714</td>\n",
       "      <td>0.761905</td>\n",
       "      <td>0.926829</td>\n",
       "      <td>0.837747</td>\n",
       "      <td>0.065852</td>\n",
       "      <td>31</td>\n",
       "    </tr>\n",
       "    <tr>\n",
       "      <th>3</th>\n",
       "      <td>0.391228</td>\n",
       "      <td>0.008825</td>\n",
       "      <td>0.031247</td>\n",
       "      <td>0.000012</td>\n",
       "      <td>200</td>\n",
       "      <td>2</td>\n",
       "      <td>7</td>\n",
       "      <td>sqrt</td>\n",
       "      <td>12</td>\n",
       "      <td>entropy</td>\n",
       "      <td>{'n_estimators': 200, 'min_samples_split': 2, ...</td>\n",
       "      <td>0.880952</td>\n",
       "      <td>0.833333</td>\n",
       "      <td>0.809524</td>\n",
       "      <td>0.785714</td>\n",
       "      <td>0.902439</td>\n",
       "      <td>0.842393</td>\n",
       "      <td>0.043514</td>\n",
       "      <td>24</td>\n",
       "    </tr>\n",
       "    <tr>\n",
       "      <th>4</th>\n",
       "      <td>0.248352</td>\n",
       "      <td>0.010382</td>\n",
       "      <td>0.018746</td>\n",
       "      <td>0.006248</td>\n",
       "      <td>125</td>\n",
       "      <td>5</td>\n",
       "      <td>6</td>\n",
       "      <td>log2</td>\n",
       "      <td>10</td>\n",
       "      <td>gini</td>\n",
       "      <td>{'n_estimators': 125, 'min_samples_split': 5, ...</td>\n",
       "      <td>0.880952</td>\n",
       "      <td>0.809524</td>\n",
       "      <td>0.785714</td>\n",
       "      <td>0.738095</td>\n",
       "      <td>0.951220</td>\n",
       "      <td>0.833101</td>\n",
       "      <td>0.074926</td>\n",
       "      <td>41</td>\n",
       "    </tr>\n",
       "    <tr>\n",
       "      <th>...</th>\n",
       "      <td>...</td>\n",
       "      <td>...</td>\n",
       "      <td>...</td>\n",
       "      <td>...</td>\n",
       "      <td>...</td>\n",
       "      <td>...</td>\n",
       "      <td>...</td>\n",
       "      <td>...</td>\n",
       "      <td>...</td>\n",
       "      <td>...</td>\n",
       "      <td>...</td>\n",
       "      <td>...</td>\n",
       "      <td>...</td>\n",
       "      <td>...</td>\n",
       "      <td>...</td>\n",
       "      <td>...</td>\n",
       "      <td>...</td>\n",
       "      <td>...</td>\n",
       "      <td>...</td>\n",
       "    </tr>\n",
       "    <tr>\n",
       "      <th>95</th>\n",
       "      <td>0.340808</td>\n",
       "      <td>0.018562</td>\n",
       "      <td>0.028922</td>\n",
       "      <td>0.002076</td>\n",
       "      <td>167</td>\n",
       "      <td>11</td>\n",
       "      <td>2</td>\n",
       "      <td>sqrt</td>\n",
       "      <td>5</td>\n",
       "      <td>gini</td>\n",
       "      <td>{'n_estimators': 167, 'min_samples_split': 11,...</td>\n",
       "      <td>0.857143</td>\n",
       "      <td>0.857143</td>\n",
       "      <td>0.785714</td>\n",
       "      <td>0.785714</td>\n",
       "      <td>0.902439</td>\n",
       "      <td>0.837631</td>\n",
       "      <td>0.045502</td>\n",
       "      <td>36</td>\n",
       "    </tr>\n",
       "    <tr>\n",
       "      <th>96</th>\n",
       "      <td>0.207442</td>\n",
       "      <td>0.025064</td>\n",
       "      <td>0.016356</td>\n",
       "      <td>0.001954</td>\n",
       "      <td>82</td>\n",
       "      <td>5</td>\n",
       "      <td>2</td>\n",
       "      <td>auto</td>\n",
       "      <td>11</td>\n",
       "      <td>entropy</td>\n",
       "      <td>{'n_estimators': 82, 'min_samples_split': 5, '...</td>\n",
       "      <td>0.857143</td>\n",
       "      <td>0.809524</td>\n",
       "      <td>0.785714</td>\n",
       "      <td>0.785714</td>\n",
       "      <td>0.926829</td>\n",
       "      <td>0.832985</td>\n",
       "      <td>0.053684</td>\n",
       "      <td>42</td>\n",
       "    </tr>\n",
       "    <tr>\n",
       "      <th>97</th>\n",
       "      <td>0.145611</td>\n",
       "      <td>0.013728</td>\n",
       "      <td>0.013958</td>\n",
       "      <td>0.001266</td>\n",
       "      <td>60</td>\n",
       "      <td>5</td>\n",
       "      <td>7</td>\n",
       "      <td>log2</td>\n",
       "      <td>5</td>\n",
       "      <td>gini</td>\n",
       "      <td>{'n_estimators': 60, 'min_samples_split': 5, '...</td>\n",
       "      <td>0.880952</td>\n",
       "      <td>0.809524</td>\n",
       "      <td>0.785714</td>\n",
       "      <td>0.761905</td>\n",
       "      <td>0.902439</td>\n",
       "      <td>0.828107</td>\n",
       "      <td>0.054485</td>\n",
       "      <td>56</td>\n",
       "    </tr>\n",
       "    <tr>\n",
       "      <th>98</th>\n",
       "      <td>0.291211</td>\n",
       "      <td>0.013937</td>\n",
       "      <td>0.020873</td>\n",
       "      <td>0.003252</td>\n",
       "      <td>125</td>\n",
       "      <td>4</td>\n",
       "      <td>4</td>\n",
       "      <td>log2</td>\n",
       "      <td>10</td>\n",
       "      <td>gini</td>\n",
       "      <td>{'n_estimators': 125, 'min_samples_split': 4, ...</td>\n",
       "      <td>0.880952</td>\n",
       "      <td>0.833333</td>\n",
       "      <td>0.833333</td>\n",
       "      <td>0.785714</td>\n",
       "      <td>0.951220</td>\n",
       "      <td>0.856911</td>\n",
       "      <td>0.055952</td>\n",
       "      <td>1</td>\n",
       "    </tr>\n",
       "    <tr>\n",
       "      <th>99</th>\n",
       "      <td>0.177163</td>\n",
       "      <td>0.013540</td>\n",
       "      <td>0.013547</td>\n",
       "      <td>0.003741</td>\n",
       "      <td>82</td>\n",
       "      <td>8</td>\n",
       "      <td>4</td>\n",
       "      <td>log2</td>\n",
       "      <td>9</td>\n",
       "      <td>gini</td>\n",
       "      <td>{'n_estimators': 82, 'min_samples_split': 8, '...</td>\n",
       "      <td>0.880952</td>\n",
       "      <td>0.833333</td>\n",
       "      <td>0.809524</td>\n",
       "      <td>0.785714</td>\n",
       "      <td>0.853659</td>\n",
       "      <td>0.832636</td>\n",
       "      <td>0.033205</td>\n",
       "      <td>53</td>\n",
       "    </tr>\n",
       "  </tbody>\n",
       "</table>\n",
       "<p>100 rows × 19 columns</p>\n",
       "</div>"
      ],
      "text/plain": [
       "    mean_fit_time  std_fit_time  mean_score_time  std_score_time  \\\n",
       "0        0.124970      0.000003         0.012498        0.006249   \n",
       "1        0.335356      0.016063         0.031250        0.000015   \n",
       "2        0.193710      0.007661         0.012490        0.006245   \n",
       "3        0.391228      0.008825         0.031247        0.000012   \n",
       "4        0.248352      0.010382         0.018746        0.006248   \n",
       "..            ...           ...              ...             ...   \n",
       "95       0.340808      0.018562         0.028922        0.002076   \n",
       "96       0.207442      0.025064         0.016356        0.001954   \n",
       "97       0.145611      0.013728         0.013958        0.001266   \n",
       "98       0.291211      0.013937         0.020873        0.003252   \n",
       "99       0.177163      0.013540         0.013547        0.003741   \n",
       "\n",
       "   param_n_estimators param_min_samples_split param_min_samples_leaf  \\\n",
       "0                  60                       4                     10   \n",
       "1                 167                       5                      9   \n",
       "2                  92                       7                      3   \n",
       "3                 200                       2                      7   \n",
       "4                 125                       5                      6   \n",
       "..                ...                     ...                    ...   \n",
       "95                167                      11                      2   \n",
       "96                 82                       5                      2   \n",
       "97                 60                       5                      7   \n",
       "98                125                       4                      4   \n",
       "99                 82                       8                      4   \n",
       "\n",
       "   param_max_features param_max_depth param_criterion  \\\n",
       "0                auto               9         entropy   \n",
       "1                auto              12            gini   \n",
       "2                log2              12         entropy   \n",
       "3                sqrt              12         entropy   \n",
       "4                log2              10            gini   \n",
       "..                ...             ...             ...   \n",
       "95               sqrt               5            gini   \n",
       "96               auto              11         entropy   \n",
       "97               log2               5            gini   \n",
       "98               log2              10            gini   \n",
       "99               log2               9            gini   \n",
       "\n",
       "                                               params  split0_test_score  \\\n",
       "0   {'n_estimators': 60, 'min_samples_split': 4, '...           0.880952   \n",
       "1   {'n_estimators': 167, 'min_samples_split': 5, ...           0.857143   \n",
       "2   {'n_estimators': 92, 'min_samples_split': 7, '...           0.904762   \n",
       "3   {'n_estimators': 200, 'min_samples_split': 2, ...           0.880952   \n",
       "4   {'n_estimators': 125, 'min_samples_split': 5, ...           0.880952   \n",
       "..                                                ...                ...   \n",
       "95  {'n_estimators': 167, 'min_samples_split': 11,...           0.857143   \n",
       "96  {'n_estimators': 82, 'min_samples_split': 5, '...           0.857143   \n",
       "97  {'n_estimators': 60, 'min_samples_split': 5, '...           0.880952   \n",
       "98  {'n_estimators': 125, 'min_samples_split': 4, ...           0.880952   \n",
       "99  {'n_estimators': 82, 'min_samples_split': 8, '...           0.880952   \n",
       "\n",
       "    split1_test_score  split2_test_score  split3_test_score  \\\n",
       "0            0.785714           0.785714           0.785714   \n",
       "1            0.833333           0.809524           0.761905   \n",
       "2            0.809524           0.785714           0.761905   \n",
       "3            0.833333           0.809524           0.785714   \n",
       "4            0.809524           0.785714           0.738095   \n",
       "..                ...                ...                ...   \n",
       "95           0.857143           0.785714           0.785714   \n",
       "96           0.809524           0.785714           0.785714   \n",
       "97           0.809524           0.785714           0.761905   \n",
       "98           0.833333           0.833333           0.785714   \n",
       "99           0.833333           0.809524           0.785714   \n",
       "\n",
       "    split4_test_score  mean_test_score  std_test_score  rank_test_score  \n",
       "0            0.878049         0.823229        0.045955               71  \n",
       "1            0.926829         0.837747        0.054553               31  \n",
       "2            0.926829         0.837747        0.065852               31  \n",
       "3            0.902439         0.842393        0.043514               24  \n",
       "4            0.951220         0.833101        0.074926               41  \n",
       "..                ...              ...             ...              ...  \n",
       "95           0.902439         0.837631        0.045502               36  \n",
       "96           0.926829         0.832985        0.053684               42  \n",
       "97           0.902439         0.828107        0.054485               56  \n",
       "98           0.951220         0.856911        0.055952                1  \n",
       "99           0.853659         0.832636        0.033205               53  \n",
       "\n",
       "[100 rows x 19 columns]"
      ]
     },
     "execution_count": 49,
     "metadata": {},
     "output_type": "execute_result"
    }
   ],
   "source": [
    "result"
   ]
  },
  {
   "cell_type": "code",
   "execution_count": 50,
   "id": "a3f5a66c",
   "metadata": {},
   "outputs": [
    {
     "data": {
      "text/plain": [
       "0.8569105691056912"
      ]
     },
     "execution_count": 50,
     "metadata": {},
     "output_type": "execute_result"
    }
   ],
   "source": [
    "rmcv.best_score_"
   ]
  },
  {
   "cell_type": "code",
   "execution_count": 51,
   "id": "c5daf93d",
   "metadata": {},
   "outputs": [
    {
     "data": {
      "text/plain": [
       "{'n_estimators': 92,\n",
       " 'min_samples_split': 12,\n",
       " 'min_samples_leaf': 6,\n",
       " 'max_features': 'log2',\n",
       " 'max_depth': 7,\n",
       " 'criterion': 'entropy'}"
      ]
     },
     "execution_count": 51,
     "metadata": {},
     "output_type": "execute_result"
    }
   ],
   "source": [
    "rmcv.best_params_"
   ]
  },
  {
   "cell_type": "code",
   "execution_count": 52,
   "id": "6e87f744",
   "metadata": {},
   "outputs": [],
   "source": [
    "random_forest = rmcv.best_estimator_"
   ]
  },
  {
   "cell_type": "code",
   "execution_count": 53,
   "id": "72b74642",
   "metadata": {},
   "outputs": [
    {
     "data": {
      "text/plain": [
       "RandomForestClassifier(criterion='entropy', max_depth=7, max_features='log2',\n",
       "                       min_samples_leaf=6, min_samples_split=12,\n",
       "                       n_estimators=92)"
      ]
     },
     "execution_count": 53,
     "metadata": {},
     "output_type": "execute_result"
    }
   ],
   "source": [
    "random_forest"
   ]
  },
  {
   "cell_type": "code",
   "execution_count": 54,
   "id": "55f5d528",
   "metadata": {},
   "outputs": [
    {
     "data": {
      "text/plain": [
       "0.9111111111111111"
      ]
     },
     "execution_count": 54,
     "metadata": {},
     "output_type": "execute_result"
    }
   ],
   "source": [
    "random_forest.score(xtest,ytest)"
   ]
  },
  {
   "cell_type": "markdown",
   "id": "2a53beac",
   "metadata": {},
   "source": [
    " We can get better accuracy after tuning"
   ]
  },
  {
   "cell_type": "code",
   "execution_count": null,
   "id": "fa975be6",
   "metadata": {},
   "outputs": [],
   "source": []
  }
 ],
 "metadata": {
  "kernelspec": {
   "display_name": "Python 3",
   "language": "python",
   "name": "python3"
  },
  "language_info": {
   "codemirror_mode": {
    "name": "ipython",
    "version": 3
   },
   "file_extension": ".py",
   "mimetype": "text/x-python",
   "name": "python",
   "nbconvert_exporter": "python",
   "pygments_lexer": "ipython3",
   "version": "3.8.8"
  }
 },
 "nbformat": 4,
 "nbformat_minor": 5
}
